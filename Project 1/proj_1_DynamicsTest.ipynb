{
 "cells": [
  {
   "cell_type": "markdown",
   "metadata": {},
   "source": [
    "The notebook is meant to validate the performance of your dynamics module and should be named as:\n",
    "\n",
    "        proj_1_DynamicsTest.ipynb\n",
    "\n",
    "The notebook should contain:\n",
    "\n",
    "1. Code tests of **Euler's method**, **RK2**, and **RK4** with the function `dynamics_solve` using the simple population model problem\n",
    "\\begin{align}\n",
    "    \\dot P(t) = (B - D) P(t), \\qquad P(0) = P_0\n",
    "\\end{align}\n",
    "whose exact solution can be easily computed for any given initial data.\n",
    "    - Demonstrate that as long as the step size is chosen \"sufficiently small,\" the numerical solution can be made to agree with the exact solution as closely as one desires.\n",
    "    - Comment on what \"sufficiently small\" means for this system.  Is there a natural time scale in the problem to which the step size can be compared?  If the step size is small compared to this time scale, do the simulations work well?\n",
    "    - Make sure to include appropriate plots that make the results of all of your testing clear."
   ]
  },
  {
   "cell_type": "markdown",
   "metadata": {},
   "source": [
    "$$P(t) = P_0 e^{(B-D)t}$$"
   ]
  },
  {
   "cell_type": "code",
   "execution_count": null,
   "metadata": {},
   "outputs": [],
   "source": []
  }
 ],
 "metadata": {
  "kernelspec": {
   "display_name": "Python 3",
   "language": "python",
   "name": "python3"
  },
  "language_info": {
   "codemirror_mode": {
    "name": "ipython",
    "version": 3
   },
   "file_extension": ".py",
   "mimetype": "text/x-python",
   "name": "python",
   "nbconvert_exporter": "python",
   "pygments_lexer": "ipython3",
   "version": "3.8.6"
  }
 },
 "nbformat": 4,
 "nbformat_minor": 4
}
