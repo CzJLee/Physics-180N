{
 "cells": [
  {
   "cell_type": "markdown",
   "metadata": {},
   "source": [
    "# Week 2"
   ]
  },
  {
   "cell_type": "markdown",
   "metadata": {},
   "source": [
    "## What to turn in?\n",
    "\n",
    "(1) a module file named  ```python_problem_set.py```, containing all the function definitions \\*\n",
    "\n",
    "(2) a Jupyter Note book file named ```python-problem-set.ipynb```, containing only the test cases and explanations.\n",
    "\n",
    "(3) the pdf version of (2) ```python-problem-set.pdf``` \n",
    "\n",
    "<sub> \\* In case you're wondering, python allows underscores but not hyphens in module names </sub>\n",
    "\n",
    "\n",
    "### Attention:\n",
    "\n",
    "- Your function names must be precisely the same as specified in the assignment notebook, and your functions must take arguments in the same order as specified\n",
    "\n",
    "- If you wish, you can write your function definitions into the module directly, modifying the following steps appropriately"
   ]
  },
  {
   "cell_type": "markdown",
   "metadata": {},
   "source": [
    "### Step 1, solve the problems in Jupyter Notebook\n",
    "\n",
    "when the question is asking to write a function, please:\n",
    "\n",
    "(1) write the function in one or more cells\n",
    "\n",
    "(2) write at least one test case in another cell(s)\n",
    "\n",
    "for example:"
   ]
  },
  {
   "cell_type": "code",
   "execution_count": 1,
   "metadata": {},
   "outputs": [],
   "source": [
    "# this is the function definition cell\n",
    "def volume_of_cylinder(h,r):\n",
    "    S=3.14159*r**2\n",
    "    V=S*h\n",
    "    return V"
   ]
  },
  {
   "cell_type": "code",
   "execution_count": 2,
   "metadata": {},
   "outputs": [
    {
     "data": {
      "text/plain": [
       "70.685775"
      ]
     },
     "execution_count": 2,
     "metadata": {},
     "output_type": "execute_result"
    }
   ],
   "source": [
    "# this is a test case cell\n",
    "volume_of_cylinder(2.5,3.0)"
   ]
  },
  {
   "cell_type": "markdown",
   "metadata": {},
   "source": [
    "### Step 2, copy all the function definitions to python_problem_set.py\n",
    "\n",
    "create a module named python_problem_set.py\n",
    "\n",
    "copy the function definitions in Step 1-(1) to this module"
   ]
  },
  {
   "cell_type": "markdown",
   "metadata": {},
   "source": [
    "### Step 3, remove definitions in Jupyter Notebook, import the module\n",
    "\n",
    "As a result of step 2,\n",
    "\n",
    "you can now remove the function defination in your Jupyter Notebook.\n",
    "\n",
    "But remember to import the function from the module\n",
    "\n",
    "```python\n",
    "from my_module import volume_of_cylinder\n",
    "volume_of_cylinder(2.5,3.0)\n",
    "```"
   ]
  },
  {
   "cell_type": "markdown",
   "metadata": {},
   "source": [
    "## How to create a python module?\n",
    "\n",
    "(1) write your .py module in a seperate file (within the same folder)\n",
    "\n",
    "(2) import your module, and import your function here\n",
    "\n",
    "(3) run your function in this jupyter notebook"
   ]
  },
  {
   "cell_type": "code",
   "execution_count": 3,
   "metadata": {},
   "outputs": [],
   "source": [
    "# Import Statements\n",
    "import python_problem_set as ps\n",
    "from python_problem_set import test\n",
    "import matplotlib.pyplot as plt\n",
    "\n",
    "%matplotlib inline"
   ]
  },
  {
   "cell_type": "markdown",
   "metadata": {},
   "source": [
    "## Problem Group 1 - Recursion"
   ]
  },
  {
   "cell_type": "markdown",
   "metadata": {},
   "source": [
    "### Problem 1.1 - Factorial"
   ]
  },
  {
   "cell_type": "markdown",
   "metadata": {},
   "source": [
    "Recall that for any positive integer $n$, the product of $n$ with all positive integers less than $n$ is called $n$-**factorial** and is typically denoted $n!$.  By convention, the factorial is usually extended to $0$ by the definition $0! = 1$.  \n",
    "\n",
    "Define a recursive Python function \n",
    "\n",
    "    recursive_factorial\n",
    "\n",
    "that returns the factorial of any non-negative integer specified as its input."
   ]
  },
  {
   "cell_type": "code",
   "execution_count": 4,
   "metadata": {},
   "outputs": [
    {
     "name": "stdout",
     "output_type": "stream",
     "text": [
      "Expect recursive_factorial(5) to be 120\n",
      ">>> recursive_factorial(5)\n",
      "120 \n",
      "\n",
      "PASS: Output matches expected output.\n"
     ]
    }
   ],
   "source": [
    "test(ps.recursive_factorial, 5, 120)"
   ]
  },
  {
   "cell_type": "code",
   "execution_count": 5,
   "metadata": {},
   "outputs": [
    {
     "name": "stdout",
     "output_type": "stream",
     "text": [
      "Expect recursive_factorial(0) to be 1\n",
      ">>> recursive_factorial(0)\n",
      "1 \n",
      "\n",
      "PASS: Output matches expected output.\n"
     ]
    }
   ],
   "source": [
    "test(ps.recursive_factorial, 0, 1)"
   ]
  },
  {
   "cell_type": "markdown",
   "metadata": {},
   "source": [
    "### Problem 1.2 - Memoization"
   ]
  },
  {
   "cell_type": "markdown",
   "metadata": {},
   "source": [
    "a. Compare the performance of the memoized Fibonnacci function to the recursive Fibonnaacci function using either the `%%timeit` magic command or the `timeit` module."
   ]
  },
  {
   "cell_type": "code",
   "execution_count": 6,
   "metadata": {},
   "outputs": [],
   "source": [
    "def F(n):\n",
    "    if n == 1:\n",
    "        return 0\n",
    "    elif n == 2:\n",
    "        return 1\n",
    "    else:\n",
    "        return F(n - 1) + F(n - 2)\n",
    "    \n",
    "fib_memo = {}\n",
    "\n",
    "def F_memo(n):\n",
    "    \n",
    "    if n == 1:\n",
    "        return 0\n",
    "    elif n == 2:\n",
    "        return 1\n",
    "    elif n not in fib_memo :\n",
    "        fib_memo[n] = F_memo(n - 1) + F_memo(n - 2)\n",
    "    return fib_memo[n]"
   ]
  },
  {
   "cell_type": "code",
   "execution_count": 7,
   "metadata": {},
   "outputs": [
    {
     "name": "stdout",
     "output_type": "stream",
     "text": [
      "28.7 µs ± 1.9 µs per loop (mean ± std. dev. of 7 runs, 1000 loops each)\n"
     ]
    }
   ],
   "source": [
    "%%timeit -n 1000\n",
    "F(10)"
   ]
  },
  {
   "cell_type": "code",
   "execution_count": 8,
   "metadata": {},
   "outputs": [
    {
     "name": "stdout",
     "output_type": "stream",
     "text": [
      "321 ns ± 83.4 ns per loop (mean ± std. dev. of 7 runs, 1000 loops each)\n"
     ]
    }
   ],
   "source": [
    "%%timeit -n 1000\n",
    "F_memo(10)"
   ]
  },
  {
   "cell_type": "markdown",
   "metadata": {},
   "source": [
    "The memoized function `F_memo` took an average of `264 ns` per loop, whereas `F` took an average of `23,300 ns` per loop.*\n",
    "\n",
    "It is clear that `F_memo` is significantly faster in this case. \n",
    "\n",
    "**Times may fluctuate.*"
   ]
  },
  {
   "cell_type": "markdown",
   "metadata": {},
   "source": [
    "b. Define a memoized recursive Python function \n",
    "\n",
    "    recursive_factorial_memo\n",
    "\n",
    "and compare the performance of the memoized version to the un-memoized version using either the `%%timeit` magic command or the `timeit` module."
   ]
  },
  {
   "cell_type": "code",
   "execution_count": 9,
   "metadata": {},
   "outputs": [
    {
     "name": "stdout",
     "output_type": "stream",
     "text": [
      "Expect recursive_factorial_memo(5, {}) to be 120\n",
      ">>> recursive_factorial_memo(5, {})\n",
      "120 \n",
      "\n",
      "PASS: Output matches expected output.\n"
     ]
    }
   ],
   "source": [
    "fac_memo = {}\n",
    "test(ps.recursive_factorial_memo, (5, fac_memo), 120)"
   ]
  },
  {
   "cell_type": "code",
   "execution_count": 10,
   "metadata": {},
   "outputs": [
    {
     "name": "stdout",
     "output_type": "stream",
     "text": [
      "Expect recursive_factorial_memo(0, {}) to be 1\n",
      ">>> recursive_factorial_memo(0, {})\n",
      "1 \n",
      "\n",
      "PASS: Output matches expected output.\n"
     ]
    }
   ],
   "source": [
    "fac_memo = {}\n",
    "test(ps.recursive_factorial_memo, (0, fac_memo), 1)"
   ]
  },
  {
   "cell_type": "code",
   "execution_count": 11,
   "metadata": {},
   "outputs": [
    {
     "name": "stdout",
     "output_type": "stream",
     "text": [
      "4.87 µs ± 1.02 µs per loop (mean ± std. dev. of 7 runs, 1000 loops each)\n"
     ]
    }
   ],
   "source": [
    "%%timeit -n 1000\n",
    "ps.recursive_factorial(10)"
   ]
  },
  {
   "cell_type": "code",
   "execution_count": 12,
   "metadata": {},
   "outputs": [
    {
     "name": "stdout",
     "output_type": "stream",
     "text": [
      "834 ns ± 103 ns per loop (mean ± std. dev. of 7 runs, 1000 loops each)\n"
     ]
    }
   ],
   "source": [
    "%%timeit -n 1000\n",
    "ps.recursive_factorial_memo(10, fac_memo)"
   ]
  },
  {
   "cell_type": "markdown",
   "metadata": {},
   "source": [
    "The memoized function `recursive_factorial_memo` took an average of `343 ns` per loop, whereas `recursive_factorial` took an average of `2,740 ns` per loop.*\n",
    "\n",
    "It is clear that `recursive_factorial_memo` is significantly faster in this case. \n",
    "\n",
    "**Times may fluctuate.*"
   ]
  },
  {
   "cell_type": "markdown",
   "metadata": {},
   "source": [
    "c. Is there any difference in the performance gains in the two cases? Can you (briefly) try to explain why, or why not? "
   ]
  },
  {
   "cell_type": "markdown",
   "metadata": {},
   "source": [
    "Yes, from the results of the %%timeit functions, we can see that there is a performance difference between the memoized and non-memoized functions. \n",
    "\n",
    "The reason why we are getting faster results is becasue we are saving previously computed results for each input. Since the functions we are memoizing are one-to-one, we are able to simply return the previously calculated and saved result. Thus, in order to compute that same result again, we simply have to lookup the result in a cached dictionary. "
   ]
  },
  {
   "cell_type": "markdown",
   "metadata": {},
   "source": [
    "### Problem 1.3 - Binomial Coefficients"
   ]
  },
  {
   "cell_type": "markdown",
   "metadata": {},
   "source": [
    "Define two python functions \n",
    "\n",
    "    binomial_factorial \n",
    "and \n",
    "\n",
    "    binomial_recursive \n",
    "    \n",
    "that both take in integers $n$ and $k$ and compute the corresponding binomial coefficient, but for `binomial_factorial`, use your recursive factorial function defined Problem 1.1 to explicitly define the binomial coefficient, and for `binomial_recursive` directly use the recurrence relation above.  Make sure that the output of these functions is of type `int`!"
   ]
  },
  {
   "cell_type": "code",
   "execution_count": 13,
   "metadata": {},
   "outputs": [
    {
     "name": "stdout",
     "output_type": "stream",
     "text": [
      "Expect binomial_factorial(10, 7) to be 120\n",
      ">>> binomial_factorial(10, 7)\n",
      "120 \n",
      "\n",
      "PASS: Output matches expected output.\n"
     ]
    }
   ],
   "source": [
    "test(ps.binomial_factorial, (10, 7), 120)"
   ]
  },
  {
   "cell_type": "code",
   "execution_count": 14,
   "metadata": {},
   "outputs": [
    {
     "name": "stdout",
     "output_type": "stream",
     "text": [
      "Expect binomial_factorial(10, 0) to be 1\n",
      ">>> binomial_factorial(10, 0)\n",
      "1 \n",
      "\n",
      "PASS: Output matches expected output.\n"
     ]
    }
   ],
   "source": [
    "test(ps.binomial_factorial, (10, 0), 1)"
   ]
  },
  {
   "cell_type": "code",
   "execution_count": 15,
   "metadata": {},
   "outputs": [
    {
     "name": "stdout",
     "output_type": "stream",
     "text": [
      "Expect binomial_factorial(10, 10) to be 1\n",
      ">>> binomial_factorial(10, 10)\n",
      "1 \n",
      "\n",
      "PASS: Output matches expected output.\n"
     ]
    }
   ],
   "source": [
    "test(ps.binomial_factorial, (10, 10), 1)"
   ]
  },
  {
   "cell_type": "code",
   "execution_count": 16,
   "metadata": {},
   "outputs": [
    {
     "name": "stdout",
     "output_type": "stream",
     "text": [
      "Expect binomial_recursive(10, 7) to be 120\n",
      ">>> binomial_recursive(10, 7)\n",
      "120 \n",
      "\n",
      "PASS: Output matches expected output.\n"
     ]
    }
   ],
   "source": [
    "test(ps.binomial_recursive, (10, 7), 120)"
   ]
  },
  {
   "cell_type": "code",
   "execution_count": 17,
   "metadata": {},
   "outputs": [
    {
     "name": "stdout",
     "output_type": "stream",
     "text": [
      "Expect binomial_recursive(10, 0) to be 1\n",
      ">>> binomial_recursive(10, 0)\n",
      "1 \n",
      "\n",
      "PASS: Output matches expected output.\n"
     ]
    }
   ],
   "source": [
    "test(ps.binomial_recursive, (10, 0), 1)"
   ]
  },
  {
   "cell_type": "code",
   "execution_count": 18,
   "metadata": {},
   "outputs": [
    {
     "name": "stdout",
     "output_type": "stream",
     "text": [
      "Expect binomial_recursive(10, 10) to be 1\n",
      ">>> binomial_recursive(10, 10)\n",
      "1 \n",
      "\n",
      "PASS: Output matches expected output.\n"
     ]
    }
   ],
   "source": [
    "test(ps.binomial_recursive, (10, 10), 1)"
   ]
  },
  {
   "cell_type": "markdown",
   "metadata": {},
   "source": [
    "### Problem 1.4 - The Logistic Map\n",
    "\n",
    "Your recursive function might be too slow to run\n",
    "\n",
    "In that case, use the memoization method from problem 1.2 to accelerate it"
   ]
  },
  {
   "cell_type": "markdown",
   "metadata": {},
   "source": [
    "Define a python function \n",
    "\n",
    "    logistic\n",
    "\n",
    "that takes the parameters $n$ and $r$ as well as $x_0$, the inital value in the sequence, as inputs and recursively computes $x_n$."
   ]
  },
  {
   "cell_type": "code",
   "execution_count": 19,
   "metadata": {},
   "outputs": [
    {
     "name": "stdout",
     "output_type": "stream",
     "text": [
      "Expect logistic(10, 0.1, 0.5) to be 2.4309016841715593e-11\n",
      ">>> logistic(10, 0.1, 0.5)\n",
      "2.4309016841715593e-11 \n",
      "\n",
      "PASS: Output matches expected output.\n"
     ]
    }
   ],
   "source": [
    "# Test case where the population will eventually die, when r is between 0 and 1\n",
    "r = 0.1\n",
    "test(ps.logistic, (10, r, 0.5), 2.4309016841715593e-11)"
   ]
  },
  {
   "cell_type": "code",
   "execution_count": 20,
   "metadata": {
    "scrolled": true
   },
   "outputs": [
    {
     "name": "stdout",
     "output_type": "stream",
     "text": [
      "(r - 1) / r = 0.3333333333333333 \n",
      "\n",
      "Expect logistic(10, 1.5, 0.5) to be 0.3333973075663317\n",
      ">>> logistic(10, 1.5, 0.5)\n",
      "0.3333973075663317 \n",
      "\n",
      "PASS: Output matches expected output.\n"
     ]
    }
   ],
   "source": [
    "# Test case where population will quickly approach (r - 1) / r, when r is between 1 and 2\n",
    "r = 1.5\n",
    "print(f\"(r - 1) / r = {(r - 1) / r}\", \"\\n\")\n",
    "test(ps.logistic, (10, r, 0.5), 0.3333973075663317)"
   ]
  },
  {
   "cell_type": "markdown",
   "metadata": {},
   "source": [
    " Make five distinct plots $x_n$ as a function of $n$ for $x_0 = 0.5$ and $r = 0.5, 1.5, 2.5, 3.3, 3.5$ up to $n = 100$.  You should see qualitatively different behaviors for these various values of $r$ -- describe them."
   ]
  },
  {
   "cell_type": "code",
   "execution_count": 21,
   "metadata": {
    "scrolled": true
   },
   "outputs": [
    {
     "data": {
      "text/plain": [
       "[<matplotlib.lines.Line2D at 0x11318f0a0>]"
      ]
     },
     "execution_count": 21,
     "metadata": {},
     "output_type": "execute_result"
    },
    {
     "data": {
      "image/png": "[encoded data removed]",
      "text/plain": [
       "<Figure size 432x288 with 1 Axes>"
      ]
     },
     "metadata": {
      "needs_background": "light"
     },
     "output_type": "display_data"
    }
   ],
   "source": [
    "r = 0.5\n",
    "# With r between 0 and 1, the population will eventually die, independent of the initial population.\n",
    "n_val = list(range(1,101))\n",
    "x_n_val = list(ps.logistic_gen(100, r, 0.5))\n",
    "\n",
    "plt.xlabel('n')\n",
    "plt.ylabel('x_n')\n",
    "plt.title('Logistic Map for r = 0.5')\n",
    "\n",
    "plt.plot(n_val, x_n_val)"
   ]
  },
  {
   "cell_type": "code",
   "execution_count": 22,
   "metadata": {
    "scrolled": true
   },
   "outputs": [
    {
     "data": {
      "text/plain": [
       "[<matplotlib.lines.Line2D at 0x113266a30>]"
      ]
     },
     "execution_count": 22,
     "metadata": {},
     "output_type": "execute_result"
    },
    {
     "data": {
      "image/png": "[encoded data removed]",
      "text/plain": [
       "<Figure size 432x288 with 1 Axes>"
      ]
     },
     "metadata": {
      "needs_background": "light"
     },
     "output_type": "display_data"
    }
   ],
   "source": [
    "r = 1.5\n",
    "# With r between 1 and 2, the population will quickly approach the value (r - 1) / r, independent of the initial population.\n",
    "n_val = list(range(1,101))\n",
    "x_n_val = list(ps.logistic_gen(100, r, 0.5))\n",
    "\n",
    "plt.xlabel('n')\n",
    "plt.ylabel('x_n')\n",
    "plt.title('Logistic Map for r = 1.5')\n",
    "\n",
    "plt.plot(n_val, x_n_val)"
   ]
  },
  {
   "cell_type": "code",
   "execution_count": 23,
   "metadata": {},
   "outputs": [
    {
     "data": {
      "text/plain": [
       "[<matplotlib.lines.Line2D at 0x1132c9fd0>]"
      ]
     },
     "execution_count": 23,
     "metadata": {},
     "output_type": "execute_result"
    },
    {
     "data": {
      "image/png": "[encoded data removed]",
      "text/plain": [
       "<Figure size 432x288 with 1 Axes>"
      ]
     },
     "metadata": {
      "needs_background": "light"
     },
     "output_type": "display_data"
    }
   ],
   "source": [
    "r = 2.5\n",
    "# With r between 2 and 3, the population will also eventually approach the same value \n",
    "# (r - 1) / r, but first will fluctuate around that value for some time.\n",
    "n_val = list(range(1,101))\n",
    "x_n_val = list(ps.logistic_gen(100, r, 0.5))\n",
    "\n",
    "plt.xlabel('n')\n",
    "plt.ylabel('x_n')\n",
    "plt.title('Logistic Map for r = 2.5')\n",
    "\n",
    "plt.plot(n_val, x_n_val)"
   ]
  },
  {
   "cell_type": "code",
   "execution_count": 24,
   "metadata": {},
   "outputs": [
    {
     "data": {
      "text/plain": [
       "[<matplotlib.lines.Line2D at 0x113324880>]"
      ]
     },
     "execution_count": 24,
     "metadata": {},
     "output_type": "execute_result"
    },
    {
     "data": {
      "image/png": "[encoded data removed]",
      "text/plain": [
       "<Figure size 432x288 with 1 Axes>"
      ]
     },
     "metadata": {
      "needs_background": "light"
     },
     "output_type": "display_data"
    }
   ],
   "source": [
    "r = 3.3\n",
    "# With r between 3 and 1 + √6 ≈ 3.44949, from almost all initial conditions the population will approach permanent oscillations between two values. These two values are dependent on r.\n",
    "n_val = list(range(1,101))\n",
    "x_n_val = list(ps.logistic_gen(100, r, 0.5))\n",
    "\n",
    "plt.xlabel('n')\n",
    "plt.ylabel('x_n')\n",
    "plt.title('Logistic Map for r = 3.3')\n",
    "\n",
    "plt.plot(n_val, x_n_val)"
   ]
  },
  {
   "cell_type": "code",
   "execution_count": 25,
   "metadata": {
    "scrolled": true
   },
   "outputs": [
    {
     "data": {
      "text/plain": [
       "[<matplotlib.lines.Line2D at 0x11548f9a0>]"
      ]
     },
     "execution_count": 25,
     "metadata": {},
     "output_type": "execute_result"
    },
    {
     "data": {
      "image/png": "[encoded data removed]",
      "text/plain": [
       "<Figure size 432x288 with 1 Axes>"
      ]
     },
     "metadata": {
      "needs_background": "light"
     },
     "output_type": "display_data"
    }
   ],
   "source": [
    "r = 3.5\n",
    "# With r between 3.44949 and 3.54409 (approximately), from almost all initial conditions the population will approach permanent oscillations among four values.\n",
    "n_val = list(range(1,101))\n",
    "x_n_val = list(ps.logistic_gen(100, r, 0.5))\n",
    "\n",
    "plt.xlabel('n')\n",
    "plt.ylabel('x_n')\n",
    "plt.title('Logistic Map for r = 3.5')\n",
    "\n",
    "plt.plot(n_val, x_n_val)"
   ]
  },
  {
   "cell_type": "code",
   "execution_count": 26,
   "metadata": {},
   "outputs": [
    {
     "data": {
      "text/plain": [
       "[<matplotlib.lines.Line2D at 0x1154e3c70>]"
      ]
     },
     "execution_count": 26,
     "metadata": {},
     "output_type": "execute_result"
    },
    {
     "data": {
      "image/png": "[encoded data removed]",
      "text/plain": [
       "<Figure size 432x288 with 1 Axes>"
      ]
     },
     "metadata": {
      "needs_background": "light"
     },
     "output_type": "display_data"
    }
   ],
   "source": [
    "r = 3.9\n",
    "# Most values of r beyond 3.56995 exhibit chaotic behaviour.\n",
    "n_val = list(range(1,101))\n",
    "x_n_val = list(ps.logistic_gen(100, r, 0.5))\n",
    "\n",
    "plt.xlabel('n')\n",
    "plt.ylabel('x_n')\n",
    "plt.title('Logistic Map for r = 3.9')\n",
    "\n",
    "plt.plot(n_val, x_n_val)"
   ]
  },
  {
   "cell_type": "markdown",
   "metadata": {},
   "source": [
    "## Problem Group 2 - Searching for stuff\n"
   ]
  },
  {
   "cell_type": "markdown",
   "metadata": {},
   "source": [
    "### Problem 2.1 - Linear Search\n"
   ]
  },
  {
   "cell_type": "markdown",
   "metadata": {},
   "source": [
    "Do an internet search for \"**linear search**\" and read up on it.  Convince yourself that you know how it works, and write a function \n",
    "\n",
    "    linear_search \n",
    "\n",
    "that takes a list `L` of positive integers and a number `n` that may or may not be in the list as its input and outputs the list index of the number `n` by performing a linear search.  If the number isn't in the list, the function should print `The specific number is not in the list.` and should return nothing."
   ]
  },
  {
   "cell_type": "code",
   "execution_count": 27,
   "metadata": {},
   "outputs": [
    {
     "name": "stdout",
     "output_type": "stream",
     "text": [
      "Expect linear_search([2, 5, 8, 8, 10, 20, 2020], 10) to be 4\n",
      ">>> linear_search([2, 5, 8, 8, 10, 20, 2020], 10)\n",
      "4 \n",
      "\n",
      "PASS: Output matches expected output.\n"
     ]
    }
   ],
   "source": [
    "sample_list = [2, 5, 8, 8, 10, 20, 2020]\n",
    "test(ps.linear_search, (sample_list, 10), 4)"
   ]
  },
  {
   "cell_type": "code",
   "execution_count": 28,
   "metadata": {},
   "outputs": [
    {
     "name": "stdout",
     "output_type": "stream",
     "text": [
      "Expect linear_search([2, 5, 8, 8, 10, 20, 2020], 8) to be 2\n",
      ">>> linear_search([2, 5, 8, 8, 10, 20, 2020], 8)\n",
      "2 \n",
      "\n",
      "PASS: Output matches expected output.\n"
     ]
    }
   ],
   "source": [
    "test(ps.linear_search, (sample_list, 8), 2)"
   ]
  },
  {
   "cell_type": "code",
   "execution_count": 29,
   "metadata": {},
   "outputs": [
    {
     "name": "stdout",
     "output_type": "stream",
     "text": [
      "Expect linear_search([2, 5, 8, 8, 10, 20, 2020], 50) to be None\n",
      ">>> linear_search([2, 5, 8, 8, 10, 20, 2020], 50)\n",
      "The specific number is not in the list.\n",
      "None \n",
      "\n",
      "PASS: Output matches expected output.\n"
     ]
    }
   ],
   "source": [
    "test(ps.linear_search, (sample_list, 50), None)"
   ]
  },
  {
   "cell_type": "markdown",
   "metadata": {},
   "source": [
    "### Problem 2.2 - Bisection(Binary) Search"
   ]
  },
  {
   "cell_type": "markdown",
   "metadata": {},
   "source": [
    "Do an internet search for \"**bisection search**\" (aka **binary search**) and read up on it.  Convince yourself that you know how it works, and write a function \n",
    "\n",
    "    bisection_search\n",
    "\n",
    "that takes a sorted list `L` of positive integers **in ascending order** and a number `n` that may or may not be in the list as its input and outputs the list index of that number by performing a bisection search.  If the number isn't in the list, the function should print `The specific number is not in the list.` and should return nothing."
   ]
  },
  {
   "cell_type": "code",
   "execution_count": 30,
   "metadata": {},
   "outputs": [
    {
     "name": "stdout",
     "output_type": "stream",
     "text": [
      "Expect bisection_search([2, 3, 5, 7, 11, 13, 17, 19, 23, 29, 31, 37, 41, 43, 47, 53, 59, 61, 67, 71, 73, 79, 83, 89, 97], 79) to be 21\n",
      ">>> bisection_search([2, 3, 5, 7, 11, 13, 17, 19, 23, 29, 31, 37, 41, 43, 47, 53, 59, 61, 67, 71, 73, 79, 83, 89, 97], 79)\n",
      "21 \n",
      "\n",
      "PASS: Output matches expected output.\n"
     ]
    }
   ],
   "source": [
    "sample_list = [2, 3, 5, 7, 11, 13, 17, 19, 23, 29, 31, 37, 41, 43, 47, 53, 59, 61, 67, 71, 73, 79, 83, 89, 97] \n",
    "test(ps.bisection_search, (sample_list, 79), 21)"
   ]
  },
  {
   "cell_type": "code",
   "execution_count": 31,
   "metadata": {},
   "outputs": [
    {
     "name": "stdout",
     "output_type": "stream",
     "text": [
      "Expect bisection_search([2, 3, 5, 7, 11, 13, 17, 19, 23, 29, 31, 37, 41, 43, 47, 53, 59, 61, 67, 71, 73, 79, 83, 89, 97], 2) to be 0\n",
      ">>> bisection_search([2, 3, 5, 7, 11, 13, 17, 19, 23, 29, 31, 37, 41, 43, 47, 53, 59, 61, 67, 71, 73, 79, 83, 89, 97], 2)\n",
      "0 \n",
      "\n",
      "PASS: Output matches expected output.\n"
     ]
    }
   ],
   "source": [
    "test(ps.bisection_search, (sample_list, 2), 0)"
   ]
  },
  {
   "cell_type": "code",
   "execution_count": 32,
   "metadata": {},
   "outputs": [
    {
     "name": "stdout",
     "output_type": "stream",
     "text": [
      "Expect bisection_search([2, 3, 5, 7, 11, 13, 17, 19, 23, 29, 31, 37, 41, 43, 47, 53, 59, 61, 67, 71, 73, 79, 83, 89, 97], 50) to be None\n",
      ">>> bisection_search([2, 3, 5, 7, 11, 13, 17, 19, 23, 29, 31, 37, 41, 43, 47, 53, 59, 61, 67, 71, 73, 79, 83, 89, 97], 50)\n",
      "The specific number is not in the list.\n",
      "None \n",
      "\n",
      "PASS: Output matches expected output.\n"
     ]
    }
   ],
   "source": [
    "test(ps.bisection_search, (sample_list, 50), None)"
   ]
  },
  {
   "cell_type": "markdown",
   "metadata": {},
   "source": [
    "### Problem 2.3 - Bisection Root Finding"
   ]
  },
  {
   "cell_type": "markdown",
   "metadata": {},
   "source": [
    "Do an internet search for \"Bisection Root Finding\" and read up on it.  Convince yourself that you know how it works, and write a function \n",
    "\n",
    "    bisection_root \n",
    "    \n",
    "taking the following inputs:\n",
    "\n",
    "- A real-valued function `f` of a single real variable\n",
    "- A left-hand value `x_left`\n",
    "- A right-hand value `x_right`\n",
    "- A tolerance `epsilon`\n",
    "\n",
    "Provided `f` has a single root at some $x_0$ in the open interval $(x_\\mathrm{left}, x_\\mathrm{right})$ and is either an increasing or decreasing function on that interval, `bisection_root` should output the location of the root with an accuracy of $\\epsilon$."
   ]
  },
  {
   "cell_type": "code",
   "execution_count": 33,
   "metadata": {},
   "outputs": [],
   "source": [
    "def poly(x):\n",
    "    # Should have roots x = -2, 1, 5.\n",
    "    return (x**3 - 4 * x**2 - 7 * x + 10)\n",
    "\n",
    "def golden(x):\n",
    "    # The positive root should be the golden ratio\n",
    "    return (x**2 - x - 1)"
   ]
  },
  {
   "cell_type": "code",
   "execution_count": 34,
   "metadata": {},
   "outputs": [
    {
     "name": "stdout",
     "output_type": "stream",
     "text": [
      "Expect bisection_root(<function poly at 0x115513280>, 0, 2, 1e-06) to be 1\n",
      ">>> bisection_root(<function poly at 0x115513280>, 0, 2, 1e-06)\n",
      "Found root in 1 iterations.\n",
      "1.0 \n",
      "\n",
      "PASS: Output matches expected output.\n"
     ]
    }
   ],
   "source": [
    "test(ps.bisection_root, (poly, 0, 2, 0.000001), 1)"
   ]
  },
  {
   "cell_type": "code",
   "execution_count": 35,
   "metadata": {},
   "outputs": [
    {
     "name": "stdout",
     "output_type": "stream",
     "text": [
      "Expect bisection_root(<function poly at 0x115513280>, -4, -1, 1e-06) to be -2.0000000298023224\n",
      ">>> bisection_root(<function poly at 0x115513280>, -4, -1, 1e-06)\n",
      "Found root in 25 iterations.\n",
      "-2.0000000298023224 \n",
      "\n",
      "PASS: Output matches expected output.\n"
     ]
    }
   ],
   "source": [
    "test(ps.bisection_root, (poly, -4, -1, 0.000001), -2.0000000298023224)"
   ]
  },
  {
   "cell_type": "code",
   "execution_count": 36,
   "metadata": {},
   "outputs": [
    {
     "name": "stdout",
     "output_type": "stream",
     "text": [
      "Expect bisection_root(<function poly at 0x115513280>, 6, 10, 1e-06) to be None\n",
      ">>> bisection_root(<function poly at 0x115513280>, 6, 10, 1e-06)\n",
      "The function does not pass through zero for the given interval.\n",
      "None \n",
      "\n",
      "PASS: Output matches expected output.\n"
     ]
    }
   ],
   "source": [
    "test(ps.bisection_root, (poly, 6, 10, 0.000001), None)"
   ]
  },
  {
   "cell_type": "code",
   "execution_count": 37,
   "metadata": {},
   "outputs": [
    {
     "name": "stdout",
     "output_type": "stream",
     "text": [
      "Expect bisection_root(<function golden at 0x1155131f0>, 0, 2, 1e-06) to be 1.6180343627929688\n",
      ">>> bisection_root(<function golden at 0x1155131f0>, 0, 2, 1e-06)\n",
      "Found root in 18 iterations.\n",
      "1.6180343627929688 \n",
      "\n",
      "PASS: Output matches expected output.\n"
     ]
    }
   ],
   "source": [
    "test(ps.bisection_root, (golden, 0, 2, 0.000001), 1.6180343627929688)"
   ]
  },
  {
   "cell_type": "markdown",
   "metadata": {},
   "source": [
    "### Problem 2.4 - A Physical Application: Projectile Range Maximization"
   ]
  },
  {
   "cell_type": "markdown",
   "metadata": {},
   "source": [
    "Nancy is at the top of a hill located at the origin $(x,y,z) = (0, 0, 0)$.  She throws a baseball in the $x$-$y$ plane so that its initial velocity is $(v\\cos\\theta, v\\sin\\theta, 0)$ where $v>0$ is its initial speed.  The hill slopes down linearly away from the origin at an angle $\\phi$ below the $x$-axis.  The **range** of the basebell is the distance it travels in the $x$-direction before impacting the hill.  \n",
    "\n",
    "- Determine an expression for the range $r$ of the baseball in terms of $v, \\phi, \\theta$.\n",
    "- For a given $v$ and $\\phi$, determine the angle $\\theta$ at which the range is maximized.  You should find that it's independent of $v$.\n",
    "- Find a way use your bisection root finding function to computationally determine the maximum range of the baseball for $\\phi = 0, \\pi/8, \\pi/4, 3\\pi/8$, and check your numerical results against the exact results."
   ]
  },
  {
   "cell_type": "markdown",
   "metadata": {},
   "source": [
    "#### (1)\n",
    "Since we only care about the range in the x-direction, we can simplify this to a 2-D kinematics problem.\n",
    "\n",
    "Should I be assuming that $y$ is up, not $z$?\n",
    "\n",
    "The velocity in the x-direction is $v\\cos\\theta$, and it is thrown down a hill with a downward slope of angle $\\phi$.\n",
    "The ball also has an upward velocity of $v\\sin\\theta$.\n",
    "\n",
    "The range that the ball travels in the x-direction is:\n",
    "\n",
    "$$r = \\frac{v^2}{g \\cos^2 \\phi  }\\left ( \\sin \\left ( 2\\theta +\\phi  \\right ) +\\sin \\phi  \\right )$$"
   ]
  },
  {
   "cell_type": "markdown",
   "metadata": {},
   "source": [
    "#### (2)\n",
    "\n",
    "To maximize $r$ with respect to $\\theta$, we want to maximize $\\sin \\left ( 2\\theta +\\phi  \\right )$. \n",
    "\n",
    "In other words, find $\\theta$ when $\\sin \\left ( 2\\theta +\\phi  \\right ) = 1$.\n",
    "\n",
    "$$2 \\theta +\\phi = \\frac{\\pi }{2}$$\n",
    "\n",
    "$$\\theta = \\frac{\\pi }{4} - \\frac{\\phi }{2}$$"
   ]
  },
  {
   "cell_type": "markdown",
   "metadata": {},
   "source": [
    "#### (3) \n",
    "Solve:\n",
    "$$\\frac{dr}{d\\theta } = \\frac{d}{d\\theta } \\frac{v^2}{g \\cos^2 \\phi  }\\left ( \\sin \\left ( 2\\theta +\\phi  \\right ) +\\sin \\phi  \\right ) = 0$$\n",
    "\n",
    "$$\\frac{4v^2}{g}\\frac{\\cos\\left ( 2 \\theta + \\phi \\right )}{1 + \\cos\\left ( 2 \\phi \\right )} = 0 $$\n",
    "\n",
    "$$\\cos\\left ( 2 \\theta + \\phi \\right ) = 0$$"
   ]
  },
  {
   "cell_type": "code",
   "execution_count": 38,
   "metadata": {},
   "outputs": [],
   "source": [
    "import math\n",
    "def dr(phi):\n",
    "    return lambda theta: math.cos(2 * theta + phi)"
   ]
  },
  {
   "cell_type": "code",
   "execution_count": 39,
   "metadata": {},
   "outputs": [
    {
     "name": "stdout",
     "output_type": "stream",
     "text": [
      "Expect bisection_root(<function dr.<locals>.<lambda> at 0x11551b160>, 0, 1.5707963267948966, 1e-06) to be 0.7853981633974483\n",
      ">>> bisection_root(<function dr.<locals>.<lambda> at 0x11551b160>, 0, 1.5707963267948966, 1e-06)\n",
      "Found root in 1 iterations.\n",
      "0.7853981633974483 \n",
      "\n",
      "PASS: Output matches expected output.\n",
      "Expect 0.7853981633974483\n"
     ]
    }
   ],
   "source": [
    "phi = 0\n",
    "test(ps.bisection_root, (dr(phi), 0, math.pi/2, 0.000001), 0.7853981633974483)\n",
    "\n",
    "print(f\"Expect {math.pi / 4 - phi / 2}\")"
   ]
  },
  {
   "cell_type": "code",
   "execution_count": 40,
   "metadata": {},
   "outputs": [
    {
     "name": "stdout",
     "output_type": "stream",
     "text": [
      "Expect bisection_root(<function dr.<locals>.<lambda> at 0x11551baf0>, 0, 1.5707963267948966, 1e-06) to be 0.5890486225480862\n",
      ">>> bisection_root(<function dr.<locals>.<lambda> at 0x11551baf0>, 0, 1.5707963267948966, 1e-06)\n",
      "Found root in 3 iterations.\n",
      "0.5890486225480862 \n",
      "\n",
      "PASS: Output matches expected output.\n",
      "Expect 0.5890486225480862\n"
     ]
    }
   ],
   "source": [
    "phi = math.pi / 8\n",
    "test(ps.bisection_root, (dr(phi), 0, math.pi/2, 0.000001), 0.5890486225480862)\n",
    "\n",
    "print(f\"Expect {math.pi / 4 - phi / 2}\")"
   ]
  },
  {
   "cell_type": "code",
   "execution_count": 41,
   "metadata": {},
   "outputs": [
    {
     "name": "stdout",
     "output_type": "stream",
     "text": [
      "Expect bisection_root(<function dr.<locals>.<lambda> at 0x1155271f0>, 0, 1.5707963267948966, 1e-06) to be 0.39269908169872414\n",
      ">>> bisection_root(<function dr.<locals>.<lambda> at 0x1155271f0>, 0, 1.5707963267948966, 1e-06)\n",
      "Found root in 2 iterations.\n",
      "0.39269908169872414 \n",
      "\n",
      "PASS: Output matches expected output.\n",
      "Expect 0.39269908169872414\n"
     ]
    }
   ],
   "source": [
    "phi = math.pi / 4\n",
    "test(ps.bisection_root, (dr(phi), 0, math.pi/2, 0.000001), 0.39269908169872414)\n",
    "\n",
    "print(f\"Expect {math.pi / 4 - phi / 2}\")"
   ]
  },
  {
   "cell_type": "code",
   "execution_count": 42,
   "metadata": {},
   "outputs": [
    {
     "name": "stdout",
     "output_type": "stream",
     "text": [
      "Expect bisection_root(<function dr.<locals>.<lambda> at 0x115527670>, 0, 1.5707963267948966, 1e-06) to be 0.19634954084936207\n",
      ">>> bisection_root(<function dr.<locals>.<lambda> at 0x115527670>, 0, 1.5707963267948966, 1e-06)\n",
      "Found root in 3 iterations.\n",
      "0.19634954084936207 \n",
      "\n",
      "PASS: Output matches expected output.\n",
      "Expect 0.19634954084936207\n"
     ]
    }
   ],
   "source": [
    "phi = 3 * math.pi / 8\n",
    "test(ps.bisection_root, (dr(phi), 0, math.pi/2, 0.000001), 0.19634954084936207)\n",
    "\n",
    "print(f\"Expect {math.pi / 4 - phi / 2}\")"
   ]
  },
  {
   "cell_type": "markdown",
   "metadata": {},
   "source": [
    "## Problem Group 3 - Fun with primes"
   ]
  },
  {
   "cell_type": "markdown",
   "metadata": {},
   "source": [
    "### Problem 3.1 - Sieve of Eratosthenes"
   ]
  },
  {
   "cell_type": "markdown",
   "metadata": {},
   "source": [
    "Do an internet search for \"Sieve of Eratosthenes\" and read up on it.  Convince yourself that you understand how it works, then write a Python function \n",
    "\n",
    "    sieve_Eratosthenes\n",
    "    \n",
    "that takes an integer $n\\geq 2$ as its input and outputs a Python list all prime numbers less than or equal to $n$.  Make sure to test your function for some low $n$ for which the answer can easily be computed by hand."
   ]
  },
  {
   "cell_type": "code",
   "execution_count": 43,
   "metadata": {},
   "outputs": [
    {
     "name": "stdout",
     "output_type": "stream",
     "text": [
      "Expect sieve_Eratosthenes(100) to be [2, 3, 5, 7, 11, 13, 17, 19, 23, 29, 31, 37, 41, 43, 47, 53, 59, 61, 67, 71, 73, 79, 83, 89, 97]\n",
      ">>> sieve_Eratosthenes(100)\n",
      "[2, 3, 5, 7, 11, 13, 17, 19, 23, 29, 31, 37, 41, 43, 47, 53, 59, 61, 67, 71, 73, 79, 83, 89, 97] \n",
      "\n",
      "PASS: Output matches expected output.\n"
     ]
    }
   ],
   "source": [
    "primes_less_than_100 = [2, 3, 5, 7, 11, 13, 17, 19, 23, 29, 31, 37, 41, 43, 47, 53, 59, 61, 67, 71, 73, 79, 83, 89, 97]\n",
    "test(ps.sieve_Eratosthenes, 100, primes_less_than_100)"
   ]
  },
  {
   "cell_type": "markdown",
   "metadata": {},
   "source": [
    "### Problem 3.2 - Prime Factorization"
   ]
  },
  {
   "cell_type": "markdown",
   "metadata": {},
   "source": [
    "Write a Python function \n",
    "\n",
    "    prime_factors\n",
    "    \n",
    "with takes an integer $n\\geq 2$ as its input and outputs a Python list with the prime factors of $n$ as its output.  If a certain prime factor appears more than once, say $k$ times, in the prime factorization of $n$, then it should appear that many times in the list returned by your function.  For example, running your function on the number $250$ should yield the list `[2, 5, 5, 5]`."
   ]
  },
  {
   "cell_type": "code",
   "execution_count": 44,
   "metadata": {},
   "outputs": [
    {
     "name": "stdout",
     "output_type": "stream",
     "text": [
      "Expect prime_factors(250) to be [2, 5, 5, 5]\n",
      ">>> prime_factors(250)\n",
      "[2, 5, 5, 5] \n",
      "\n",
      "PASS: Output matches expected output.\n"
     ]
    }
   ],
   "source": [
    "prime_factors_of_250 = [2, 5, 5, 5]\n",
    "test(ps.prime_factors, 250, prime_factors_of_250)"
   ]
  },
  {
   "cell_type": "code",
   "execution_count": 45,
   "metadata": {},
   "outputs": [
    {
     "name": "stdout",
     "output_type": "stream",
     "text": [
      "Expect prime_factors(600851475143) to be [71, 839, 1471, 6857]\n",
      ">>> prime_factors(600851475143)\n",
      "[71, 839, 1471, 6857] \n",
      "\n",
      "PASS: Output matches expected output.\n"
     ]
    }
   ],
   "source": [
    "prime_factors_of_600851475143 = [71, 839, 1471, 6857]\n",
    "test(ps.prime_factors, 600851475143, prime_factors_of_600851475143)"
   ]
  },
  {
   "cell_type": "markdown",
   "metadata": {},
   "source": [
    "## Problem Group 4 - Weighty problem\n"
   ]
  },
  {
   "cell_type": "markdown",
   "metadata": {},
   "source": [
    "Work with your partner to solve this problem. Once you have a working solution, try to make it as efficient possible. \n",
    "\n",
    "Group codename:  (Replace this text with the codename for your group.  This can be any reasonably appropriate word with lowercase alphabet characters.  E.g., batman)"
   ]
  },
  {
   "cell_type": "markdown",
   "metadata": {},
   "source": [
    "A variant of a problem posed in the 16th century: \n",
    "\n",
    "A merchant had a forty pound measuring weight that broke into $n$ pieces as the result of a fall. When the pieces were subsequently weighed, it was found that the weight of each piece was a whole number of pounds and that the $n$ pieces could be used to weigh every integral weight between 1 and 40 pounds. What is the minimum value of $n$ and what were the weights of the pieces?\n",
    "\n",
    "\n",
    "(Remember that the merchant had a weighing scale and weights could be added to either side of the scale. \n",
    "\n"
   ]
  },
  {
   "cell_type": "markdown",
   "metadata": {},
   "source": [
    "This problem is known as \"The Weight Problem of Bachet de Meziriac\"\n",
    "\n",
    "It is important to note that an integral weight can be weighed by using a two sided scale, and a weight can be measured by placing pieces on both sides. So for some set of pieces, the weights we are able to measure is any combination of adding or subtracting the pieces, or not including them at all. \n",
    "\n",
    "For example, to calculate a total weight of `2`, using pieces `1` and `3`, we take `3 - 1 = 2`."
   ]
  },
  {
   "cell_type": "code",
   "execution_count": 46,
   "metadata": {},
   "outputs": [],
   "source": [
    "# O(1) Solution\n",
    "pieces = [1, 3, 9, 27]"
   ]
  },
  {
   "cell_type": "markdown",
   "metadata": {},
   "source": [
    "Solve by induction.\n",
    "\n",
    "In order to weigh every integral weight between 1 and 40 pounds, the first piece must be `1`.\n",
    "\n",
    "Consider a set of weights `a`, `b`, `c`. Let `n = a + b + c` be the sum of weights we currently have. The weight `n` is the maximum weight we can weigh with weights `a`, `b`, `c`. Assume that we can measure any weight `j` in the range `[1, n]` by some \n",
    "combination of `a`, `b`, and `c`.\n",
    "\n",
    "Let `p = 2n + 1`, be the next weight in the set. I claim that with the set of weights `a`, `b`, `c`, `p`, I can measure every weight less than or equal to `a + b + c + p`. \n",
    "\n",
    "Any weight in range `[n + 1, p - 1]` can be measured by the combination `p - j` where `j` some weight in the range `[1, n]`. \n",
    "\n",
    "Any weight in range `[p + 1, n + p]` can be measured by the combination `p + j`.\n",
    "\n",
    "Therefore, by adding weight `p`, we can measure any weight in the range `[1, a + b + c + p]`, completing induction."
   ]
  },
  {
   "cell_type": "code",
   "execution_count": 47,
   "metadata": {},
   "outputs": [
    {
     "name": "stdout",
     "output_type": "stream",
     "text": [
      "Expect weight_set(40) to be [1, 3, 9, 27]\n",
      ">>> weight_set(40)\n",
      "[1, 3, 9, 27] \n",
      "\n",
      "PASS: Output matches expected output.\n"
     ]
    }
   ],
   "source": [
    "test(ps.weight_set, (40), [1, 3, 9, 27])"
   ]
  },
  {
   "cell_type": "markdown",
   "metadata": {},
   "source": [
    "It just so happens that the solution by induction produces a set that sums to 40. "
   ]
  },
  {
   "cell_type": "code",
   "execution_count": 48,
   "metadata": {},
   "outputs": [
    {
     "name": "stdout",
     "output_type": "stream",
     "text": [
      "The solution works, and the sum of all pieces is the total weight of 40 pounds.\n",
      "The weight broke into 4 pieces.\n"
     ]
    }
   ],
   "source": [
    "pieces = ps.weight_set(40)\n",
    "if sum(pieces) == 40:\n",
    "    print(\"The solution works, and the sum of all pieces is the total weight of 40 pounds.\")\n",
    "    print(f\"The weight broke into {len(pieces)} pieces.\")\n",
    "else:\n",
    "    print(\"The sum of the pieces does not add to the total weight of 40 pounds.\")"
   ]
  }
 ],
 "metadata": {
  "anaconda-cloud": {},
  "kernelspec": {
   "display_name": "Python 3",
   "language": "python",
   "name": "python3"
  },
  "language_info": {
   "codemirror_mode": {
    "name": "ipython",
    "version": 3
   },
   "file_extension": ".py",
   "mimetype": "text/x-python",
   "name": "python",
   "nbconvert_exporter": "python",
   "pygments_lexer": "ipython3",
   "version": "3.8.6"
  }
 },
 "nbformat": 4,
 "nbformat_minor": 2
}
