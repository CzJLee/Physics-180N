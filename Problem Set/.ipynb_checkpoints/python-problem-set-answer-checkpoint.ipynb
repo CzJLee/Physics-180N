{
 "cells": [
  {
   "cell_type": "markdown",
   "metadata": {},
   "source": [
    "# Week 2"
   ]
  },
  {
   "cell_type": "markdown",
   "metadata": {},
   "source": [
    "## What to turn in?\n",
    "\n",
    "(1) a module file named  ```python_problem_set.py```, containing all the function definitions \\*\n",
    "\n",
    "(2) a Jupyter Note book file named ```python-problem-set.ipynb```, containing only the test cases and explanations.\n",
    "\n",
    "(3) the pdf version of (2) ```python-problem-set.pdf``` \n",
    "\n",
    "<sub> \\* In case you're wondering, python allows underscores but not hyphens in module names </sub>\n",
    "\n",
    "\n",
    "### Attention:\n",
    "\n",
    "- Your function names must be precisely the same as specified in the assignment notebook, and your functions must take arguments in the same order as specified\n",
    "\n",
    "- If you wish, you can write your function definitions into the module directly, modifying the following steps appropriately"
   ]
  },
  {
   "cell_type": "markdown",
   "metadata": {},
   "source": [
    "### Step 1, solve the problems in Jupyter Notebook\n",
    "\n",
    "when the question is asking to write a function, please:\n",
    "\n",
    "(1) write the function in one or more cells\n",
    "\n",
    "(2) write at least one test case in another cell(s)\n",
    "\n",
    "for example:"
   ]
  },
  {
   "cell_type": "code",
   "execution_count": 1,
   "metadata": {},
   "outputs": [],
   "source": [
    "# this is the function definition cell\n",
    "def volume_of_cylinder(h,r):\n",
    "    S=3.14159*r**2\n",
    "    V=S*h\n",
    "    return V"
   ]
  },
  {
   "cell_type": "code",
   "execution_count": 2,
   "metadata": {},
   "outputs": [
    {
     "data": {
      "text/plain": [
       "70.685775"
      ]
     },
     "execution_count": 2,
     "metadata": {},
     "output_type": "execute_result"
    }
   ],
   "source": [
    "# this is a test case cell\n",
    "volume_of_cylinder(2.5,3.0)"
   ]
  },
  {
   "cell_type": "markdown",
   "metadata": {},
   "source": [
    "### Step 2, copy all the function definitions to python_problem_set.py\n",
    "\n",
    "create a module named python_problem_set.py\n",
    "\n",
    "copy the function definitions in Step 1-(1) to this module"
   ]
  },
  {
   "cell_type": "markdown",
   "metadata": {},
   "source": [
    "### Step 3, remove definitions in Jupyter Notebook, import the module\n",
    "\n",
    "As a result of step 2,\n",
    "\n",
    "you can now remove the function defination in your Jupyter Notebook.\n",
    "\n",
    "But remember to import the function from the module\n",
    "\n",
    "```python\n",
    "from my_module import volume_of_cylinder\n",
    "volume_of_cylinder(2.5,3.0)\n",
    "```"
   ]
  },
  {
   "cell_type": "markdown",
   "metadata": {},
   "source": [
    "## How to create a python module?\n",
    "\n",
    "(1) write your .py module in a seperate file (within the same folder)\n",
    "\n",
    "(2) import your module, and import your function here\n",
    "\n",
    "(3) run your function in this jupyter notebook"
   ]
  },
  {
   "cell_type": "code",
   "execution_count": 3,
   "metadata": {},
   "outputs": [],
   "source": [
    "# Import Statements\n",
    "import python_problem_set as ps\n",
    "from python_problem_set import test\n",
    "import matplotlib.pyplot as plt\n",
    "\n",
    "%matplotlib inline"
   ]
  },
  {
   "cell_type": "markdown",
   "metadata": {},
   "source": [
    "## Problem Group 1 - Recursion"
   ]
  },
  {
   "cell_type": "markdown",
   "metadata": {},
   "source": [
    "### Problem 1.1 - Factorial"
   ]
  },
  {
   "cell_type": "markdown",
   "metadata": {},
   "source": [
    "Recall that for any positive integer $n$, the product of $n$ with all positive integers less than $n$ is called $n$-**factorial** and is typically denoted $n!$.  By convention, the factorial is usually extended to $0$ by the definition $0! = 1$.  \n",
    "\n",
    "Define a recursive Python function \n",
    "\n",
    "    recursive_factorial\n",
    "\n",
    "that returns the factorial of any non-negative integer specified as its input."
   ]
  },
  {
   "cell_type": "code",
   "execution_count": 4,
   "metadata": {},
   "outputs": [
    {
     "name": "stdout",
     "output_type": "stream",
     "text": [
      "Expect recursive_factorial(5) to be 120\n",
      ">>> recursive_factorial(5)\n",
      "120 \n",
      "\n",
      "PASS: Output matches expected output.\n"
     ]
    }
   ],
   "source": [
    "test(ps.recursive_factorial, 5, 120)"
   ]
  },
  {
   "cell_type": "code",
   "execution_count": 5,
   "metadata": {},
   "outputs": [
    {
     "name": "stdout",
     "output_type": "stream",
     "text": [
      "Expect recursive_factorial(0) to be 1\n",
      ">>> recursive_factorial(0)\n",
      "1 \n",
      "\n",
      "PASS: Output matches expected output.\n"
     ]
    }
   ],
   "source": [
    "test(ps.recursive_factorial, 0, 1)"
   ]
  },
  {
   "cell_type": "markdown",
   "metadata": {},
   "source": [
    "### Problem 1.2 - Memoization"
   ]
  },
  {
   "cell_type": "markdown",
   "metadata": {},
   "source": [
    "a. Compare the performance of the memoized Fibonnacci function to the recursive Fibonnaacci function using either the `%%timeit` magic command or the `timeit` module."
   ]
  },
  {
   "cell_type": "code",
   "execution_count": 6,
   "metadata": {},
   "outputs": [],
   "source": [
    "def F(n):\n",
    "    if n == 1:\n",
    "        return 0\n",
    "    elif n == 2:\n",
    "        return 1\n",
    "    else:\n",
    "        return F(n - 1) + F(n - 2)\n",
    "    \n",
    "fib_memo = {}\n",
    "\n",
    "def F_memo(n):\n",
    "    \n",
    "    if n == 1:\n",
    "        return 0\n",
    "    elif n == 2:\n",
    "        return 1\n",
    "    elif n not in fib_memo :\n",
    "        fib_memo[n] = F_memo(n - 1) + F_memo(n - 2)\n",
    "    return fib_memo[n]"
   ]
  },
  {
   "cell_type": "code",
   "execution_count": 7,
   "metadata": {},
   "outputs": [
    {
     "name": "stdout",
     "output_type": "stream",
     "text": [
      "22.4 µs ± 1.69 µs per loop (mean ± std. dev. of 7 runs, 1000 loops each)\n"
     ]
    }
   ],
   "source": [
    "%%timeit -n 1000\n",
    "F(10)"
   ]
  },
  {
   "cell_type": "code",
   "execution_count": 8,
   "metadata": {},
   "outputs": [
    {
     "name": "stdout",
     "output_type": "stream",
     "text": [
      "415 ns ± 91.5 ns per loop (mean ± std. dev. of 7 runs, 1000 loops each)\n"
     ]
    }
   ],
   "source": [
    "%%timeit -n 1000\n",
    "F_memo(10)"
   ]
  },
  {
   "cell_type": "markdown",
   "metadata": {},
   "source": [
    "The memoized function `F_memo` took an average of `264 ns` per loop, whereas `F` took an average of `23,300 ns` per loop.*\n",
    "\n",
    "It is clear that `F_memo` is significantly faster in this case. \n",
    "\n",
    "**Times may fluctuate.*"
   ]
  },
  {
   "cell_type": "markdown",
   "metadata": {},
   "source": [
    "b. Define a memoized recursive Python function \n",
    "\n",
    "    recursive_factorial_memo\n",
    "\n",
    "and compare the performance of the memoized version to the un-memoized version using either the `%%timeit` magic command or the `timeit` module."
   ]
  },
  {
   "cell_type": "code",
   "execution_count": 9,
   "metadata": {},
   "outputs": [
    {
     "name": "stdout",
     "output_type": "stream",
     "text": [
      "Expect recursive_factorial_memo(5, {}) to be 120\n",
      ">>> recursive_factorial_memo(5, {})\n",
      "120 \n",
      "\n",
      "PASS: Output matches expected output.\n"
     ]
    }
   ],
   "source": [
    "fac_memo = {}\n",
    "test(ps.recursive_factorial_memo, (5, fac_memo), 120)"
   ]
  },
  {
   "cell_type": "code",
   "execution_count": 10,
   "metadata": {},
   "outputs": [
    {
     "name": "stdout",
     "output_type": "stream",
     "text": [
      "Expect recursive_factorial_memo(0, {}) to be 1\n",
      ">>> recursive_factorial_memo(0, {})\n",
      "1 \n",
      "\n",
      "PASS: Output matches expected output.\n"
     ]
    }
   ],
   "source": [
    "fac_memo = {}\n",
    "test(ps.recursive_factorial_memo, (0, fac_memo), 1)"
   ]
  },
  {
   "cell_type": "code",
   "execution_count": 11,
   "metadata": {},
   "outputs": [
    {
     "name": "stdout",
     "output_type": "stream",
     "text": [
      "3.75 µs ± 691 ns per loop (mean ± std. dev. of 7 runs, 1000 loops each)\n"
     ]
    }
   ],
   "source": [
    "%%timeit -n 1000\n",
    "ps.recursive_factorial(10)"
   ]
  },
  {
   "cell_type": "code",
   "execution_count": 12,
   "metadata": {},
   "outputs": [
    {
     "name": "stdout",
     "output_type": "stream",
     "text": [
      "344 ns ± 17.4 ns per loop (mean ± std. dev. of 7 runs, 1000 loops each)\n"
     ]
    }
   ],
   "source": [
    "%%timeit -n 1000\n",
    "ps.recursive_factorial_memo(10, fac_memo)"
   ]
  },
  {
   "cell_type": "markdown",
   "metadata": {},
   "source": [
    "The memoized function `recursive_factorial_memo` took an average of `343 ns` per loop, whereas `recursive_factorial` took an average of `2,740 ns` per loop.*\n",
    "\n",
    "It is clear that `recursive_factorial_memo` is significantly faster in this case. \n",
    "\n",
    "**Times may fluctuate.*"
   ]
  },
  {
   "cell_type": "markdown",
   "metadata": {},
   "source": [
    "c. Is there any difference in the performance gains in the two cases? Can you (briefly) try to explain why, or why not? "
   ]
  },
  {
   "cell_type": "markdown",
   "metadata": {},
   "source": [
    "Yes, from the results of the %%timeit functions, we can see that there is a performance difference between the memoized and non-memoized functions. \n",
    "\n",
    "The reason why we are getting faster results is becasue we are saving previously computed results for each input. Since the functions we are memoizing are one-to-one, we are able to simply return the previously calculated and saved result. Thus, in order to compute that same result again, we simply have to lookup the result in a cached dictionary. "
   ]
  },
  {
   "cell_type": "markdown",
   "metadata": {},
   "source": [
    "### Problem 1.3 - Binomial Coefficients"
   ]
  },
  {
   "cell_type": "markdown",
   "metadata": {},
   "source": [
    "Define two python functions \n",
    "\n",
    "    binomial_factorial \n",
    "and \n",
    "\n",
    "    binomial_recursive \n",
    "    \n",
    "that both take in integers $n$ and $k$ and compute the corresponding binomial coefficient, but for `binomial_factorial`, use your recursive factorial function defined Problem 1.1 to explicitly define the binomial coefficient, and for `binomial_recursive` directly use the recurrence relation above.  Make sure that the output of these functions is of type `int`!"
   ]
  },
  {
   "cell_type": "code",
   "execution_count": 13,
   "metadata": {},
   "outputs": [
    {
     "name": "stdout",
     "output_type": "stream",
     "text": [
      "Expect binomial_factorial(10, 7) to be 120\n",
      ">>> binomial_factorial(10, 7)\n",
      "120 \n",
      "\n",
      "PASS: Output matches expected output.\n"
     ]
    }
   ],
   "source": [
    "test(ps.binomial_factorial, (10, 7), 120)"
   ]
  },
  {
   "cell_type": "code",
   "execution_count": 14,
   "metadata": {},
   "outputs": [
    {
     "name": "stdout",
     "output_type": "stream",
     "text": [
      "Expect binomial_factorial(10, 0) to be 1\n",
      ">>> binomial_factorial(10, 0)\n",
      "1 \n",
      "\n",
      "PASS: Output matches expected output.\n"
     ]
    }
   ],
   "source": [
    "test(ps.binomial_factorial, (10, 0), 1)"
   ]
  },
  {
   "cell_type": "code",
   "execution_count": 15,
   "metadata": {},
   "outputs": [
    {
     "name": "stdout",
     "output_type": "stream",
     "text": [
      "Expect binomial_factorial(10, 10) to be 1\n",
      ">>> binomial_factorial(10, 10)\n",
      "1 \n",
      "\n",
      "PASS: Output matches expected output.\n"
     ]
    }
   ],
   "source": [
    "test(ps.binomial_factorial, (10, 10), 1)"
   ]
  },
  {
   "cell_type": "code",
   "execution_count": 16,
   "metadata": {},
   "outputs": [
    {
     "name": "stdout",
     "output_type": "stream",
     "text": [
      "Expect binomial_recursive(10, 7) to be 120\n",
      ">>> binomial_recursive(10, 7)\n",
      "120 \n",
      "\n",
      "PASS: Output matches expected output.\n"
     ]
    }
   ],
   "source": [
    "test(ps.binomial_recursive, (10, 7), 120)"
   ]
  },
  {
   "cell_type": "code",
   "execution_count": 17,
   "metadata": {},
   "outputs": [
    {
     "name": "stdout",
     "output_type": "stream",
     "text": [
      "Expect binomial_recursive(10, 0) to be 1\n",
      ">>> binomial_recursive(10, 0)\n",
      "1 \n",
      "\n",
      "PASS: Output matches expected output.\n"
     ]
    }
   ],
   "source": [
    "test(ps.binomial_recursive, (10, 0), 1)"
   ]
  },
  {
   "cell_type": "code",
   "execution_count": 18,
   "metadata": {},
   "outputs": [
    {
     "name": "stdout",
     "output_type": "stream",
     "text": [
      "Expect binomial_recursive(10, 10) to be 1\n",
      ">>> binomial_recursive(10, 10)\n",
      "1 \n",
      "\n",
      "PASS: Output matches expected output.\n"
     ]
    }
   ],
   "source": [
    "test(ps.binomial_recursive, (10, 10), 1)"
   ]
  },
  {
   "cell_type": "markdown",
   "metadata": {},
   "source": [
    "### Problem 1.4 - The Logistic Map\n",
    "\n",
    "Your recursive function might be too slow to run\n",
    "\n",
    "In that case, use the memoization method from problem 1.2 to accelerate it"
   ]
  },
  {
   "cell_type": "markdown",
   "metadata": {},
   "source": [
    "Define a python function \n",
    "\n",
    "    logistic\n",
    "\n",
    "that takes the parameters $n$ and $r$ as well as $x_0$, the inital value in the sequence, as inputs and recursively computes $x_n$."
   ]
  },
  {
   "cell_type": "code",
   "execution_count": 19,
   "metadata": {},
   "outputs": [
    {
     "name": "stdout",
     "output_type": "stream",
     "text": [
      "Expect logistic(10, 0.1, 0.5) to be 2.4309016841715593e-11\n",
      ">>> logistic(10, 0.1, 0.5)\n",
      "2.4309016841715593e-11 \n",
      "\n",
      "PASS: Output matches expected output.\n"
     ]
    }
   ],
   "source": [
    "# Test case where the population will eventually die, when r is between 0 and 1\n",
    "r = 0.1\n",
    "test(ps.logistic, (10, r, 0.5), 2.4309016841715593e-11)"
   ]
  },
  {
   "cell_type": "code",
   "execution_count": 20,
   "metadata": {
    "scrolled": true
   },
   "outputs": [
    {
     "name": "stdout",
     "output_type": "stream",
     "text": [
      "(r - 1) / r = 0.3333333333333333 \n",
      "\n",
      "Expect logistic(10, 1.5, 0.5) to be 0.3333973075663317\n",
      ">>> logistic(10, 1.5, 0.5)\n",
      "0.3333973075663317 \n",
      "\n",
      "PASS: Output matches expected output.\n"
     ]
    }
   ],
   "source": [
    "# Test case where population will quickly approach (r - 1) / r, when r is between 1 and 2\n",
    "r = 1.5\n",
    "print(f\"(r - 1) / r = {(r - 1) / r}\", \"\\n\")\n",
    "test(ps.logistic, (10, r, 0.5), 0.3333973075663317)"
   ]
  },
  {
   "cell_type": "markdown",
   "metadata": {},
   "source": [
    " Make five distinct plots $x_n$ as a function of $n$ for $x_0 = 0.5$ and $r = 0.5, 1.5, 2.5, 3.3, 3.5$ up to $n = 100$.  You should see qualitatively different behaviors for these various values of $r$ -- describe them."
   ]
  },
  {
   "cell_type": "code",
   "execution_count": 21,
   "metadata": {
    "scrolled": true
   },
   "outputs": [
    {
     "data": {
      "text/plain": [
       "[<matplotlib.lines.Line2D at 0x11e5c4df0>]"
      ]
     },
     "execution_count": 21,
     "metadata": {},
     "output_type": "execute_result"
    },
    {
     "data": {
      "image/png": "[encoded data removed]",
      "text/plain": [
       "<Figure size 432x288 with 1 Axes>"
      ]
     },
     "metadata": {
      "needs_background": "light"
     },
     "output_type": "display_data"
    }
   ],
   "source": [
    "r = 0.5\n",
    "# With r between 0 and 1, the population will eventually die, independent of the initial population.\n",
    "n_val = list(range(1,101))\n",
    "x_n_val = list(ps.logistic_gen(100, r, 0.5))\n",
    "\n",
    "plt.xlabel('n')\n",
    "plt.ylabel('x_n')\n",
    "plt.title('Logistic Map for r = 0.5')\n",
    "\n",
    "plt.plot(n_val, x_n_val)"
   ]
  },
  {
   "cell_type": "code",
   "execution_count": 22,
   "metadata": {
    "scrolled": true
   },
   "outputs": [
    {
     "data": {
      "text/plain": [
       "[<matplotlib.lines.Line2D at 0x1206ab5b0>]"
      ]
     },
     "execution_count": 22,
     "metadata": {},
     "output_type": "execute_result"
    },
    {
     "data": {
      "image/png": "[encoded data removed]",
      "text/plain": [
       "<Figure size 432x288 with 1 Axes>"
      ]
     },
     "metadata": {
      "needs_background": "light"
     },
     "output_type": "display_data"
    }
   ],
   "source": [
    "r = 1.5\n",
    "# With r between 1 and 2, the population will quickly approach the value (r - 1) / r, independent of the initial population.\n",
    "n_val = list(range(1,101))\n",
    "x_n_val = list(ps.logistic_gen(100, r, 0.5))\n",
    "\n",
    "plt.xlabel('n')\n",
    "plt.ylabel('x_n')\n",
    "plt.title('Logistic Map for r = 1.5')\n",
    "\n",
    "plt.plot(n_val, x_n_val)"
   ]
  },
  {
   "cell_type": "code",
   "execution_count": 23,
   "metadata": {},
   "outputs": [
    {
     "data": {
      "text/plain": [
       "[<matplotlib.lines.Line2D at 0x120706ee0>]"
      ]
     },
     "execution_count": 23,
     "metadata": {},
     "output_type": "execute_result"
    },
    {
     "data": {
      "image/png": "[encoded data removed]",
      "text/plain": [
       "<Figure size 432x288 with 1 Axes>"
      ]
     },
     "metadata": {
      "needs_background": "light"
     },
     "output_type": "display_data"
    }
   ],
   "source": [
    "r = 2.5\n",
    "# With r between 2 and 3, the population will also eventually approach the same value \n",
    "# (r - 1) / r, but first will fluctuate around that value for some time.\n",
    "n_val = list(range(1,101))\n",
    "x_n_val = list(ps.logistic_gen(100, r, 0.5))\n",
    "\n",
    "plt.xlabel('n')\n",
    "plt.ylabel('x_n')\n",
    "plt.title('Logistic Map for r = 2.5')\n",
    "\n",
    "plt.plot(n_val, x_n_val)"
   ]
  },
  {
   "cell_type": "code",
   "execution_count": 24,
   "metadata": {},
   "outputs": [
    {
     "data": {
      "text/plain": [
       "[<matplotlib.lines.Line2D at 0x12075ec70>]"
      ]
     },
     "execution_count": 24,
     "metadata": {},
     "output_type": "execute_result"
    },
    {
     "data": {
      "image/png": "[encoded data removed]",
      "text/plain": [
       "<Figure size 432x288 with 1 Axes>"
      ]
     },
     "metadata": {
      "needs_background": "light"
     },
     "output_type": "display_data"
    }
   ],
   "source": [
    "r = 3.3\n",
    "# With r between 3 and 1 + √6 ≈ 3.44949, from almost all initial conditions the population will approach permanent oscillations between two values. These two values are dependent on r.\n",
    "n_val = list(range(1,101))\n",
    "x_n_val = list(ps.logistic_gen(100, r, 0.5))\n",
    "\n",
    "plt.xlabel('n')\n",
    "plt.ylabel('x_n')\n",
    "plt.title('Logistic Map for r = 3.3')\n",
    "\n",
    "plt.plot(n_val, x_n_val)"
   ]
  },
  {
   "cell_type": "code",
   "execution_count": 25,
   "metadata": {
    "scrolled": true
   },
   "outputs": [
    {
     "data": {
      "text/plain": [
       "[<matplotlib.lines.Line2D at 0x1207bb8b0>]"
      ]
     },
     "execution_count": 25,
     "metadata": {},
     "output_type": "execute_result"
    },
    {
     "data": {
      "image/png": "[encoded data removed]",
      "text/plain": [
       "<Figure size 432x288 with 1 Axes>"
      ]
     },
     "metadata": {
      "needs_background": "light"
     },
     "output_type": "display_data"
    }
   ],
   "source": [
    "r = 3.5\n",
    "# With r between 3.44949 and 3.54409 (approximately), from almost all initial conditions the population will approach permanent oscillations among four values.\n",
    "n_val = list(range(1,101))\n",
    "x_n_val = list(ps.logistic_gen(100, r, 0.5))\n",
    "\n",
    "plt.xlabel('n')\n",
    "plt.ylabel('x_n')\n",
    "plt.title('Logistic Map for r = 3.5')\n",
    "\n",
    "plt.plot(n_val, x_n_val)"
   ]
  },
  {
   "cell_type": "code",
   "execution_count": 33,
   "metadata": {},
   "outputs": [
    {
     "data": {
      "text/plain": [
       "[<matplotlib.lines.Line2D at 0x120954ac0>]"
      ]
     },
     "execution_count": 33,
     "metadata": {},
     "output_type": "execute_result"
    },
    {
     "data": {
      "image/png": "[encoded data removed]",
      "text/plain": [
       "<Figure size 432x288 with 1 Axes>"
      ]
     },
     "metadata": {
      "needs_background": "light"
     },
     "output_type": "display_data"
    }
   ],
   "source": [
    "r = 3.9\n",
    "# Most values of r beyond 3.56995 exhibit chaotic behaviour.\n",
    "n_val = list(range(1,101))\n",
    "x_n_val = list(ps.logistic_gen(100, r, 0.5))\n",
    "\n",
    "plt.xlabel('n')\n",
    "plt.ylabel('x_n')\n",
    "plt.title('Logistic Map for r = 3.9')\n",
    "\n",
    "plt.plot(n_val, x_n_val)"
   ]
  },
  {
   "cell_type": "markdown",
   "metadata": {},
   "source": [
    "## Problem Group 2 - Searching for stuff\n"
   ]
  },
  {
   "cell_type": "markdown",
   "metadata": {},
   "source": [
    "### Problem 2.1 - Linear Search\n"
   ]
  },
  {
   "cell_type": "code",
   "execution_count": null,
   "metadata": {},
   "outputs": [],
   "source": []
  },
  {
   "cell_type": "code",
   "execution_count": null,
   "metadata": {},
   "outputs": [],
   "source": []
  },
  {
   "cell_type": "markdown",
   "metadata": {},
   "source": [
    "### Problem 2.2 - Bisection(Binary) Search"
   ]
  },
  {
   "cell_type": "code",
   "execution_count": null,
   "metadata": {},
   "outputs": [],
   "source": []
  },
  {
   "cell_type": "code",
   "execution_count": null,
   "metadata": {},
   "outputs": [],
   "source": []
  },
  {
   "cell_type": "markdown",
   "metadata": {},
   "source": [
    "### Problem 2.3 - Bisection Root Finding"
   ]
  },
  {
   "cell_type": "code",
   "execution_count": null,
   "metadata": {},
   "outputs": [],
   "source": []
  },
  {
   "cell_type": "code",
   "execution_count": null,
   "metadata": {},
   "outputs": [],
   "source": []
  },
  {
   "cell_type": "markdown",
   "metadata": {},
   "source": [
    "### Problem 2.4 - A Physical Application: Projectile Range Maximization"
   ]
  },
  {
   "cell_type": "markdown",
   "metadata": {},
   "source": [
    "#### (1)\n",
    "use Markdown to write equation"
   ]
  },
  {
   "cell_type": "code",
   "execution_count": null,
   "metadata": {},
   "outputs": [],
   "source": []
  },
  {
   "cell_type": "markdown",
   "metadata": {},
   "source": [
    "#### (2)"
   ]
  },
  {
   "cell_type": "code",
   "execution_count": null,
   "metadata": {},
   "outputs": [],
   "source": []
  },
  {
   "cell_type": "markdown",
   "metadata": {},
   "source": [
    "#### (3) \n",
    "you should use the function in Problem 2.3 Bisection Root Finding  \n",
    "But before that, you should know what is your function, which we are looking for the root."
   ]
  },
  {
   "cell_type": "code",
   "execution_count": null,
   "metadata": {},
   "outputs": [],
   "source": []
  },
  {
   "cell_type": "markdown",
   "metadata": {},
   "source": [
    "## Problem Group 3 - Fun with primes"
   ]
  },
  {
   "cell_type": "markdown",
   "metadata": {},
   "source": [
    "### Problem 3.1 - Sieve of Eratosthenes"
   ]
  },
  {
   "cell_type": "code",
   "execution_count": null,
   "metadata": {},
   "outputs": [],
   "source": []
  },
  {
   "cell_type": "code",
   "execution_count": null,
   "metadata": {},
   "outputs": [],
   "source": []
  },
  {
   "cell_type": "markdown",
   "metadata": {},
   "source": [
    "### Problem 3.2 - Prime Factorization"
   ]
  },
  {
   "cell_type": "code",
   "execution_count": null,
   "metadata": {},
   "outputs": [],
   "source": []
  },
  {
   "cell_type": "code",
   "execution_count": null,
   "metadata": {},
   "outputs": [],
   "source": []
  },
  {
   "cell_type": "markdown",
   "metadata": {},
   "source": [
    "## Problem Group 4 - Weighty problem\n"
   ]
  },
  {
   "cell_type": "markdown",
   "metadata": {},
   "source": [
    "Work with your partner to solve this problem. Once you have a working solution, try to make it as efficient possible. \n",
    "\n",
    "Group codename:  (Replace this text with the codename for your group.  This can be any reasonably appropriate word with lowercase alphabet characters.  E.g., batman)"
   ]
  },
  {
   "cell_type": "code",
   "execution_count": null,
   "metadata": {},
   "outputs": [],
   "source": []
  }
 ],
 "metadata": {
  "anaconda-cloud": {},
  "kernelspec": {
   "display_name": "Python 3",
   "language": "python",
   "name": "python3"
  },
  "language_info": {
   "codemirror_mode": {
    "name": "ipython",
    "version": 3
   },
   "file_extension": ".py",
   "mimetype": "text/x-python",
   "name": "python",
   "nbconvert_exporter": "python",
   "pygments_lexer": "ipython3",
   "version": "3.8.6"
  }
 },
 "nbformat": 4,
 "nbformat_minor": 2
}
