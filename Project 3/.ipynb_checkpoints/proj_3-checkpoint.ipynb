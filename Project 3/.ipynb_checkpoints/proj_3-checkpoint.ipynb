{
 "cells": [
  {
   "cell_type": "markdown",
   "metadata": {},
   "source": [
    "# Project 3: MCMC and Statistical Mechanics"
   ]
  },
  {
   "cell_type": "markdown",
   "metadata": {},
   "source": [
    "Let's start by importing the packages we need. \n",
    "\n",
    "`proj_3.py` contains the `weighted_die` method which is used to simulate multiple rolls for a weighted die. The class `Ising_2d` contains the methods and variables that will be helpful for simulating 2D Ising models. "
   ]
  },
  {
   "cell_type": "code",
   "execution_count": 1,
   "metadata": {},
   "outputs": [],
   "source": [
    "from proj_3 import weighted_die, Ising_2d\n",
    "import numpy as np\n",
    "import matplotlib.pyplot as plt"
   ]
  },
  {
   "cell_type": "markdown",
   "metadata": {},
   "source": [
    "## Weighted Die\n",
    "\n",
    "Imagine that you are playing a game with your friend in which you roll a 6-sided die.  The way the game works is that every time the die lands on side 1 or side 2, you win one dollar, and every time the die lands on side 3, 4, 5, or 6, your friend wins one dollar (and you lose one dollar).  Because you really want to win the game at all costs, you decide to cheat and use a weighted die.  This means that the side is preferentially weighted so that sides 1 and 2 are each three times more likely to land face up than sides 3, 4, 5, and 6.  In other words, if $p_k$ denotes the probability that side $k$ will land face up, then\n",
    "\n",
    "\\begin{align}\n",
    "    p_1 = p_2, \\qquad p_3 = p_4 = p_5 = p_6 \\qquad p_1 = 3 p_3.\n",
    "\\end{align}\n",
    "\n",
    "The method `weighted_die` runs a Markov Chain Monte Carlo (MCMC) simulation to simulate multiple dice rolls. We can simulate a certain `num_rolls`, and keep track of the winnings. "
   ]
  },
  {
   "cell_type": "markdown",
   "metadata": {},
   "source": [
    "This problem is simple enough that we can determine the expected earnings analytically. \n",
    "\n",
    "For each roll of the die, there is a $\\frac{3}{10}$ chance of rolling a 1 or a 2. And a $\\frac{1}{10}$ of rolling a 3, 4, 5, or 6. We can double check that this is true, since \n",
    "\n",
    "$$\\frac{3}{10}+\\frac{3}{10}+\\frac{1}{10}+\\frac{1}{10}+\\frac{1}{10}+\\frac{1}{10} = 1$$\n",
    "\n",
    "And \n",
    "\n",
    "$$p_1 = p_2 = 3 p_3 = 3 p_4 = 3 p_5 = 3 p_6$$\n",
    "\n",
    "So, for each roll of the die, there is a $\\frac{6}{10}$ chance of winning, and a $\\frac{4}{10}$ chance of losing. (Hopefully the friend is smart enough to catch on to this early.)\n",
    "\n",
    "Thus, for each round, we expect a 60\\% chance of winning \\\\$1, and a 40\\% chance of losing \\\\$1. Therefore, we expect to win an average of \\\\$0.20 each round. \n",
    "\n",
    "Our total expected winnings are $\\$0.20 \\times N$, where $N$ is the number of rounds played. "
   ]
  },
  {
   "cell_type": "markdown",
   "metadata": {},
   "source": [
    "Now that we know what kind of winnings to expect, let's simulate a bunch of rounds with our weighted die. \n",
    "\n",
    "Let's simulate 10,000 rounds. Then `winnings` is our total winnings after 10,000 rounds, and `results` contains the dice rolls and payout for each roll. "
   ]
  },
  {
   "cell_type": "code",
   "execution_count": 2,
   "metadata": {},
   "outputs": [
    {
     "name": "stdout",
     "output_type": "stream",
     "text": [
      "After 10000 rounds, we expect to win $2000.00.\n",
      "We have won $1844.00, with an average of $0.1844 won per round.\n"
     ]
    }
   ],
   "source": [
    "num_steps = 10000\n",
    "winnings, results = weighted_die(num_steps)\n",
    "\n",
    "print(f\"After {num_steps} rounds, we expect to win ${num_steps*0.2:.2f}.\")\n",
    "print(f\"We have won ${winnings:.2f}, with an average of ${winnings/num_steps:.4f} won per round.\")"
   ]
  },
  {
   "cell_type": "markdown",
   "metadata": {},
   "source": [
    "We can also plot our total winnings over time. We expect this to appear linear with a slope of \\\\$0.20."
   ]
  },
  {
   "cell_type": "code",
   "execution_count": 3,
   "metadata": {},
   "outputs": [
    {
     "data": {
      "image/png": "[encoded data removed]",
      "text/plain": [
       "<Figure size 432x288 with 1 Axes>"
      ]
     },
     "metadata": {
      "needs_background": "light"
     },
     "output_type": "display_data"
    }
   ],
   "source": [
    "winnings_over_time = [0]\n",
    "for roll in range(len(results)):\n",
    "    winnings_over_time.append(results[roll][1] + winnings_over_time[-1])\n",
    "    \n",
    "roll_number = list(range(len(results) + 1))\n",
    "\n",
    "plt.plot(roll_number, winnings_over_time)\n",
    "plt.xlabel(\"Round Number\")\n",
    "plt.ylabel('Total Winnings')\n",
    "plt.title('Total winnings over time for 10,000 rounds')\n",
    "plt.show()"
   ]
  },
  {
   "cell_type": "code",
   "execution_count": null,
   "metadata": {},
   "outputs": [],
   "source": []
  }
 ],
 "metadata": {
  "kernelspec": {
   "display_name": "Python 3",
   "language": "python",
   "name": "python3"
  },
  "language_info": {
   "codemirror_mode": {
    "name": "ipython",
    "version": 3
   },
   "file_extension": ".py",
   "mimetype": "text/x-python",
   "name": "python",
   "nbconvert_exporter": "python",
   "pygments_lexer": "ipython3",
   "version": "3.8.6"
  }
 },
 "nbformat": 4,
 "nbformat_minor": 4
}
