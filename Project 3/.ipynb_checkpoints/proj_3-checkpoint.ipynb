{
 "cells": [
  {
   "cell_type": "markdown",
   "metadata": {},
   "source": [
    "# Project 3: MCMC and Statistical Mechanics\n",
    "\n",
    "**PLEASE DO NOT CLEAR THE OUTPUT IN THIS NOTEBOOK. IT TAKES A VERY LONG TIME TO COMPUTE EVERYTHING.**"
   ]
  },
  {
   "cell_type": "markdown",
   "metadata": {},
   "source": [
    "Let's start by importing the packages we need. \n",
    "\n",
    "`proj_3.py` contains the `weighted_die` method which is used to simulate multiple rolls for a weighted die. The class `Ising_2d` contains the methods and variables that will be helpful for simulating 2D Ising models. "
   ]
  },
  {
   "cell_type": "code",
   "execution_count": 1,
   "metadata": {},
   "outputs": [],
   "source": [
    "from proj_3 import weighted_die, Ising_2d\n",
    "import numpy as np\n",
    "import matplotlib.pyplot as plt\n",
    "import math"
   ]
  },
  {
   "cell_type": "markdown",
   "metadata": {},
   "source": [
    "## Weighted Die\n",
    "\n",
    "Imagine that you are playing a game with your friend in which you roll a 6-sided die.  The way the game works is that every time the die lands on side 1 or side 2, you win one dollar, and every time the die lands on side 3, 4, 5, or 6, your friend wins one dollar (and you lose one dollar).  Because you really want to win the game at all costs, you decide to cheat and use a weighted die.  This means that the side is preferentially weighted so that sides 1 and 2 are each three times more likely to land face up than sides 3, 4, 5, and 6.  In other words, if $p_k$ denotes the probability that side $k$ will land face up, then\n",
    "\n",
    "\\begin{align}\n",
    "    p_1 = p_2, \\qquad p_3 = p_4 = p_5 = p_6 \\qquad p_1 = 3 p_3.\n",
    "\\end{align}\n",
    "\n",
    "The method `weighted_die` runs a Markov Chain Monte Carlo (MCMC) simulation to simulate multiple dice rolls. We can simulate a certain `num_rolls`, and keep track of the winnings. "
   ]
  },
  {
   "cell_type": "markdown",
   "metadata": {},
   "source": [
    "This problem is simple enough that we can determine the expected earnings analytically. \n",
    "\n",
    "For each roll of the die, there is a $\\frac{3}{10}$ chance of rolling a 1 or a 2. And a $\\frac{1}{10}$ of rolling a 3, 4, 5, or 6. We can double check that this is true, since \n",
    "\n",
    "$$\\frac{3}{10}+\\frac{3}{10}+\\frac{1}{10}+\\frac{1}{10}+\\frac{1}{10}+\\frac{1}{10} = 1$$\n",
    "\n",
    "And \n",
    "\n",
    "$$p_1 = p_2 = 3 p_3 = 3 p_4 = 3 p_5 = 3 p_6$$\n",
    "\n",
    "So, for each roll of the die, there is a $\\frac{6}{10}$ chance of winning, and a $\\frac{4}{10}$ chance of losing. (Hopefully the friend is smart enough to catch on to this early.)\n",
    "\n",
    "Thus, for each round, we expect a 60\\% chance of winning \\\\$1, and a 40\\% chance of losing \\\\$1. Therefore, we expect to win an average of \\\\$0.20 each round. \n",
    "\n",
    "Our total expected winnings are $\\$0.20 \\times N$, where $N$ is the number of rounds played. "
   ]
  },
  {
   "cell_type": "markdown",
   "metadata": {},
   "source": [
    "Now that we know what kind of winnings to expect, let's simulate a bunch of rounds with our weighted die. \n",
    "\n",
    "Let's simulate 10,000 rounds. Then `winnings` is our total winnings after 10,000 rounds, and `results` contains the dice rolls and payout for each roll. "
   ]
  },
  {
   "cell_type": "code",
   "execution_count": null,
   "metadata": {},
   "outputs": [],
   "source": [
    "num_steps = 10000\n",
    "winnings, results = weighted_die(num_steps)\n",
    "\n",
    "print(f\"After {num_steps} rounds, we expect to win ${num_steps*0.2:.2f}.\")\n",
    "print(f\"We have won ${winnings:.2f}, with an average of ${winnings/num_steps:.4f} won per round.\")"
   ]
  },
  {
   "cell_type": "markdown",
   "metadata": {},
   "source": [
    "We can also plot our total winnings over time. We expect this to appear linear with a slope of \\\\$0.20."
   ]
  },
  {
   "cell_type": "code",
   "execution_count": null,
   "metadata": {},
   "outputs": [],
   "source": [
    "winnings_over_time = [0]\n",
    "for roll in range(len(results)):\n",
    "    winnings_over_time.append(results[roll][1] + winnings_over_time[-1])\n",
    "    \n",
    "roll_number = list(range(len(results) + 1))\n",
    "\n",
    "plt.plot(roll_number, winnings_over_time)\n",
    "plt.xlabel(\"Round Number\")\n",
    "plt.ylabel('Total Winnings')\n",
    "plt.title('Total winnings over time for 10,000 rounds')\n",
    "plt.show()"
   ]
  },
  {
   "cell_type": "markdown",
   "metadata": {},
   "source": [
    "## 2D Ising Model\n",
    "\n",
    "Our goal is to simulate a 2D Ising model on a square, periodic lattice of a specified side length (number of spins) `L` and at a given temperature `temp`.  We will perform multiple MCMC iteratons to simulate random spin flips based on the energy and temperature. \n",
    "\n",
    "I have chosen to represent the 2D Ising model using the `Ising_2d` class. In my opinion, this is easier and more organized to code than a massive function. This class contains all the necessary variables and methods we need to analyze the Ising model on a square lattice. "
   ]
  },
  {
   "cell_type": "markdown",
   "metadata": {},
   "source": [
    "### Plotting time series' of intensive quantities\n",
    "\n",
    "As you run your MCMC simulation, you should find that the \n",
    "for larger system size, the Monte Carlo simulation needs to run longer steps, to reach equilibrium.  In order to monitor the convergence of values of observables during the simulation, it is helpful to plot their values as a function of time step.  In order to make the benchmarking a fair game, the \"updating step per site\" is defined as follows:\n",
    "\n",
    "\\begin{align}\n",
    "    t=\\frac{\\text{Total updates}}{\\text{numbers of sites}}\n",
    "\\end{align}\n",
    "\n",
    "**What you need to do:**\n",
    "\n",
    "- Choose system sizes $L = 16, 32$ and a temperature of your choosing not to close to the critical temperature, and run the simulation.  Plot $U$ and $M$ as functions of $t$, the update step per site defined above.  \n",
    "- Roughly how long does it seem to take for the simulation to converge?  \n",
    "- Does the time it takes seem to depend on the system size?"
   ]
  },
  {
   "cell_type": "markdown",
   "metadata": {},
   "source": [
    "The main question to ask here is, \"What does it mean for a Lattice to converge?\"\n",
    "\n",
    "Well, we are plotting Mean Internal Energy, $U$, and Magnetization, $M$, as functions of time. At each step in our MCMC, the energy and spin change slightly. \n",
    "\n",
    "We define $U = \\frac{1}{N}\\left \\langle E \\right \\rangle$ and $M = \\frac{1}{N}\\left \\langle S \\right \\rangle$. \n",
    "\n",
    "Where $N = L^2$ is the total number of spin sites, and $\\langle E \\rangle$ and $\\langle S \\rangle$ are the energy and spin expectation value respectively. \n",
    "\n",
    "So, over time our expectation values will converge to a constant, and thus so will $U$ and $M$. Therefore, we can say that our lattice has convereged when $U$ and $M$ become constant over time. "
   ]
  },
  {
   "cell_type": "markdown",
   "metadata": {},
   "source": [
    "Since we expect the total number of steps it takes for a lattice to converge to depend on the size of the lattice, we will \"normalize\" the plots of $U$ and $M$ over time by choosing a time step size dependant on the size of the lattice. \n",
    "\n",
    "In terms of the variables in our code, \n",
    "\n",
    "`time_step_size = num_steps / (L ** 2)`"
   ]
  },
  {
   "cell_type": "markdown",
   "metadata": {},
   "source": [
    "Finally, we must ask how we should set our initial conditions. Our initial condition is our initial state of our lattice. \n",
    "\n",
    "It is helpful to know what to expect the lattice to look like after it has converged. Well, if our temperature $T$ is above the critial temperature $T_C \\approx 2.2692$, then the spins will be randomly flipped up or down, with a net zero spin. If $T < T_C$, then we expect to see more of one spin state than another, until $T = 0$, when we expect all spin states to be aligned. "
   ]
  },
  {
   "cell_type": "markdown",
   "metadata": {},
   "source": [
    "In that case, let's begin our analysis by considering the case where our lattice starts off fully aligned (to spin +1), and set $T > T_C$. Let's set $L = 16$, and run the simulation for 100,000 steps. "
   ]
  },
  {
   "cell_type": "code",
   "execution_count": null,
   "metadata": {},
   "outputs": [],
   "source": [
    "# Define parameters\n",
    "num_steps = 100000\n",
    "L = 16\n",
    "time_step_size = num_steps / (L ** 2)\n",
    "\n",
    "# Set temperature to be 3. This is larger than the critical temperature. \n",
    "temp = 3\n",
    "\n",
    "# Create our Ising model using L = 16, temp = 3.\n",
    "model = Ising_2d(L, temp)\n",
    "# model.set_rand_state()\n",
    "\n",
    "# Let's run the MCMC for multiple steps, and calculate values for U and M for each step. \n",
    "vals = model.mcmcm(num_steps, calculate_vals = True, verbose = True)\n",
    "\n",
    "# Now lets create our list of time steps to plot\n",
    "time_steps = [time_step_size * i for i in range(1, num_steps + 1)]\n",
    "\n",
    "plt.xlabel(\"Scaled Time\")\n",
    "plt.ylabel('Magnetization')\n",
    "plt.title('Magnetization convergence over time')\n",
    "plt.plot(time_steps, vals[\"M\"])\n",
    "plt.show()\n",
    "\n",
    "plt.xlabel(\"Scaled Time\")\n",
    "plt.ylabel('Mean Internal Energy')\n",
    "plt.title('Mean Internal Energy convergence over time')\n",
    "plt.plot(time_steps, vals[\"U\"])\n",
    "plt.show()"
   ]
  },
  {
   "cell_type": "markdown",
   "metadata": {},
   "source": [
    "When $L = 16$ and we simulate 100,000 steps, it appears that both Magnetization $M$ and Mean Internal Energy $U$ converge at around a time of $t = 1 \\times 10^7$ to $t = 2 \\times 10^7$. "
   ]
  },
  {
   "cell_type": "markdown",
   "metadata": {},
   "source": [
    "Now let's examine the case when $L = 32$. We will need a larger number of steps to see the convergence for this lattice size."
   ]
  },
  {
   "cell_type": "code",
   "execution_count": null,
   "metadata": {
    "scrolled": false
   },
   "outputs": [],
   "source": [
    "# Define parameters\n",
    "num_steps = 300000\n",
    "L = 32\n",
    "time_step_size = num_steps / (L ** 2)\n",
    "\n",
    "# Set temperature to be 3. This is larger than the critical temperature. \n",
    "temp = 3\n",
    "\n",
    "# Create our Ising model.\n",
    "model = Ising_2d(L, temp)\n",
    "# model.set_rand_state()\n",
    "\n",
    "# Let's run the MCMC for multiple steps, and calculate values for U and M for each step. \n",
    "vals = model.mcmcm(num_steps, calculate_vals = True, verbose = True)\n",
    "\n",
    "# Now lets create our list of time steps to plot\n",
    "time_steps = [time_step_size * i for i in range(1, num_steps + 1)]\n",
    "\n",
    "plt.xlabel(\"Scaled Time\")\n",
    "plt.ylabel('Magnetization')\n",
    "plt.title('Magnetization convergence over time')\n",
    "plt.plot(time_steps, vals[\"M\"])\n",
    "plt.show()\n",
    "\n",
    "plt.xlabel(\"Scaled Time\")\n",
    "plt.ylabel('Mean Internal Energy')\n",
    "plt.title('Mean Internal Energy convergence over time')\n",
    "plt.plot(time_steps, vals[\"U\"])\n",
    "plt.show()"
   ]
  },
  {
   "cell_type": "markdown",
   "metadata": {},
   "source": [
    "In this case, when $L = 32$ and we simulate 300,000 steps, it appears that both Magnetization $M$ and Mean Internal Energy $U$ converge at around a time of $t = 4 \\times 10^7$. \n",
    "\n",
    "So as we can see, larger systems require more time to converge, even when we consider using a scaled time step. The curves for both systems appear as we would expect. They begin by rapidly approaching convergance, but then take a while to settle. Even then, some randomness can cause the simulation to take longer to converge than expected. "
   ]
  },
  {
   "cell_type": "markdown",
   "metadata": {},
   "source": [
    "We can even consider the case for $L = 64$ to truly verify that the time to converge differs among lattice sizes. "
   ]
  },
  {
   "cell_type": "code",
   "execution_count": null,
   "metadata": {},
   "outputs": [],
   "source": [
    "# Define parameters\n",
    "num_steps = 700000\n",
    "L = 64\n",
    "time_step_size = num_steps / (L ** 2)\n",
    "\n",
    "# Set temperature to be 3. This is larger than the critical temperature. \n",
    "temp = 3\n",
    "\n",
    "# Create our Ising model.\n",
    "model = Ising_2d(L, temp)\n",
    "# model.set_rand_state()\n",
    "\n",
    "# Let's run the MCMC for multiple steps, and calculate values for U and M for each step. \n",
    "vals = model.mcmcm(num_steps, calculate_vals = True, verbose = True)\n",
    "\n",
    "# Now lets create our list of time steps to plot\n",
    "time_steps = [time_step_size * i for i in range(1, num_steps + 1)]\n",
    "\n",
    "plt.xlabel(\"Scaled Time\")\n",
    "plt.ylabel('Magnetization')\n",
    "plt.title('Magnetization convergence over time')\n",
    "plt.plot(time_steps, vals[\"M\"])\n",
    "plt.show()\n",
    "\n",
    "plt.xlabel(\"Scaled Time\")\n",
    "plt.ylabel('Mean Internal Energy')\n",
    "plt.title('Mean Internal Energy convergence over time')\n",
    "plt.plot(time_steps, vals[\"U\"])\n",
    "plt.show()"
   ]
  },
  {
   "cell_type": "markdown",
   "metadata": {},
   "source": [
    "In this case, when $L = 64$ and we simulate 700,000 steps, it appears that both Magnetization $M$ and Mean Internal Energy $U$ converge at around a time of $t = 8 \\times 10^7$.\n",
    "\n",
    "This confirms that larger systems require more time to converge, even when we use a scaled time step."
   ]
  },
  {
   "cell_type": "markdown",
   "metadata": {},
   "source": [
    "At this point, we should ask ourself the question, \"How can we determine when the system converges?\"\n",
    "\n",
    "It would be helpful to program some way to decide when we have reached convergence. Due to the random nature of the simulation, no method would ever be perfect in a finite amount of time, but we can get close. \n",
    "\n",
    "Let's say we have reached convergance when the most recent 25% of all values vary by less than some tolerance. So for example, at some step n, we can examine the past 0.25n steps and see if the difference between the maximum and minimum value of $U$ are less than some constant, say 0.01. \n",
    "\n",
    "I have modified the `mcmc` method to stop after the convergence conditon is reached, or after `num_steps`. \n",
    "\n",
    "Let's see how our convergence checker works when $L = 32$."
   ]
  },
  {
   "cell_type": "code",
   "execution_count": null,
   "metadata": {
    "scrolled": true
   },
   "outputs": [],
   "source": [
    "# Define parameters\n",
    "num_steps = 300000\n",
    "L = 32\n",
    "time_step_size = num_steps / (L ** 2)\n",
    "\n",
    "# Set temperature to be 3. This is larger than the critical temperature. \n",
    "temp = 3\n",
    "\n",
    "# Create our Ising model.\n",
    "model = Ising_2d(L, temp)\n",
    "# model.set_rand_state()\n",
    "\n",
    "# Let's run the MCMC for multiple steps, and calculate values for U and M for each step. \n",
    "vals = model.mcmcm(num_steps, calculate_vals = True, verbose = True, converge_stop = True)\n",
    "\n",
    "# Now lets create our list of time steps to plot\n",
    "time_steps = [time_step_size * i for i in range(1, len(vals[\"U\"]) + 1)]\n",
    "\n",
    "if len(vals['U']) < num_steps:\n",
    "    print()\n",
    "    print(f\"System has converged in {len(vals['U']) * time_step_size:.2e} steps.\")\n",
    "\n",
    "plt.xlabel(\"Scaled Time\")\n",
    "plt.ylabel('Mean Internal Energy')\n",
    "plt.title('Mean Internal Energy convergence over time')\n",
    "plt.plot(time_steps, vals[\"U\"])\n",
    "plt.show()"
   ]
  },
  {
   "cell_type": "markdown",
   "metadata": {},
   "source": [
    "We can see from this result that with the converence perameters chosen, it is stopping at about the same value that we determined by eye. This convergence stop will be useful to use for the part of the project. "
   ]
  },
  {
   "cell_type": "markdown",
   "metadata": {},
   "source": [
    "### Magnetization curves for different lattice sizes\n",
    "\n",
    "Onsager's exact solution gives the following result for the magnetization as a function of temperature:\n",
    "\n",
    "\\begin{align}\n",
    "M(T)& = \\begin{cases}\\Bigl[1 - \\sinh^{-4}\\bigl(2/T\\bigr)\\Bigr]^{1/8},& T<T_c\\\\\n",
    "0,& T\\geq T_c\n",
    "\\end{cases}\n",
    "\\end{align}\n",
    "\n",
    "obtained in the thermodynamic limit $N\\to\\infty$. \n",
    "\n",
    "**What you need to do:**\n",
    "\n",
    "- Consider system sizes $L = 8, 16, 32, 64$. \n",
    "- For each size, generate an $M(T)$ curve.  Plot these 4 curves, together with the exact curve, *in the same plot.* - We suggest you start the simulations at a high temperature above the critical point $T_c$  and slowly cool the ferromagnet by decreasing the temperature in small steps. After each update of $T$, perform a large number of iterations with the Metropolis-Hastings algorithm without calculating the ensemble averages. Once the system is close to thermal equilibrium start drawing the samples from the equilibrium distribution and calculate the averages along the way.\n",
    "\n",
    "**Notes.**\n",
    "\n",
    "- These are computationally expensive calculations.\n",
    "- There are 4 curves for different system sizes.\n",
    "- Each curve is made of many dots. (you decide the spacing of temperatures)\n",
    "- Each dot is an averaged magnetization per site at a given temperature"
   ]
  },
  {
   "cell_type": "markdown",
   "metadata": {},
   "source": [
    "Let's consider the temperature range $T \\in [0, 4]$ for this part of the project. \n",
    "\n",
    "Let's increment temperature in steps of 0.01. Hopefully this will be small enough to draw a good plot, but large enough to not take forever to calculate. \n",
    "\n",
    "The plot for Onsager's exact solution is difficult to visualize. So let's plot it. "
   ]
  },
  {
   "cell_type": "code",
   "execution_count": null,
   "metadata": {
    "scrolled": true
   },
   "outputs": [],
   "source": [
    "temps = np.arange(4, 0, -0.02)\n",
    "\n",
    "def onsager(t):\n",
    "    if t >= 2 / (math.log(1 + math.sqrt(2))):\n",
    "        return 0\n",
    "    else:\n",
    "        return ((1 - (math.sinh(2 / t) ** (-4))) ** (1/8))\n",
    "    \n",
    "m_t = [onsager(t) for t in temps]\n",
    "\n",
    "plt.plot(temps, m_t, color = \"green\", linestyle = \"dashed\")\n",
    "plt.show()"
   ]
  },
  {
   "cell_type": "markdown",
   "metadata": {},
   "source": [
    "What an interesting plot. \n",
    "\n",
    "Now we want to try and recreate this plot using our Ising model. \n",
    "\n",
    "First, we will choose a system size $L$. Then, starting at $T = 4$, I will run the mcmc algorithm until the value for $M$ converges, using our convergence method we created above. Once $M$ has converged, I will plot its current value for the current temperature. I will then decrease the temperature by our chosen step size, and run the mcmc algorithm again until $M$ converges. To save computation time, the state will not be reset after each temperature step. \n",
    "\n",
    "If our model matches the theory, we should have a scatter plot of $M(T)$ that matches the theoretical curve. "
   ]
  },
  {
   "cell_type": "code",
   "execution_count": null,
   "metadata": {},
   "outputs": [],
   "source": [
    "m_t_l = {}\n",
    "m_t_l[8] = []\n",
    "m_t_l[16] = []\n",
    "m_t_l[32] = []\n",
    "m_t_l[64] = []\n",
    "\n",
    "system_sizes = [8, 16, 32, 64]\n",
    "\n",
    "for L in system_sizes:\n",
    "    print(f\"Calculating L = {L}\")\n",
    "    # Define parameters\n",
    "    num_steps = L * 10000\n",
    "\n",
    "    init_temp = 4\n",
    "\n",
    "    # Create our Ising model.\n",
    "    model = Ising_2d(L, init_temp)\n",
    "\n",
    "    for temp in temps:\n",
    "        # Set temp\n",
    "        model.set_temp(temp)\n",
    "\n",
    "        # Run mcmc algorithm until convergence. \n",
    "        vals = model.mcmcm(num_steps, calculate_vals = True, converge_stop = True, converge_value = \"M\", converge_threshold = 0.01, verbose = False)\n",
    "\n",
    "        # Save current value for M(temp) as the average of 25% most recent values\n",
    "        segment = vals[\"M\"][int((1-0.25)*len(vals[\"M\"]))::]\n",
    "        avg = sum(segment) / len(segment)\n",
    "        m_t_l[L].append(avg)\n",
    "\n",
    "plt.xlabel(\"Temperature\")\n",
    "plt.ylabel('Magnetization')\n",
    "plt.title('Magnetization for different temperatures for L = 8')\n",
    "plt.plot(temps, m_t, color = \"green\", linestyle = \"dashed\")\n",
    "plt.scatter(temps, m_t_l[8], color = \"red\", marker = \".\")\n",
    "plt.show()\n",
    "\n",
    "plt.xlabel(\"Temperature\")\n",
    "plt.ylabel('Magnetization')\n",
    "plt.title('Magnetization for different temperatures for L = 16')\n",
    "plt.plot(temps, m_t, color = \"green\", linestyle = \"dashed\")\n",
    "plt.scatter(temps, m_t_l[16], color = \"red\", marker = \".\")\n",
    "plt.show()\n",
    "\n",
    "plt.xlabel(\"Temperature\")\n",
    "plt.ylabel('Magnetization')\n",
    "plt.title('Magnetization for different temperatures for L = 32')\n",
    "plt.plot(temps, m_t, color = \"green\", linestyle = \"dashed\")\n",
    "plt.scatter(temps, m_t_l[32], color = \"red\", marker = \".\")\n",
    "plt.show()\n",
    "\n",
    "plt.xlabel(\"Temperature\")\n",
    "plt.ylabel('Magnetization')\n",
    "plt.title('Magnetization for different temperatures for L = 64')\n",
    "plt.plot(temps, m_t, color = \"green\", linestyle = \"dashed\")\n",
    "plt.scatter(temps, m_t_l[64], color = \"red\", marker = \".\")\n",
    "plt.show()"
   ]
  },
  {
   "cell_type": "markdown",
   "metadata": {},
   "source": [
    "This takes a very long time to calculate. \n",
    "\n",
    "There are a few interseting things to note. The first is that the Magnetization may either approach 1 or -1 as $T \\rightarrow 0$. This depends on how the spins align as the system cools down, and it is random. So, in the event that one of these plots appears upside down, that is why. \n",
    "\n",
    "We see that the Onsager model appears to match our results pretty accurately for $T < T_C$. However, for $T > T_C$, the values for magnetization are all over the place. If we consider the average of all these values, we see that they do bounce around zero. However, they are not exactly zero as there always exists some fluctuations in our system due to randomness. "
   ]
  },
  {
   "cell_type": "markdown",
   "metadata": {},
   "source": [
    "### Typical spin configuration at different temperatures\n",
    "\n",
    "Once the energy and magnetization have come to equilibrium in your simulation, you can look at the configuration of the system to see what a typical configuration of the system looks like in thermal equilibrium.  One way to do this is to make a plot of the whole array of spins with a black or white square representing spin up or spin down.\n",
    "\n",
    "**What you need to do:**\n",
    "\n",
    "- Choose your system size to be $L = 256$.  \n",
    "- Make sure run your simulation enough time steps, until the system is in equilibrium.\n",
    "- Plot three pictures of spin configuration, at temperature $T=1.8$, $T=2.3$, $T=4.0$.  Your pictures should display the grid of spins with either a black or white square at a given site depending on whether the site is in a spin up state or a spin down state.\n",
    "- Comment on how the patterns differ at different temperatures and what they might physically tell us about how the system behaves at temperatures below, near, and above the critical temperature."
   ]
  },
  {
   "cell_type": "markdown",
   "metadata": {},
   "source": [
    "Let White represent spin up, Black represent spin down.\n",
    "\n",
    "Let's choose a large system size of $L = 256$. We can then run the mcmc algorithm for a long time to settle into equilibrium for different temperatures. We can then draw the matrix as a 2D heatmap, with white representing spin up, and black representing spin down."
   ]
  },
  {
   "cell_type": "code",
   "execution_count": null,
   "metadata": {},
   "outputs": [],
   "source": [
    "# Set parameters\n",
    "L = 256\n",
    "num_steps = L * 10000\n",
    "temp = 4.0\n",
    "\n",
    "# Create our Ising model.\n",
    "model = Ising_2d(L, temp)\n",
    "model.set_rand_state()\n",
    "\n",
    "# Let's run the MCMC for multiple steps.\n",
    "model.mcmcm(num_steps, calculate_vals = False, verbose = True)\n",
    "\n",
    "# And show the state\n",
    "model.show_state()"
   ]
  },
  {
   "cell_type": "markdown",
   "metadata": {},
   "source": [
    "At our chosen temp $T = 4.0$, we are larger than the critial temperature. For this temperature at equilibrium, we would expect our system to be random. The heatmap representation should look like static with no discernable areas of spin up or down. \n",
    "\n",
    "Looking at our result, we can see that this is indeed the case. "
   ]
  },
  {
   "cell_type": "code",
   "execution_count": 2,
   "metadata": {
    "scrolled": true
   },
   "outputs": [
    {
     "name": "stdout",
     "output_type": "stream",
     "text": [
      "Calculating step 2560000/2560000\r"
     ]
    },
    {
     "data": {
      "image/png": "[encoded data removed]",
      "text/plain": [
       "<Figure size 432x288 with 1 Axes>"
      ]
     },
     "metadata": {
      "needs_background": "light"
     },
     "output_type": "display_data"
    }
   ],
   "source": [
    "# Set parameters\n",
    "L = 256\n",
    "num_steps = L * 10000\n",
    "temp = 2.3\n",
    "\n",
    "# Create our Ising model.\n",
    "model = Ising_2d(L, temp)\n",
    "model.set_rand_state()\n",
    "\n",
    "# Let's run the MCMC for multiple steps.\n",
    "model.mcmcm(num_steps, calculate_vals = False, verbose = True)\n",
    "\n",
    "# And show the state\n",
    "model.show_state()"
   ]
  },
  {
   "cell_type": "markdown",
   "metadata": {},
   "source": [
    "At our chosen temp $T = 2.3$, we are near the critial temperature. For this temperature at equilibrium, we would expect our system to have clusters of a similar spin. The heatmap representation should look there are splotches of grouped spin throughout the structure. \n",
    "\n",
    "Looking at our result, we can see that this is indeed the case. "
   ]
  },
  {
   "cell_type": "code",
   "execution_count": null,
   "metadata": {},
   "outputs": [],
   "source": [
    "# Set parameters\n",
    "L = 256\n",
    "num_steps = L * 10000\n",
    "temp = 1.8\n",
    "\n",
    "# Create our Ising model.\n",
    "model = Ising_2d(L, temp)\n",
    "model.set_rand_state()\n",
    "\n",
    "# Let's run the MCMC for multiple steps.\n",
    "model.mcmcm(num_steps, calculate_vals = False, verbose = True)\n",
    "\n",
    "# And show the state\n",
    "model.show_state()"
   ]
  },
  {
   "cell_type": "markdown",
   "metadata": {},
   "source": [
    "At our chosen temp $T = 1.8$, we are less than the critial temperature. For this temperature at equilibrium, we would expect our system to be mostly uniform and have similar spin. The heatmap representation should appear to be dominated by one spin, with very small areas of opposite spin. \n",
    "\n",
    "Looking at our result, we can see that this is indeed the case. "
   ]
  }
 ],
 "metadata": {
  "kernelspec": {
   "display_name": "Python 3",
   "language": "python",
   "name": "python3"
  },
  "language_info": {
   "codemirror_mode": {
    "name": "ipython",
    "version": 3
   },
   "file_extension": ".py",
   "mimetype": "text/x-python",
   "name": "python",
   "nbconvert_exporter": "python",
   "pygments_lexer": "ipython3",
   "version": "3.8.6"
  }
 },
 "nbformat": 4,
 "nbformat_minor": 4
}
