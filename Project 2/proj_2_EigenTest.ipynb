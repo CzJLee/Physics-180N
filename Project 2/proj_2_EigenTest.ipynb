{
 "cells": [
  {
   "cell_type": "markdown",
   "metadata": {},
   "source": [
    "# Code Testing\n",
    "\n",
    "This notebook should contain tests showing that for hermitian matrices of sizes up to 30-by-30 with known eigenvalues, the function hermitian eigensystem gives correct eigenvalues and eigenvectors."
   ]
  },
  {
   "cell_type": "markdown",
   "metadata": {},
   "source": [
    "First, let's import our packages and functions we will use. \n",
    "\n",
    "`proj_2_module.py` contains code to diagonalize a Hermitian matrix. \n",
    "\n",
    "`proj_2_EigenTest.py` contains helper functions to test code and verify our calculations."
   ]
  },
  {
   "cell_type": "code",
   "execution_count": 11,
   "metadata": {},
   "outputs": [],
   "source": [
    "from proj_2_module import hermitian_eigensystem\n",
    "from proj_2_EigenTest import npprint, gen_rand_herm, is_hermitian, is_eigenvector, verify_eigenvectors\n",
    "import numpy as np\n",
    "import time"
   ]
  },
  {
   "cell_type": "markdown",
   "metadata": {},
   "source": [
    "It is my opinion that the default __str__ representation for numpy arrays is not that pretty. So throughout this project, I will use my own method, `npprint`, to display arrays. This uses numpy's `printoptions` to display the given array. \n",
    "\n",
    "Here is an example. "
   ]
  },
  {
   "cell_type": "code",
   "execution_count": 2,
   "metadata": {},
   "outputs": [
    {
     "name": "stdout",
     "output_type": "stream",
     "text": [
      "This is what the default print looks like:\n",
      "[[-3.06979823+2.77555756e-17j  0.56069676-2.38761630e+00j\n",
      "  -0.10489019-5.67376079e-01j]\n",
      " [ 0.56069676+2.38761630e+00j -3.2794576 -1.11022302e-16j\n",
      "   1.49902027-8.07285611e-01j]\n",
      " [-0.10489019+5.67376079e-01j  1.49902027+8.07285611e-01j\n",
      "  -3.65074417+0.00000000e+00j]]\n",
      "\n",
      "This is what npprint looks like:\n",
      "[[-3.0698+0.j      0.5607-2.3876j -0.1049-0.5674j]\n",
      " [ 0.5607+2.3876j -3.2795-0.j      1.499 -0.8073j]\n",
      " [-0.1049+0.5674j  1.499 +0.8073j -3.6507+0.j    ]]\n"
     ]
    }
   ],
   "source": [
    "_, a = gen_rand_herm(3)\n",
    "\n",
    "print(\"This is what the default print looks like:\")\n",
    "print(a)\n",
    "print(\"\\nThis is what npprint looks like:\")\n",
    "npprint(a)"
   ]
  },
  {
   "cell_type": "markdown",
   "metadata": {},
   "source": [
    "As you can see, it helps a lot for floats when a row can wrap to the next line. "
   ]
  },
  {
   "cell_type": "markdown",
   "metadata": {},
   "source": [
    "## Matrix Basics\n",
    "\n",
    "Before we go full gung ho into testing our functions, I want better explain some things that will help when learning this project from scratch. \n",
    "\n",
    "A Matrix $A$ is considered Symmetric if $A = A^T$, where $A^T$ is the transpose of $A$.\n",
    "\n",
    "A Matrix $A$ is considered Hermitian if $A=A^H=(A^*)^T$ where $A^*$ is the complex conjugate of $A$. \n",
    "\n",
    "In `numpy`, the transpose of a matrix `a` is `a.T`. The conjugate transpose of a matrix `a` is `a.conj().T`.\n",
    "\n",
    "A square matrix $A$ is [diagonalizable](https://en.wikipedia.org/wiki/Diagonalizable_matrix) if there exists an invertible matrix $V$ and a diagonal matrix $D$ such that $A = V D V^{-1}$. In this project, we are interested in diagonlizable Hermitian matrices where $A = V D V^{*}$. "
   ]
  },
  {
   "cell_type": "markdown",
   "metadata": {},
   "source": [
    "## Generating Random Hermitian Matricies\n",
    "\n",
    "In order to test our functions, we want to randomly produce Hermitian matricies. The method `gen_rand_herm` does just that. For example, we can produce a random 3x3 Hermitian matrix with known complex eigenvalues.\n",
    "\n",
    "For nice numbers, I designed `gen_rand_herm` to produce matricies with eigenvalues of form $a + bi$ where $a$ and $b$ are integers. "
   ]
  },
  {
   "cell_type": "code",
   "execution_count": 3,
   "metadata": {
    "scrolled": true
   },
   "outputs": [
    {
     "name": "stdout",
     "output_type": "stream",
     "text": [
      "Random eigenvalues:\n",
      "[9 5 1]\n",
      "\n",
      "Random Hermitian Matrix:\n",
      "[[ 3.0008+0.j     -0.802 +1.641j   0.6056-1.8231j]\n",
      " [-0.802 -1.641j   7.9048-0.j      0.5177+1.4415j]\n",
      " [ 0.6056+1.8231j  0.5177-1.4415j  4.0943+0.j    ]]\n"
     ]
    }
   ],
   "source": [
    "e, a = gen_rand_herm(dim = 3)\n",
    "\n",
    "print(\"Random eigenvalues:\")\n",
    "npprint(e)\n",
    "\n",
    "print(\"\\nRandom Hermitian Matrix:\")\n",
    "npprint(a)"
   ]
  },
  {
   "cell_type": "markdown",
   "metadata": {},
   "source": [
    "Let's verify that `gen_rand_herm` is actually Hermitian. "
   ]
  },
  {
   "cell_type": "code",
   "execution_count": 4,
   "metadata": {},
   "outputs": [
    {
     "name": "stdout",
     "output_type": "stream",
     "text": [
      "True\n"
     ]
    }
   ],
   "source": [
    "print(is_hermitian(a))"
   ]
  },
  {
   "cell_type": "markdown",
   "metadata": {},
   "source": [
    "## Diagonalizing Hermitian Matricies\n",
    "\n",
    "Great, we are able to produce random Hermitian Matricies. One thing to note is that if $A$ is Hermitian, then it must have real eigenvalues. See [Claim 1](https://users.cs.duke.edu/~kamesh/ModernAlg/lec5.pdf). \n",
    "\n",
    "Numpy has a built in method, `numpy.linal.eigh`, that will compute the eigenvalues and normalized eigenvector matrix. Our goal is to produce a method that will output similar using the [Jacobi Eigenvalue Algorithm](https://en.wikipedia.org/wiki/Jacobi_eigenvalue_algorithm).\n",
    "\n",
    "Let's see what numpy calculates for the eigenvalues for a matrix with known eigenvalues. \n",
    "\n",
    "\n",
    "The matrix \n",
    "$$\\begin{bmatrix}\n",
    "1 & \\sqrt{2} & 2\\\\ \n",
    "\\sqrt{2} & 3 & \\sqrt{2}\\\\ \n",
    "2 & \\sqrt{2} & 1\n",
    "\\end{bmatrix}$$ \n",
    "has eigenvalues $(-1, 1, 5)$."
   ]
  },
  {
   "cell_type": "code",
   "execution_count": 5,
   "metadata": {},
   "outputs": [
    {
     "name": "stdout",
     "output_type": "stream",
     "text": [
      "test_array has eigenvalues: \n",
      "[-1.  1.  5.]\n"
     ]
    }
   ],
   "source": [
    "test_array = np.array([[1, 2**0.5, 2],[2**0.5, 3, 2**0.5],[2, 2**0.5, 1]])\n",
    "\n",
    "w, v = np.linalg.eigh(test_array)\n",
    "\n",
    "print(\"test_array has eigenvalues: \")\n",
    "print(w)"
   ]
  },
  {
   "cell_type": "markdown",
   "metadata": {},
   "source": [
    "Now let's verify that the random Hermitian matricies we are producing have the eigenvalues we expect them to have."
   ]
  },
  {
   "cell_type": "code",
   "execution_count": 6,
   "metadata": {},
   "outputs": [
    {
     "name": "stdout",
     "output_type": "stream",
     "text": [
      "Random eigenvalues:\n",
      "[-9.000 0.000 5.000]\n",
      "Generated Hermitian has eigenvalues: \n",
      "[-9.000 -0.000 5.000]\n"
     ]
    }
   ],
   "source": [
    "e, a = gen_rand_herm(dim = 3)\n",
    "\n",
    "print(\"Random eigenvalues:\")\n",
    "npprint(np.sort(e*1.0))\n",
    "\n",
    "w, v = np.linalg.eigh(a)\n",
    "\n",
    "print(\"Generated Hermitian has eigenvalues: \")\n",
    "npprint(w)"
   ]
  },
  {
   "cell_type": "markdown",
   "metadata": {},
   "source": [
    "Indeed it does. We can now confirm that our `gen_rand_herm` method produces random Hermitian matricies with known eigenvalues. We can now use these random Hermitian matricies to test the Jacobi method we wrote. "
   ]
  },
  {
   "cell_type": "markdown",
   "metadata": {},
   "source": [
    "## Verify Jacobi Diagonalization Method\n",
    "\n",
    "I have written a method, `hermitian_eigensystem`, to diagonalize Hermitian matricies. Let's verify that this method produces valid solutions. \n",
    "\n",
    "First, generate a random 3x3 Hermitian matrix $A$. Then use `hermitian_eigensystem` and `np.linalg.eigh` to calculate solutions for $A$. We should verify that they produce the same eigenvalues. \n",
    "\n",
    "Then, we should verify that the eigenvectors given by `hermitian_eigensystem` are indeed eigenvectors with the corresponding eigenvalue pairs. "
   ]
  },
  {
   "cell_type": "code",
   "execution_count": 8,
   "metadata": {},
   "outputs": [
    {
     "name": "stdout",
     "output_type": "stream",
     "text": [
      "The expected eigenvalues are:\n",
      "[-6 -6  7]\n",
      "\n",
      "Jacobi method eigenvalues:\n",
      "[-6.000 -6.000 7.000]\n",
      "Numpy method eigenvalues:\n",
      "[-6.000 -6.000 7.000]\n",
      "Do the eigenvalues match?\n",
      "True\n",
      "\n",
      "Do the eigenvalues match the eigenvalues produced by the Jacobi method?\n",
      "True\n"
     ]
    }
   ],
   "source": [
    "# Generate random Hermitian matrix and eigenvalue set\n",
    "e, a = gen_rand_herm(3)\n",
    "print(\"The expected eigenvalues are:\")\n",
    "npprint(np.sort(e))\n",
    "print()\n",
    "\n",
    "my_w, my_v = hermitian_eigensystem(a)\n",
    "np_w, np_v = np.linalg.eigh(a)\n",
    "\n",
    "print(\"Jacobi method eigenvalues:\")\n",
    "npprint(my_w)\n",
    "print(\"Numpy method eigenvalues:\")\n",
    "npprint(np_w)\n",
    "print(\"Do the eigenvalues match?\")\n",
    "print(np.allclose(my_w, np_w))\n",
    "print()\n",
    "\n",
    "print(\"Do the eigenvectors match the eigenvalues produced by the Jacobi method?\")\n",
    "print(verify_eigenvectors(a, my_w, my_v))\n"
   ]
  },
  {
   "cell_type": "markdown",
   "metadata": {},
   "source": [
    "Excellent, everything seems to be working as expected. Now let's test our Jacobi method with Hermitian matricies of different sizes ranging from 2x2 to 30x30. "
   ]
  },
  {
   "cell_type": "code",
   "execution_count": 17,
   "metadata": {},
   "outputs": [
    {
     "name": "stdout",
     "output_type": "stream",
     "text": [
      "Diagonalized 2x2 Hermitian matrix in 0.00 seconds.\n",
      "Diagonalized 3x3 Hermitian matrix in 0.00 seconds.\n",
      "Diagonalized 4x4 Hermitian matrix in 0.00 seconds.\n",
      "Diagonalized 5x5 Hermitian matrix in 0.01 seconds.\n",
      "Diagonalized 6x6 Hermitian matrix in 0.02 seconds.\n",
      "Diagonalized 7x7 Hermitian matrix in 0.03 seconds.\n",
      "Diagonalized 8x8 Hermitian matrix in 0.05 seconds.\n",
      "Diagonalized 9x9 Hermitian matrix in 0.08 seconds.\n",
      "Diagonalized 10x10 Hermitian matrix in 0.10 seconds.\n",
      "Failed to diagonalize 11x11 Hermitian matrix.\n",
      "Diagonalized 12x12 Hermitian matrix in 0.22 seconds.\n",
      "Failed to diagonalize 13x13 Hermitian matrix.\n",
      "Failed to diagonalize 14x14 Hermitian matrix.\n",
      "Diagonalized 15x15 Hermitian matrix in 0.44 seconds.\n",
      "Failed to diagonalize 16x16 Hermitian matrix.\n",
      "Diagonalized 17x17 Hermitian matrix in 0.71 seconds.\n",
      "Diagonalized 18x18 Hermitian matrix in 0.90 seconds.\n",
      "Failed to diagonalize 19x19 Hermitian matrix.\n",
      "Failed to diagonalize 20x20 Hermitian matrix.\n",
      "Failed to diagonalize 21x21 Hermitian matrix.\n",
      "Failed to diagonalize 22x22 Hermitian matrix.\n",
      "Failed to diagonalize 23x23 Hermitian matrix.\n",
      "Failed to diagonalize 24x24 Hermitian matrix.\n",
      "Failed to diagonalize 25x25 Hermitian matrix.\n",
      "Failed to diagonalize 26x26 Hermitian matrix.\n",
      "Failed to diagonalize 27x27 Hermitian matrix.\n",
      "Failed to diagonalize 28x28 Hermitian matrix.\n",
      "Failed to diagonalize 29x29 Hermitian matrix.\n",
      "Failed to diagonalize 30x30 Hermitian matrix.\n"
     ]
    }
   ],
   "source": [
    "for dim in range(2, 31):\n",
    "    e, a = gen_rand_herm(dim)\n",
    "    tstart = time.time()\n",
    "    w, v = hermitian_eigensystem(a)\n",
    "    tend = time.time()\n",
    "    eigenvalues_match = np.allclose(w, np.sort(e))\n",
    "    eigenvectors_match = verify_eigenvectors(a, w, v)\n",
    "    if eigenvalues_match and eigenvectors_match:\n",
    "        dtime = tend - tstart\n",
    "        print(f\"Diagonalized {dim}x{dim} Hermitian matrix in {dtime:.2f} seconds.\")\n",
    "    else:\n",
    "        print(f\"Failed to diagonalize {dim}x{dim} Hermitian matrix.\")"
   ]
  }
 ],
 "metadata": {
  "kernelspec": {
   "display_name": "Python 3",
   "language": "python",
   "name": "python3"
  },
  "language_info": {
   "codemirror_mode": {
    "name": "ipython",
    "version": 3
   },
   "file_extension": ".py",
   "mimetype": "text/x-python",
   "name": "python",
   "nbconvert_exporter": "python",
   "pygments_lexer": "ipython3",
   "version": "3.8.6"
  }
 },
 "nbformat": 4,
 "nbformat_minor": 4
}
