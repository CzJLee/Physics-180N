{
 "cells": [
  {
   "cell_type": "markdown",
   "metadata": {},
   "source": [
    "# Code Testing\n",
    "\n",
    "This notebook should contain tests showing that for hermitian matrices of sizes up to 30-by-30 with known eigenvalues, the function hermitian eigensystem gives correct eigenvalues and eigenvectors."
   ]
  },
  {
   "cell_type": "markdown",
   "metadata": {},
   "source": [
    "First, let's import our packages and functions we will use. \n",
    "\n",
    "`proj_2_module.py` contains code to diagonalize a Hermitian matrix. \n",
    "\n",
    "`proj_2_EigenTest.py` contains helper functions to test code and verify our calculations."
   ]
  },
  {
   "cell_type": "code",
   "execution_count": 1,
   "metadata": {},
   "outputs": [],
   "source": [
    "from proj_2_module import hermitian_eigensystem\n",
    "from proj_2_EigenTest import npprint, gen_rand_herm, is_hermitian\n",
    "import numpy as np\n",
    "from math import sqrt"
   ]
  },
  {
   "cell_type": "markdown",
   "metadata": {},
   "source": [
    "It is my opinion that the default __str__ representation for numpy arrays is not that pretty. So throughout this project, I will use my own method, `npprint`, to display arrays. This uses numpy's `printoptions` to display the given array. \n",
    "\n",
    "Here is an example. "
   ]
  },
  {
   "cell_type": "code",
   "execution_count": 2,
   "metadata": {},
   "outputs": [
    {
     "name": "stdout",
     "output_type": "stream",
     "text": [
      "This is what the default print looks like:\n",
      "[[ 5.73104513+1.44736382j  1.70678386-0.4694029j  -6.24308869+0.15962865j]\n",
      " [-0.79666414+0.37914359j  7.82939843+8.34863202j  2.63008311+1.62371479j]\n",
      " [ 4.68725245-4.4029909j  -1.46487878+2.24786352j  5.43955644+1.20400417j]]\n",
      "\n",
      "This is what npprint looks like:\n",
      "[[ 5.731 +1.4474j  1.7068-0.4694j -6.2431+0.1596j]\n",
      " [-0.7967+0.3791j  7.8294+8.3486j  2.6301+1.6237j]\n",
      " [ 4.6873-4.403j  -1.4649+2.2479j  5.4396+1.204j ]]\n"
     ]
    }
   ],
   "source": [
    "_, a = gen_rand_herm(3)\n",
    "\n",
    "print(\"This is what the default print looks like:\")\n",
    "print(a)\n",
    "print(\"\\nThis is what npprint looks like:\")\n",
    "npprint(a)"
   ]
  },
  {
   "cell_type": "markdown",
   "metadata": {},
   "source": [
    "As you can see, it helps a lot for floats when a row can wrap to the next line. "
   ]
  },
  {
   "cell_type": "markdown",
   "metadata": {},
   "source": [
    "## Matrix Basics\n",
    "\n",
    "Before we go full gung ho into testing our functions, I want better explain some things that will help when learning this project from scratch. \n",
    "\n",
    "A Matrix $A$ is considered Symmetric if $A = A^T$, where $A^T$ is the transpose of $A$.\n",
    "\n",
    "A Matrix $A$ is considered Hermitian if $A=A^H=(A^*)^T$ where $A^*$ is the complex conjugate of $A$. \n",
    "\n",
    "In `numpy`, the transpose of a matrix `a` is `a.T`. The conjugate transpose of a matrix `a` is `a.conj().T`.\n",
    "\n",
    "A square matrix $A$ is [diagonalizable](https://en.wikipedia.org/wiki/Diagonalizable_matrix) if there exists an invertible matrix $V$ and a diagonal matrix $D$ such that $A = V D V^{-1}$. In this project, we are interested in diagonlizable Hermitian matrices where $A = V D V^{*}$. "
   ]
  },
  {
   "cell_type": "markdown",
   "metadata": {},
   "source": [
    "## Generating Random Hermitian Matricies\n",
    "\n",
    "In order to test our functions, we want to randomly produce Hermitian matricies. The method `gen_rand_herm` does just that. For example, we can produce a random 3x3 Hermitian matrix with known complex eigenvalues.\n",
    "\n",
    "For nice numbers, I designed `gen_rand_herm` to produce matricies with eigenvalues of form $a + bi$ where $a$ and $b$ are integers. "
   ]
  },
  {
   "cell_type": "code",
   "execution_count": 11,
   "metadata": {
    "scrolled": true
   },
   "outputs": [
    {
     "name": "stdout",
     "output_type": "stream",
     "text": [
      "Random eigenvalues:\n",
      "[10.-3.j 10.+0.j  8.-1.j]\n",
      "\n",
      "Random Hermitian Matrix:\n",
      "[[ 8.8993-1.0356j -1.2648-0.1412j  0.4356-0.3377j]\n",
      " [-0.5733-0.0407j  9.2304-0.9483j -0.3488+1.2926j]\n",
      " [-0.7163-1.0392j  0.1465+0.6941j  9.8703-2.0162j]]\n"
     ]
    }
   ],
   "source": [
    "e, a = gen_rand_herm(dim = 3)\n",
    "\n",
    "print(\"Random eigenvalues:\")\n",
    "npprint(e)\n",
    "\n",
    "print(\"\\nRandom Hermitian Matrix:\")\n",
    "npprint(a)"
   ]
  },
  {
   "cell_type": "markdown",
   "metadata": {},
   "source": [
    "Let's verify that `gen_rand_herm` is producing the Hermitian matricies we want. "
   ]
  },
  {
   "cell_type": "code",
   "execution_count": 13,
   "metadata": {},
   "outputs": [
    {
     "name": "stdout",
     "output_type": "stream",
     "text": [
      "[[ 8.89926866+1.03555112j -0.57325314+0.04070898j -0.71631306+1.0392441j ]\n",
      " [-1.26478341+0.14124563j  9.23040122+0.94825818j  0.14645426-0.69413342j]\n",
      " [ 0.43555863+0.33774303j -0.34882441-1.29264946j  9.87033012+2.01619071j]]\n"
     ]
    }
   ],
   "source": [
    "is_hermitian(a)\n",
    "\n",
    "print(a.conj().T)"
   ]
  }
 ],
 "metadata": {
  "kernelspec": {
   "display_name": "Python 3",
   "language": "python",
   "name": "python3"
  },
  "language_info": {
   "codemirror_mode": {
    "name": "ipython",
    "version": 3
   },
   "file_extension": ".py",
   "mimetype": "text/x-python",
   "name": "python",
   "nbconvert_exporter": "python",
   "pygments_lexer": "ipython3",
   "version": "3.8.6"
  }
 },
 "nbformat": 4,
 "nbformat_minor": 4
}
