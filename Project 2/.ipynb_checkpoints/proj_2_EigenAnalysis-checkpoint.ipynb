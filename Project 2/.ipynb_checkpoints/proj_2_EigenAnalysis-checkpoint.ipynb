{
 "cells": [
  {
   "cell_type": "markdown",
   "metadata": {},
   "source": [
    "# Anharmonic Ascillator Eigen Analysis\n",
    "\n",
    "1. Show that the operators $\\hat x^2$ and $\\hat x^4$ have the following matrix elements in the harmonic oscillator basis:\n",
    "    \\begin{align}\n",
    "    \\langle n|\\hat x^2|m\\rangle \n",
    "    &=(n+1/2)\\delta_{nm} + \\tfrac{1}{2}\\sqrt{(n+1)(n+2)}\\,\\delta_{n,m-2} + \n",
    "\\tfrac{1}{2}\\sqrt{(n-1)n\\,}\\,\\delta_{n,m+2} \\\\\n",
    "    \\langle n|\\hat x^4|m\\rangle \n",
    "    &= \\tfrac{1}{4}\\!\\left(6n^2 + 6n + 3\\right)\\!\\delta_{nm}\n",
    "+ \\sqrt{(n+1)(n+2)}\\left(n+\\tfrac{3}{2}\\right)\\!\\delta_{n,m-2}\\;+ \\nonumber\\\\\n",
    "& + \\sqrt{(n-1)n\\,}\\left(n-\\tfrac{1}{2}\\right)\\!\\delta_{n,m+2} +\n",
    "\\tfrac{1}{4}\\sqrt{(n+1)(n+2)(n+3)(n+4)}\\,\\delta_{n,m-4}\\;+ \\nonumber\\\\\n",
    "& + \\tfrac{1}{4}\\sqrt{(n-3)(n-2)(n-1)n\\,}\\,\\delta_{n,m+4}.\n",
    "\\end{align}\n",
    "1. Solve the anharmonic oscillator eigenvalue problem written in the harmonic oscillator basis for at least the first four energy levels. Note that the function `hermval` from NumPy offers an easy solution to compute the eigenfunctions $\\psi_n(x)$ from the eigenvectors of the matrix representation of the hamiltonian. \n",
    "1. Plot the first four energy \n",
    "levels $E_n(\\lambda)$ versus $\\lambda$ over the range \n",
    "$0 \\leq \\lambda \\leq 1$. Plot also the spacings between the \n",
    "levels $\\Delta E(\\lambda) = E_{n+1}(\\lambda) - E_n(\\lambda)$. Make sure to use a basis \n",
    "size $N$ sufficiently larger than the desired number of lowest eigenvalues to ensure convergence of the eigensystem algorithm.\n",
    "1. Check the convergence of the method with respect to the basis size $N$ by plotting one \n",
    "of the lowest (or more) energy eigenvalues $E_n(N)$ for $\\lambda = 1$ versus the basis size $N$. \n",
    "Alternatively, to demonstrate the convergence more clearly, you can also plot the differences between \n",
    "two consecutive estimates $\\epsilon_n = E_n(N) - E_n(N\\!+\\!2)$ versus $N$.\n",
    "1. Plot and compare the first four eigenfunctions $\\psi_n(x)$ for the harmonic oscillator with $\\lambda=0$ to \n",
    "the eigenfunctions for the anharmonic oscillator with $\\lambda=1$."
   ]
  },
  {
   "cell_type": "markdown",
   "metadata": {},
   "source": [
    "## 1. Derive $\\hat x^2$ and $\\hat x^4$ operators\n",
    "\n",
    "Let's begin with the definitions for the ladder oprators, $\\hat{a_{+}}$ and $\\hat{a_{-}}$.\n",
    "\n",
    "$$\\begin{align}\n",
    "\\langle n | \\hat{a_{+}} | m \\rangle & = \\langle n | \\sqrt{m+1} | m+1 \\rangle \\\\\n",
    "& = \\sqrt{m+1} \\langle n | m+1 \\rangle \\\\\n",
    "& = \\sqrt{m+1} \\delta _{n, m+1} \\\\\n",
    "\\langle n | \\hat{a_{-}} | m \\rangle & = \\langle n | \\sqrt{m} | m-1 \\rangle \\\\\n",
    "& = \\sqrt{m} \\langle n | m-1 \\rangle \\\\\n",
    "& = \\sqrt{m} \\delta _{n, m-1} \\\\\n",
    "\\end{align}$$\n",
    "\n",
    "The $\\hat x$ operator is \n",
    "\n",
    "$$\\hat x = \\frac{1}{\\sqrt{2}}(\\hat{a_{+}} + \\hat{a_{-}})$$\n",
    "\n",
    "So calculating $\\langle n | \\hat{x} | m \\rangle$\n",
    "\n",
    "$$\\begin{align}\n",
    "\\langle n | \\hat{x} | m \\rangle & = \\frac{1}{\\sqrt{2}} \\langle n | \\hat{a_{+}} + \\hat{a_{-}}  | m \\rangle \\\\\n",
    "& = \\frac{1}{\\sqrt{2}} [ \\langle n | \\hat{a_{+}} | m \\rangle + \\langle n | \\hat{a_{-}}  | m \\rangle ] \\\\\n",
    "& = \\frac{1}{\\sqrt{2}} [ \\sqrt{m+1} \\delta _{n, m+1} + \\sqrt{m} \\delta _{n, m-1} ] \\\\\n",
    "\\end{align}$$\n",
    "\n",
    "We can then find $\\langle n | \\hat{x^2} | m \\rangle$\n",
    "\n",
    "$$\\begin{align}\n",
    "\\langle n | \\hat{x^2} | m \\rangle & = \\frac{1}{2} \\langle n | ( \\hat{a_{+}} + \\hat{a_{-}} )^2 | m \\rangle \\\\\n",
    "& = \\frac{1}{2} \\langle n |  \\hat{a_{+}}\\hat{a_{+}} + \\hat{a_{+}}\\hat{a_{-}} + \\hat{a_{-}}\\hat{a_{+}} + \\hat{a_{-}}\\hat{a_{-}}| m \\rangle \\\\\n",
    "& = \\frac{1}{2}[ \\langle n |  \\hat{a_{+}}\\hat{a_{+}} | m \\rangle +  \\langle n |  \\hat{a_{+}}\\hat{a_{-}} | m \\rangle +  \\langle n |  \\hat{a_{-}}\\hat{a_{+}} | m \\rangle +  \\langle n |  \\hat{a_{-}}\\hat{a_{-}} | m \\rangle ] \\\\\n",
    "\\end{align}$$\n",
    "\n",
    "Each component can be calculated by iteratively applying operators. \n",
    "\n",
    "$$\\begin{align}\n",
    "\\langle n |  \\hat{a_{+}}\\hat{a_{+}} | m \\rangle & = \\langle n |  \\hat{a_{+}} \\sqrt{m+1} | m+1 \\rangle \\\\\n",
    "& =  \\langle n |  \\sqrt{m+1}\\sqrt{m+2} | m+2 \\rangle \\\\ \n",
    "& =  \\sqrt{m+1}\\sqrt{m+2} \\langle n | m+2 \\rangle \\\\\n",
    "& =  \\sqrt{(m+1)(m+2)} \\delta _{n, m+2} \\\\\n",
    "\\langle n |  \\hat{a_{+}}\\hat{a_{-}} | m \\rangle & =  (m) \\delta _{n, m} \\\\\n",
    "\\langle n |  \\hat{a_{-}}\\hat{a_{+}} | m \\rangle & =  (m+1) \\delta _{n, m} \\\\\n",
    "\\langle n |  \\hat{a_{-}}\\hat{a_{-}} | m \\rangle & =  \\sqrt{(m)(m-1)} \\delta _{n, m-2} \\\\\n",
    "\\end{align}$$\n",
    "\n",
    "Adding everything together, we see that \n",
    "$$\\langle n|\\hat {x^2}|m\\rangle  = \\frac{1}{2} [ (2m + 1)\\delta_{n, m} + \\sqrt{(m+1)(m+2)}\\delta_{n,m+2} + \\sqrt{(m)(m-1)}\\delta_{n,m-2} ]$$\n",
    "\n",
    "In a similar fashion, we can find $\\langle n | \\hat{x^4} | m \\rangle$. The calculations are all the same, just longer. Simplifying, \n",
    "\n",
    "\\begin{align}\n",
    "\\langle n | \\hat{x^4} | m \\rangle & = \\frac{1}{2} \\langle n | ( \\hat{a_{+}} + \\hat{a_{-}} )^4 | m \\rangle \\\\\n",
    "& = \\frac{1}{2}[ \\frac{1}{2}\\left(6n^2 + 6n + 3\\right)\\delta_{n,m}\n",
    "+ \\left(2n+ 3\\right)\\sqrt{(n+1)(n+2)}\\delta_{n,m-2} \\\\\n",
    "& +\\left(2n-1\\right) \\sqrt{(n)(n-1)}\\delta_{n,m+2} +\n",
    "\\frac{1}{2}\\sqrt{(n+1)(n+2)(n+3)(n+4)}\\delta_{n,m-4} \\\\\n",
    "& + \\frac{1}{2}\\sqrt{(n-3)(n-2)(n-1)n}\\delta_{n,m+4} ] \\\\\n",
    "\\end{align}"
   ]
  },
  {
   "cell_type": "code",
   "execution_count": null,
   "metadata": {},
   "outputs": [],
   "source": [
    "from proj_2_module import hermitian_eigensystem\n",
    "from proj_2_EigenTest import npprint, gen_rand_herm, is_hermitian, is_eigenvector, verify_eigenvectors\n",
    "from proj_2_EigenAnalysis import psi, plot_eigenfunction\n",
    "import numpy as np\n",
    "import matplotlib.pyplot as plt\n",
    "from math import sqrt"
   ]
  },
  {
   "cell_type": "markdown",
   "metadata": {},
   "source": [
    "## 2. Solving the anharmonic oscillator eigenvalue problem\n",
    "\n",
    "Let's solve the anharmonic oscillator using $\\hat{H}(\\lambda) = \\hat{H} + \\lambda \\hat{x^4}$. Note that $\\langle n | \\hat{H} | m  \\rangle = (m + \\frac{1}{2})\\delta _{n, m}$. So, to find $\\hat{H}(\\lambda)$, we can add the matrix representations of $\\hat{H}$ and $\\lambda \\hat{x^4}$ together.\n",
    "\n",
    "$\\hat{H}$ is simple to compute, as it is simply a diagonal matrix.\n",
    "\n",
    "Before we do anything, we must choose a dimension size. Since we can't compute infinite dimensional matricies, we must choose a dimension that balances a large size and computation time. \n",
    "\n",
    "Since we are interested in the first four energy levels, let's choose `dim = 20`, as this seems sufficiently large, and can be diagonalized in about 3 seconds. "
   ]
  },
  {
   "cell_type": "code",
   "execution_count": 2,
   "metadata": {},
   "outputs": [],
   "source": [
    "dim = 20\n",
    "\n",
    "# Create a list of diagonals for H\n",
    "h_diag = [m + 0.5 for m in range(1, dim + 1)]\n",
    "# Create a matrix of zeros, and fill the diagonals with the diagonal elements. \n",
    "h = np.zeros((dim, dim))\n",
    "np.fill_diagonal(h, h_diag)"
   ]
  },
  {
   "cell_type": "markdown",
   "metadata": {},
   "source": [
    "Now lets create our matrix for $\\hat{x^4}$. Although we computed the full expansion for $\\hat{x^4}$, it is easier to implement, and less prone to mistakes if we compute $\\hat{x^4}$ by multiplying the matrix representiaon of $\\hat{x}$."
   ]
  },
  {
   "cell_type": "code",
   "execution_count": 3,
   "metadata": {},
   "outputs": [],
   "source": [
    "x = np.zeros((dim, dim))\n",
    "\n",
    "# Iterate over every element in the matrix, and check for deltas = 1.\n",
    "for n in range(dim):\n",
    "    for m in range(dim):\n",
    "        if n == m + 1:\n",
    "            x[n, m] = sqrt(m + 1)\n",
    "        elif n == m - 1:\n",
    "            x[n, m] = sqrt(m)\n",
    "            \n",
    "x_4 = np.linalg.multi_dot([x, x, x, x])"
   ]
  },
  {
   "cell_type": "markdown",
   "metadata": {},
   "source": [
    "We would like to plot the wave function for the first four energy levels. That is, the wave function given by the first four eigenvectors. \n",
    "\n",
    "Consider the ground state $\\psi_0(x)$. From our `hermitian_eigensystem` solution, the first element in the eigenvalue vector is the energy of the ground state, $E_0(\\lambda)$. The first column of the eigenvector matrix is the eigenvector that corresponds with this eigenvalue for $E_0(\\lambda)$. Let $c = [c_0, c_1, \\cdots,c_n]$ be this eigenvector. \n",
    "\n",
    "We then say that for the anharmonic oscillator, \n",
    "\n",
    "$$\\psi_0(x)= c_0 \\phi_0(x) + c_1 \\phi_1(x) + \\dotsc, + c_n \\phi_n(x)$$ \n",
    "\n",
    "where \n",
    "\n",
    "$$\\phi _n(x) = (2^n n! \\sqrt{\\pi})^{-1/2}e^{-x^2/2}H_n(x)$$ \n",
    "\n",
    "as given on page 15 of `project2-lecture notes 1.pdf`. Since we chose a matrix size of $N = 20$, our $n$ ranges from 0 to 19. So, \n",
    "\n",
    "\n",
    "$$\\psi_0(x)= c_0 \\phi_0(x) + c_1 \\phi_1(x) + \\dotsc, + c_{19} \\phi_{19}(x)$$ \n",
    "\n",
    "We can then plot the Real part of this wave function as a function of $x$. This is the wave function solution for the first energy level. We can then repeat this process for the next three energy levels, for $\\psi_0(x)$, $\\psi_1(x)$, $\\psi_2(x)$, and $\\psi_3(x)$."
   ]
  },
  {
   "cell_type": "code",
   "execution_count": 9,
   "metadata": {
    "scrolled": true
   },
   "outputs": [
    {
     "data": {
      "image/png": "[encoded data removed]",
      "text/plain": [
       "<Figure size 432x288 with 1 Axes>"
      ]
     },
     "metadata": {
      "needs_background": "light"
     },
     "output_type": "display_data"
    }
   ],
   "source": [
    "# Add to make H(lambda) Matrix\n",
    "h_l = h + x_4\n",
    "\n",
    "# Diagonalize Hamiltonain Matrix\n",
    "w, v = hermitian_eigensystem(h_l)\n",
    "\n",
    "# Plot Wavefunction\n",
    "p = []\n",
    "\n",
    "# Plot from -5 to 5. \n",
    "x = np.arange(-5, 5, 0.01)\n",
    "for j, _ in enumerate(x):\n",
    "    # Use psi function to calculate value at a given point x. \n",
    "    p.append(psi(v.T[0], x[j]))\n",
    "\n",
    "plt.plot(x, p)\n",
    "plt.show()"
   ]
  },
  {
   "cell_type": "markdown",
   "metadata": {},
   "source": [
    "Great! We can now visulaize the wave function solution for the ground state of the anharmonic oscillator with $\\lambda = 1$.\n",
    "\n",
    "From here on out, let's use numpy's hermitian matrix solver. In EigenTest, we proved that our method `hermitian_eigensystem` and `np.linalg.eigh` produce the same results. Since we will be diagonalizing lots of large matricies, I will use the numpy method to save on computation time. \n",
    "\n",
    "We have successfully plotted the ground state wave function. Now let's plot the wave function for the other energy levels. \n",
    "\n",
    "Note that I will use `plot_eigenfunction` to reduce repeated code. "
   ]
  },
  {
   "cell_type": "markdown",
   "metadata": {},
   "source": [
    "Here is a plot of $\\psi_1$ for $E_1$."
   ]
  },
  {
   "cell_type": "code",
   "execution_count": null,
   "metadata": {},
   "outputs": [],
   "source": [
    "plot_eigenfunction(l = 1, energy_level = 1)"
   ]
  },
  {
   "cell_type": "markdown",
   "metadata": {},
   "source": [
    "Here is a plot of $\\psi_2$ for $E_2$."
   ]
  },
  {
   "cell_type": "code",
   "execution_count": null,
   "metadata": {},
   "outputs": [],
   "source": [
    "plot_eigenfunction(l = 1, energy_level = 2)"
   ]
  },
  {
   "cell_type": "markdown",
   "metadata": {},
   "source": [
    "Here is a plot of $\\psi_3$ for $E_3$."
   ]
  },
  {
   "cell_type": "code",
   "execution_count": null,
   "metadata": {},
   "outputs": [],
   "source": [
    "plot_eigenfunction(l = 1, energy_level = 3)"
   ]
  },
  {
   "cell_type": "markdown",
   "metadata": {},
   "source": [
    "## 3. Plot the first four energy levels $E_n(\\lambda)$\n",
    "\n",
    "Now to find the first four energy levels, $E_n(\\lambda)$, we simply have to diagonalize $\\hat{H}(\\lambda) = \\hat{H} + \\lambda \\hat{x^4}$ and take the first four eigenvalues. Let's iterate $\\lambda$ from $0$ to $1$ in steps of $0.01$."
   ]
  },
  {
   "cell_type": "code",
   "execution_count": 4,
   "metadata": {},
   "outputs": [
    {
     "data": {
      "image/png": "[encoded data removed]",
      "text/plain": [
       "<Figure size 432x288 with 1 Axes>"
      ]
     },
     "metadata": {
      "needs_background": "light"
     },
     "output_type": "display_data"
    }
   ],
   "source": [
    "lambdas = [i/100 for i in range(101)]\n",
    "energy = [[] for _ in range(4)]\n",
    "\n",
    "for l in lambdas:\n",
    "    h_l = h + l * x_4\n",
    "    w, v = np.linalg.eigh(h_l)\n",
    "    for n in range(4):\n",
    "        energy[n].append(w[n])\n",
    "\n",
    "plt.plot(lambdas, energy[0])\n",
    "plt.plot(lambdas, energy[1])\n",
    "plt.plot(lambdas, energy[2])\n",
    "plt.plot(lambdas, energy[3])\n",
    "plt.xlabel('lambda')\n",
    "plt.ylabel('Energy')\n",
    "plt.title('First Four Energy Levels for Lambda in range [0, 1]')\n",
    "plt.show()"
   ]
  },
  {
   "cell_type": "markdown",
   "metadata": {},
   "source": [
    "Above, we see the plot of the first four energy levels $E_n(\\lambda)$ vs $\\lambda$ over the range $0 \\leq \\lambda \\leq 1$.\n",
    "\n",
    "$E_0(\\lambda)$ is blue. \n",
    "\n",
    "$E_1(\\lambda)$ is orange. \n",
    "\n",
    "$E_2(\\lambda)$ is green. \n",
    "\n",
    "$E_3(\\lambda)$ is red. \n",
    "\n",
    "From this plot, we can draw a few conclusions. We see $E_0(\\lambda)$ has the lowest energy level, which makes sense as it is the ground state. \n",
    "\n",
    "We also see that as $\\lambda$ increases, the energy $E_n(\\lambda)$ also increases. This suggests that as we increase the pertubation $\\lambda$, the energy levels increase. "
   ]
  },
  {
   "cell_type": "markdown",
   "metadata": {},
   "source": [
    "Let's also plot the spacings between the levels $\\Delta E(\\lambda) = E_{n+1}(\\lambda) - E_n(\\lambda)$ as a function of $\\lambda$. "
   ]
  },
  {
   "cell_type": "code",
   "execution_count": 5,
   "metadata": {},
   "outputs": [
    {
     "data": {
      "image/png": "[encoded data removed]",
      "text/plain": [
       "<Figure size 432x288 with 1 Axes>"
      ]
     },
     "metadata": {
      "needs_background": "light"
     },
     "output_type": "display_data"
    }
   ],
   "source": [
    "# Instead of using loops to zip through the lists of energies, it might just be easier to convert these to numpy arrays. \n",
    "\n",
    "energy = np.array(energy)\n",
    "\n",
    "del_e_01 = energy[1] - energy[0]\n",
    "del_e_12 = energy[2] - energy[1]\n",
    "del_e_23 = energy[3] - energy[2]\n",
    "\n",
    "plt.plot(lambdas, del_e_01)\n",
    "plt.plot(lambdas, del_e_12)\n",
    "plt.plot(lambdas, del_e_23)\n",
    "plt.xlabel('lambda')\n",
    "plt.ylabel('Energy spacing between levels')\n",
    "plt.title('Energy spacing between adjacent energy levels as a function of lambda')\n",
    "plt.show()"
   ]
  },
  {
   "cell_type": "markdown",
   "metadata": {},
   "source": [
    "From this, we see that when $\\lambda = 0$, the energy spacing between levels is a constant of $1$. This makes sense, as this is what we would expect from a simple harmonic oscillator. \n",
    "\n",
    "As $\\lambda$ starts to increase, the spacing between energy levels starts to increase. This suggests that as we increase the pertubation, the energy levels increase and move further apart. "
   ]
  },
  {
   "cell_type": "markdown",
   "metadata": {},
   "source": [
    "## 4. Convergence as $N \\rightarrow \\infty $\n",
    "\n",
    "Previously, we were working under the assumption that as we increased the size of our Hamiltonain matrix, we would get closer and closer to the true solution. Since the true solution requires a matrix of size infinity, we make an approximation by choosing a size $N < \\infty $.\n",
    "\n",
    "If this is true, then we should see that as $N$ increases, the eigenvalue solutions will converge on their true value. \n",
    "\n",
    "To show this, we can plot the first four energy levels $E_n(\\lambda)$ as a function of $N$, where $N$ is the size of the Hamiltonian matrix. We should see these eigenvalues converge and settle on a value as $N$ increases. Let's choose $\\lambda = 1$ and range $N$ from $2$ to $30$. "
   ]
  },
  {
   "cell_type": "code",
   "execution_count": 6,
   "metadata": {},
   "outputs": [],
   "source": [
    "def create_h_l(dim, l = 1):\n",
    "    if dim < 2:\n",
    "        raise Exception(\"dim must be >= 2\")\n",
    "    # Create a list of diagonals for H\n",
    "    h_diag = [m + 0.5 for m in range(1, dim + 1)]\n",
    "    # Create a matrix of zeros, and fill the diagonals with the diagonal elements. \n",
    "    h = np.zeros((dim, dim))\n",
    "    np.fill_diagonal(h, h_diag)\n",
    "\n",
    "    x = np.zeros((dim, dim))\n",
    "    # Iterate over every element in the matrix, and check for deltas = 1.\n",
    "    for n in range(dim):\n",
    "        for m in range(dim):\n",
    "            if n == m + 1:\n",
    "                x[n, m] = sqrt(m + 1)\n",
    "            elif n == m - 1:\n",
    "                x[n, m] = sqrt(m)\n",
    "\n",
    "    x_4 = np.linalg.multi_dot([x, x, x, x])\n",
    "    \n",
    "    return h + l * x_4"
   ]
  },
  {
   "cell_type": "code",
   "execution_count": 7,
   "metadata": {},
   "outputs": [
    {
     "data": {
      "image/png": "[encoded data removed]",
      "text/plain": [
       "<Figure size 432x288 with 1 Axes>"
      ]
     },
     "metadata": {
      "needs_background": "light"
     },
     "output_type": "display_data"
    }
   ],
   "source": [
    "n = list(range(4, 31))\n",
    "h_l = [create_h_l(dim, 1) for dim in n]\n",
    "energy = [[] for _ in range(4)]\n",
    "\n",
    "for i in range(len(h_l)):\n",
    "    w, v = np.linalg.eigh(h_l[i])\n",
    "    for j in range(4):\n",
    "        energy[j].append(w[j])\n",
    "        \n",
    "plt.plot(n, energy[0])\n",
    "plt.plot(n, energy[1])\n",
    "plt.plot(n, energy[2])\n",
    "plt.plot(n, energy[3])\n",
    "plt.xlabel('N')\n",
    "plt.ylabel('Energy')\n",
    "plt.title('First Four Energy Levels for Different Matrix Dimension N')\n",
    "plt.show()"
   ]
  },
  {
   "cell_type": "markdown",
   "metadata": {},
   "source": [
    "As we can see in the plot above, when $N$ is low, the energy eigenvalues bounce around, but slowly start to converge as $N$ increases. \n",
    "\n",
    "$E_0$ is blue. \n",
    "\n",
    "$E_1$ is orange. \n",
    "\n",
    "$E_2$ is green. \n",
    "\n",
    "$E_3$ is red. \n",
    "\n",
    "It appears that larger energy levels require a larger matrix to converge. This makes sense.\n",
    "\n",
    "We can now confirm that as $N$ incrases, the energy eigenvalues do converge. "
   ]
  },
  {
   "cell_type": "markdown",
   "metadata": {},
   "source": [
    "## 5. Plot and compare $\\psi_n(x)$ for $\\lambda = 0$ and $\\lambda = 1$\n"
   ]
  },
  {
   "cell_type": "code",
   "execution_count": 8,
   "metadata": {},
   "outputs": [
    {
     "ename": "SyntaxError",
     "evalue": "invalid syntax (<ipython-input-8-f604e09d3768>, line 25)",
     "output_type": "error",
     "traceback": [
      "\u001b[0;36m  File \u001b[0;32m\"<ipython-input-8-f604e09d3768>\"\u001b[0;36m, line \u001b[0;32m25\u001b[0m\n\u001b[0;31m    x = [i / 100 for i in ]\u001b[0m\n\u001b[0m                          ^\u001b[0m\n\u001b[0;31mSyntaxError\u001b[0m\u001b[0;31m:\u001b[0m invalid syntax\n"
     ]
    }
   ],
   "source": [
    "dim = 20\n",
    "\n",
    "# Create a list of diagonals for H\n",
    "h_diag = [m + 0.5 for m in range(1, dim + 1)]\n",
    "# Create a matrix of zeros, and fill the diagonals with the diagonal elements. \n",
    "h = np.zeros((dim, dim))\n",
    "np.fill_diagonal(h, h_diag)\n",
    "\n",
    "x = np.zeros((dim, dim))\n",
    "\n",
    "# Iterate over every element in the matrix, and check for deltas = 1.\n",
    "for n in range(dim):\n",
    "    for m in range(dim):\n",
    "        if n == m + 1:\n",
    "            x[n, m] = sqrt(m + 1)\n",
    "        elif n == m - 1:\n",
    "            x[n, m] = sqrt(m)\n",
    "            \n",
    "x_4 = np.linalg.multi_dot([x, x, x, x])\n",
    "\n",
    "h_l = h + x_4\n",
    "\n",
    "w, v = np.linalg.eigh(h_l)\n",
    "\n",
    "x = [i / 100 for i in ]"
   ]
  }
 ],
 "metadata": {
  "kernelspec": {
   "display_name": "Python 3",
   "language": "python",
   "name": "python3"
  },
  "language_info": {
   "codemirror_mode": {
    "name": "ipython",
    "version": 3
   },
   "file_extension": ".py",
   "mimetype": "text/x-python",
   "name": "python",
   "nbconvert_exporter": "python",
   "pygments_lexer": "ipython3",
   "version": "3.8.6"
  }
 },
 "nbformat": 4,
 "nbformat_minor": 4
}
