{
 "cells": [
  {
   "cell_type": "markdown",
   "metadata": {},
   "source": [
    "# Tutorial 2\n",
    "\n",
    "Christian Lee\n",
    "\n",
    "(For this assignment, you'll need to structure your own answer notebook.  For each exercise, copy the heading `### Exercises - ...` into a new markdown cell in your answer notebook, and fill in the answers as appropriate.  Whenever the assignment asks you to run code in a cell \"below\", instead run it in your answer notebook.  Remember, the important thing is (1) for you to complete the exercises, and (2) for your TA to be able to see that you have by looking at your answer notebook.)"
   ]
  },
  {
   "cell_type": "markdown",
   "metadata": {},
   "source": [
    "### Exercises -- Creating lists and adding items to them"
   ]
  },
  {
   "cell_type": "markdown",
   "metadata": {},
   "source": [
    "Predict the output of the following blocks of code, then run the code in a cell below and determine if your prediction was correct. If it wasn't correct, make sure to determine where you went wrong."
   ]
  },
  {
   "cell_type": "markdown",
   "metadata": {},
   "source": [
    "**Block 1**\n",
    "    \n",
    "    [1, 2, 3] == [1, 2, 3]\n",
    "    \n",
    "True"
   ]
  },
  {
   "cell_type": "code",
   "execution_count": 1,
   "metadata": {},
   "outputs": [
    {
     "data": {
      "text/plain": [
       "True"
      ]
     },
     "execution_count": 1,
     "metadata": {},
     "output_type": "execute_result"
    }
   ],
   "source": [
    "[1, 2, 3] == [1, 2, 3]"
   ]
  },
  {
   "cell_type": "markdown",
   "metadata": {},
   "source": [
    "**Block 2**\n",
    "    \n",
    "    [1, 2, 3] == [1, 3, 2]\n",
    "    \n",
    "False"
   ]
  },
  {
   "cell_type": "code",
   "execution_count": 2,
   "metadata": {},
   "outputs": [
    {
     "data": {
      "text/plain": [
       "False"
      ]
     },
     "execution_count": 2,
     "metadata": {},
     "output_type": "execute_result"
    }
   ],
   "source": [
    "[1, 2, 3] == [1, 3, 2]"
   ]
  },
  {
   "cell_type": "markdown",
   "metadata": {},
   "source": [
    "**Block 3**\n",
    "    \n",
    "    list_1 = [5, 7, 10]\n",
    "    list_2 = [5, 7, 10, 11]\n",
    "    list_3 = list_2\n",
    "    list_3.append(11)\n",
    "    list_4 = [5, 7, 10, 11, 11]\n",
    "    list_1.append(11)\n",
    "    print(list_1 == list_3)\n",
    "    print(list_1 == list_2)\n",
    "    print(list_3 == list_4)\n",
    "    \n",
    "False\n",
    "\n",
    "False\n",
    "\n",
    "True"
   ]
  },
  {
   "cell_type": "code",
   "execution_count": 3,
   "metadata": {},
   "outputs": [
    {
     "name": "stdout",
     "output_type": "stream",
     "text": [
      "False\n",
      "False\n",
      "True\n"
     ]
    }
   ],
   "source": [
    "list_1 = [5, 7, 10]\n",
    "list_2 = [5, 7, 10, 11]\n",
    "list_3 = list_2\n",
    "list_3.append(11)\n",
    "list_4 = [5, 7, 10, 11, 11]\n",
    "list_1.append(11)\n",
    "print(list_1 == list_3)\n",
    "print(list_1 == list_2)\n",
    "print(list_3 == list_4)"
   ]
  },
  {
   "cell_type": "markdown",
   "metadata": {},
   "source": [
    "**Block 4**\n",
    "    \n",
    "    empty_list = []\n",
    "    empty_list.append(13)\n",
    "    empty_list.append(7)\n",
    "    empty_list.append(271)\n",
    "    empty_list == [271, 7, 13]\n",
    "    \n",
    "False"
   ]
  },
  {
   "cell_type": "code",
   "execution_count": 4,
   "metadata": {},
   "outputs": [
    {
     "data": {
      "text/plain": [
       "False"
      ]
     },
     "execution_count": 4,
     "metadata": {},
     "output_type": "execute_result"
    }
   ],
   "source": [
    "empty_list = []\n",
    "empty_list.append(13)\n",
    "empty_list.append(7)\n",
    "empty_list.append(271)\n",
    "empty_list == [271, 7, 13]"
   ]
  },
  {
   "cell_type": "markdown",
   "metadata": {},
   "source": [
    "### Exercises - List elements can be called and their values can be reassigned"
   ]
  },
  {
   "cell_type": "markdown",
   "metadata": {},
   "source": [
    "1. In each of the following code blocks, a list called `test_list` is created and manipulated in a number of ways.  \n",
    "    - In each case, predict what the output would be if you were to print `test_list` after the entire code block is run, then \n",
    "    - run each code block in its own coding cell below, and check your prediction, and finally\n",
    "    - if your prediction was not correct, make sure you understand where you went wrong."
   ]
  },
  {
   "cell_type": "markdown",
   "metadata": {},
   "source": [
    "**Block 1**\n",
    "    \n",
    "    test_list = []\n",
    "    test_list.append(3)\n",
    "    test_list.append(2)\n",
    "    test_list.append(5)\n",
    "    test_list[1] = 3\n",
    "    test_list[0] = 2\n",
    "    test_list.append(4)\n",
    "    test_list[3] = 5\n",
    "    test_list[2] = 4\n",
    "    \n",
    "[2, 3, 4, 5]"
   ]
  },
  {
   "cell_type": "code",
   "execution_count": 5,
   "metadata": {},
   "outputs": [
    {
     "name": "stdout",
     "output_type": "stream",
     "text": [
      "[2, 3, 4, 5]\n"
     ]
    }
   ],
   "source": [
    "test_list = []\n",
    "test_list.append(3)\n",
    "test_list.append(2)\n",
    "test_list.append(5)\n",
    "test_list[1] = 3\n",
    "test_list[0] = 2\n",
    "test_list.append(4)\n",
    "test_list[3] = 5\n",
    "test_list[2] = 4\n",
    "\n",
    "print(test_list)"
   ]
  },
  {
   "cell_type": "markdown",
   "metadata": {},
   "source": [
    "**Block 2**\n",
    "    \n",
    "    test_list = []\n",
    "    test_list.append([1,2])\n",
    "    test_list[0][1] = 3\n",
    "    test_list.append([1, 2])\n",
    "    test_list[1][0] = 257\n",
    "    test_list[0][0] = test_list[1][0]\n",
    "    \n",
    "[[257, 3], [257, 2]]"
   ]
  },
  {
   "cell_type": "code",
   "execution_count": 6,
   "metadata": {},
   "outputs": [
    {
     "name": "stdout",
     "output_type": "stream",
     "text": [
      "[[257, 3], [257, 2]]\n"
     ]
    }
   ],
   "source": [
    "test_list = []\n",
    "test_list.append([1,2])\n",
    "test_list[0][1] = 3\n",
    "test_list.append([1, 2])\n",
    "test_list[1][0] = 257\n",
    "test_list[0][0] = test_list[1][0]\n",
    "\n",
    "print(test_list)"
   ]
  },
  {
   "cell_type": "markdown",
   "metadata": {},
   "source": [
    "**Block 3**\n",
    "    \n",
    "    test_list = [[\"rhino\", \"cat\"], [\"elephant\", \"dog\"]]\n",
    "    test_list[0][1] = test_list[1][0]\n",
    "    test_list[1][1] = test_list[0][0]\n",
    "    test_list[1] = test_list[0]\n",
    "    \n",
    "[['rhino', 'elephant'], ['rhino', 'elephant']]"
   ]
  },
  {
   "cell_type": "code",
   "execution_count": 7,
   "metadata": {},
   "outputs": [
    {
     "name": "stdout",
     "output_type": "stream",
     "text": [
      "[['rhino', 'elephant'], ['rhino', 'elephant']]\n"
     ]
    }
   ],
   "source": [
    "test_list = [[\"rhino\", \"cat\"], [\"elephant\", \"dog\"]]\n",
    "test_list[0][1] = test_list[1][0]\n",
    "test_list[1][1] = test_list[0][0]\n",
    "test_list[1] = test_list[0]\n",
    "\n",
    "print(test_list)"
   ]
  },
  {
   "cell_type": "markdown",
   "metadata": {},
   "source": [
    "2. In each of the following code blocks, two lists are created and gives names `list_1` and `list_2`\n",
    "    - In each case, determine a sequence of steps (lines of python code) sufficient to turn `list_1` into `list_2`.\n",
    "    - Create a coding cell for each case, create `list_1`, perform those steps, and then print out the list to make sure your steps did what they were supposed to."
   ]
  },
  {
   "cell_type": "markdown",
   "metadata": {},
   "source": [
    "**Block 1**\n",
    "    \n",
    "    list_1 = []\n",
    "    list_2 = [17, 29, 31]"
   ]
  },
  {
   "cell_type": "code",
   "execution_count": 8,
   "metadata": {},
   "outputs": [
    {
     "name": "stdout",
     "output_type": "stream",
     "text": [
      "True\n"
     ]
    }
   ],
   "source": [
    "list_1 = []\n",
    "list_2 = [17, 29, 31]\n",
    "\n",
    "list_1.extend([17, 29, 31])\n",
    "\n",
    "print(list_1 == list_2)"
   ]
  },
  {
   "cell_type": "markdown",
   "metadata": {},
   "source": [
    "**Block 2**\n",
    "\n",
    "    list_1 = [\"cat\", \"dog\", \"mouse\"]\n",
    "    list_2 = [\"mouse\", \"cat\", \"dog\"]"
   ]
  },
  {
   "cell_type": "code",
   "execution_count": 9,
   "metadata": {},
   "outputs": [
    {
     "name": "stdout",
     "output_type": "stream",
     "text": [
      "True\n"
     ]
    }
   ],
   "source": [
    "list_1 = [\"cat\", \"dog\", \"mouse\"]\n",
    "list_2 = [\"mouse\", \"cat\", \"dog\"]\n",
    "\n",
    "list_1.insert(0,list_1.pop())\n",
    "\n",
    "print(list_1 == list_2)"
   ]
  },
  {
   "cell_type": "markdown",
   "metadata": {},
   "source": [
    "**Block 3**\n",
    "\n",
    "    list_1 = []\n",
    "    list_2 = [[\"cat\", \"dog\"], [\"elephant\", \"rhino\"]]"
   ]
  },
  {
   "cell_type": "code",
   "execution_count": 10,
   "metadata": {},
   "outputs": [
    {
     "name": "stdout",
     "output_type": "stream",
     "text": [
      "True\n"
     ]
    }
   ],
   "source": [
    "list_1 = []\n",
    "list_2 = [[\"cat\", \"dog\"], [\"elephant\", \"rhino\"]]\n",
    "\n",
    "list_1.extend([[\"cat\", \"dog\"], [\"elephant\", \"rhino\"]])\n",
    "\n",
    "print(list_1 == list_2)"
   ]
  },
  {
   "cell_type": "markdown",
   "metadata": {},
   "source": [
    "**Block 4**\n",
    "\n",
    "    list_1 = [[1, 2], [4, 5]]\n",
    "    list_2 = [[2, 1], [5, 4]]"
   ]
  },
  {
   "cell_type": "code",
   "execution_count": 11,
   "metadata": {},
   "outputs": [
    {
     "name": "stdout",
     "output_type": "stream",
     "text": [
      "True\n"
     ]
    }
   ],
   "source": [
    "list_1 = [[1, 2], [4, 5]]\n",
    "list_2 = [[2, 1], [5, 4]]\n",
    "\n",
    "for lst in list_1:\n",
    "    lst[0], lst[1] = lst[1], lst[0]\n",
    "\n",
    "print(list_1 == list_2)"
   ]
  },
  {
   "cell_type": "markdown",
   "metadata": {},
   "source": [
    "**Block 5**\n",
    "\n",
    "    list_1 = [[1, 2], [4, 5]]\n",
    "    list_2 = [[3, 2, 1], [6, 5, 4]]"
   ]
  },
  {
   "cell_type": "code",
   "execution_count": 12,
   "metadata": {},
   "outputs": [
    {
     "name": "stdout",
     "output_type": "stream",
     "text": [
      "True\n"
     ]
    }
   ],
   "source": [
    "list_1 = [[1, 2], [4, 5]]\n",
    "list_2 = [[3, 2, 1], [6, 5, 4]]\n",
    "\n",
    "for lst in list_1:\n",
    "    lst[0], lst[1] = lst[1], lst[0]\n",
    "    \n",
    "list_1[0].insert(0, 3)\n",
    "list_1[1].insert(0, 6)\n",
    "\n",
    "print(list_1 == list_2)"
   ]
  },
  {
   "cell_type": "markdown",
   "metadata": {},
   "source": [
    "### Exercises - systematic list creation and manipulation"
   ]
  },
  {
   "cell_type": "markdown",
   "metadata": {},
   "source": [
    "Complete each of the following exercises in its own coding cell below."
   ]
  },
  {
   "cell_type": "markdown",
   "metadata": {},
   "source": [
    "1. Create a list called `first_100_odd` containing the first 100 positive integers that are odd.  Print out the list to make sure you created the right list.\n"
   ]
  },
  {
   "cell_type": "code",
   "execution_count": 13,
   "metadata": {},
   "outputs": [
    {
     "name": "stdout",
     "output_type": "stream",
     "text": [
      "100\n",
      "[1, 3, 5, 7, 9, 11, 13, 15, 17, 19, 21, 23, 25, 27, 29, 31, 33, 35, 37, 39, 41, 43, 45, 47, 49, 51, 53, 55, 57, 59, 61, 63, 65, 67, 69, 71, 73, 75, 77, 79, 81, 83, 85, 87, 89, 91, 93, 95, 97, 99, 101, 103, 105, 107, 109, 111, 113, 115, 117, 119, 121, 123, 125, 127, 129, 131, 133, 135, 137, 139, 141, 143, 145, 147, 149, 151, 153, 155, 157, 159, 161, 163, 165, 167, 169, 171, 173, 175, 177, 179, 181, 183, 185, 187, 189, 191, 193, 195, 197, 199]\n"
     ]
    }
   ],
   "source": [
    "first_100_odd = [i*2+1 for i in range(100)]\n",
    "\n",
    "print(len(first_100_odd))\n",
    "print(first_100_odd)"
   ]
  },
  {
   "cell_type": "markdown",
   "metadata": {},
   "source": [
    "2. Create a list called `first_100_perfect` containing the first 100 positive integers that are perfect squares.  Print out the list to make sure you created the right list.\n"
   ]
  },
  {
   "cell_type": "code",
   "execution_count": 14,
   "metadata": {},
   "outputs": [
    {
     "name": "stdout",
     "output_type": "stream",
     "text": [
      "100\n",
      "[1, 4, 9, 16, 25, 36, 49, 64, 81, 100, 121, 144, 169, 196, 225, 256, 289, 324, 361, 400, 441, 484, 529, 576, 625, 676, 729, 784, 841, 900, 961, 1024, 1089, 1156, 1225, 1296, 1369, 1444, 1521, 1600, 1681, 1764, 1849, 1936, 2025, 2116, 2209, 2304, 2401, 2500, 2601, 2704, 2809, 2916, 3025, 3136, 3249, 3364, 3481, 3600, 3721, 3844, 3969, 4096, 4225, 4356, 4489, 4624, 4761, 4900, 5041, 5184, 5329, 5476, 5625, 5776, 5929, 6084, 6241, 6400, 6561, 6724, 6889, 7056, 7225, 7396, 7569, 7744, 7921, 8100, 8281, 8464, 8649, 8836, 9025, 9216, 9409, 9604, 9801, 10000]\n"
     ]
    }
   ],
   "source": [
    "first_100_perfect = [i**2 for i in range(1,100+1)]\n",
    "\n",
    "print(len(first_100_perfect))\n",
    "print(first_100_perfect)"
   ]
  },
  {
   "cell_type": "markdown",
   "metadata": {},
   "source": [
    "3. Create a list called `first_100_perfect_even` containing the first 100 positive integers that are even perfect squares.  Print out the list to make sure you created the right list.\n"
   ]
  },
  {
   "cell_type": "code",
   "execution_count": 15,
   "metadata": {},
   "outputs": [
    {
     "name": "stdout",
     "output_type": "stream",
     "text": [
      "100\n",
      "[4, 16, 36, 64, 100, 144, 196, 256, 324, 400, 484, 576, 676, 784, 900, 1024, 1156, 1296, 1444, 1600, 1764, 1936, 2116, 2304, 2500, 2704, 2916, 3136, 3364, 3600, 3844, 4096, 4356, 4624, 4900, 5184, 5476, 5776, 6084, 6400, 6724, 7056, 7396, 7744, 8100, 8464, 8836, 9216, 9604, 10000, 10404, 10816, 11236, 11664, 12100, 12544, 12996, 13456, 13924, 14400, 14884, 15376, 15876, 16384, 16900, 17424, 17956, 18496, 19044, 19600, 20164, 20736, 21316, 21904, 22500, 23104, 23716, 24336, 24964, 25600, 26244, 26896, 27556, 28224, 28900, 29584, 30276, 30976, 31684, 32400, 33124, 33856, 34596, 35344, 36100, 36864, 37636, 38416, 39204, 40000]\n"
     ]
    }
   ],
   "source": [
    "first_100_perfect_even = [i**2 for i in range(2, 200+2, 2)]\n",
    "\n",
    "print(len(first_100_perfect_even))\n",
    "print(first_100_perfect_even)"
   ]
  },
  {
   "cell_type": "markdown",
   "metadata": {},
   "source": [
    "4. Create a list `divisible_357` containing the first 100 positive integers that are divisible by both $3$, $5$, and $7$.  Print out the list to make sure you created the right list.\n"
   ]
  },
  {
   "cell_type": "code",
   "execution_count": 16,
   "metadata": {},
   "outputs": [
    {
     "name": "stdout",
     "output_type": "stream",
     "text": [
      "100\n",
      "[105, 210, 315, 420, 525, 630, 735, 840, 945, 1050, 1155, 1260, 1365, 1470, 1575, 1680, 1785, 1890, 1995, 2100, 2205, 2310, 2415, 2520, 2625, 2730, 2835, 2940, 3045, 3150, 3255, 3360, 3465, 3570, 3675, 3780, 3885, 3990, 4095, 4200, 4305, 4410, 4515, 4620, 4725, 4830, 4935, 5040, 5145, 5250, 5355, 5460, 5565, 5670, 5775, 5880, 5985, 6090, 6195, 6300, 6405, 6510, 6615, 6720, 6825, 6930, 7035, 7140, 7245, 7350, 7455, 7560, 7665, 7770, 7875, 7980, 8085, 8190, 8295, 8400, 8505, 8610, 8715, 8820, 8925, 9030, 9135, 9240, 9345, 9450, 9555, 9660, 9765, 9870, 9975, 10080, 10185, 10290, 10395, 10500]\n"
     ]
    }
   ],
   "source": [
    "# The LCM of 3, 5, and 7 is 105. Every number in this list will be a multiple of 105. \n",
    "lcm = 105\n",
    "\n",
    "divisible_357 = [i*lcm for i in range(1, 100+1)]\n",
    "\n",
    "print(len(divisible_357))\n",
    "print(divisible_357)"
   ]
  },
  {
   "cell_type": "markdown",
   "metadata": {},
   "source": [
    "5. Define a function called `fib_list` that takes in a positive integer $n$ as its only input and outputs a list containing the first $n$ Fibonnaci numbers in the correct order.  Test this function for a few reasonably small values of $n$ to make sure that the output is correct.\n"
   ]
  },
  {
   "cell_type": "code",
   "execution_count": 17,
   "metadata": {},
   "outputs": [
    {
     "name": "stdout",
     "output_type": "stream",
     "text": [
      "[0, 1, 1, 2, 3, 5, 8, 13, 21, 34]\n"
     ]
    }
   ],
   "source": [
    "# Use Fib Sequence Generator from Tutorial 1\n",
    "def fib_seq(n):\n",
    "    # Fibonnacci Generator\n",
    "    x0 = 0\n",
    "    x1 = 1\n",
    "    yield x0 # 1st number\n",
    "    yield x1 # 2nd number\n",
    "    \n",
    "    for i in range(n-2):\n",
    "        x1, x0 = x0 + x1, x1\n",
    "        yield x1\n",
    "        \n",
    "def fib_list(n):\n",
    "    return list(fib_seq(n))\n",
    "\n",
    "n = 10\n",
    "print(fib_list(n))"
   ]
  },
  {
   "cell_type": "markdown",
   "metadata": {},
   "source": [
    "6. Let $F_n$ denote the $n^\\mathrm{th}$ Fibonacci number.  Write a function that takes a positive integer $n$ as its only input and outputs a list whose $n^\\mathrm{th}$ element is the $F_n^2 + 1 - 1/F_n$.\n"
   ]
  },
  {
   "cell_type": "code",
   "execution_count": 18,
   "metadata": {},
   "outputs": [
    {
     "name": "stdout",
     "output_type": "stream",
     "text": [
      "[None, 1.0, 1.0, 4.5, 9.666666666666666, 25.8, 64.875, 169.92307692307693, 441.95238095238096, 1156.9705882352941]\n"
     ]
    }
   ],
   "source": [
    "# Use fib_seq from above\n",
    "# Since F_1 is defined as zero, this equation produces a divide by zero error. \n",
    "# In this case, let the first element be None. \n",
    "\n",
    "def fib_special_list(n):\n",
    "    return [i**2+1-1/i if i != 0 else None for i in fib_seq(n)]\n",
    "\n",
    "print(fib_special_list(n))"
   ]
  },
  {
   "cell_type": "markdown",
   "metadata": {},
   "source": [
    "7. Suppose that a person is running along the ground in the $x$-direction at a velocity of $v_x = 5\\,\\mathrm m/\\mathrm s$.  Create an array that contains the position of the runner (in meters) at $0.3$-second intervals for a total of 20 seconds."
   ]
  },
  {
   "cell_type": "code",
   "execution_count": 19,
   "metadata": {},
   "outputs": [
    {
     "name": "stdout",
     "output_type": "stream",
     "text": [
      "[0.0, 1.5, 3.0, 4.5, 6.0, 7.5, 9.0, 10.5, 12.0, 13.5, 15.0, 16.5, 18.0, 19.5, 21.0, 22.5, 24.0, 25.5, 27.0, 28.5, 30.0, 31.5, 33.0, 34.5, 36.0, 37.5, 39.0, 40.5, 42.0, 43.5, 45.0, 46.5, 48.0, 49.5, 51.0, 52.5, 54.0, 55.5, 57.0, 58.5, 60.0, 61.5, 63.0, 64.5, 66.0, 67.5, 69.0, 70.5, 72.0, 73.5, 75.0, 76.5, 78.0, 79.5, 81.0, 82.5, 84.0, 85.5, 87.0, 88.5, 90.0, 91.5, 93.0, 94.5, 96.0, 97.5, 99.0]\n"
     ]
    }
   ],
   "source": [
    "v = 5\n",
    "\n",
    "t_int = [t*0.3 for t in range(int(20/0.3)+1)]\n",
    "\n",
    "x = [round(v*t, 1) for t in t_int]\n",
    "\n",
    "print(x)"
   ]
  },
  {
   "cell_type": "markdown",
   "metadata": {},
   "source": [
    "### Exercises  - Imports"
   ]
  },
  {
   "cell_type": "markdown",
   "metadata": {},
   "source": [
    "1. Create a coding cell at the very top of this notebook, type the following lines, and press \n",
    "\n",
    "        import numpy as np\n",
    "        import scipy as sp\n",
    "   \n",
    "    Now type out `np.` and then press <kbd>Tab</kbd> to use tab completion -- you should drop down menu containing a list of every available numpy function.  Now type the letters `si` as well, and the list should shorten to only those numpy functions beginning with the letters `si`.  Within this list, use the down arrow key to navigate to `sin` and press <kbd>Enter</kbd>.  Complete the line of code so that it reads\n",
    "   \n",
    "        np.sin(1)\n",
    "       \n",
    "    then evaluate the cell, and you should see an appromation to the value of $\\sin(1)$ as the output."
   ]
  },
  {
   "cell_type": "code",
   "execution_count": 20,
   "metadata": {},
   "outputs": [],
   "source": [
    "import numpy as np\n",
    "import scipy as sp"
   ]
  },
  {
   "cell_type": "code",
   "execution_count": 21,
   "metadata": {},
   "outputs": [
    {
     "data": {
      "text/plain": [
       "0.8414709848078965"
      ]
     },
     "execution_count": 21,
     "metadata": {},
     "output_type": "execute_result"
    }
   ],
   "source": [
    "np.sin(1)"
   ]
  },
  {
   "cell_type": "markdown",
   "metadata": {},
   "source": [
    "2. In addition to functions, numpy contains commonly used numbers such as $\\pi$.  Here's how you type out the numpy version of $\\pi$:\n",
    "        \n",
    "        np.pi\n",
    "        \n",
    "    In a coding cell below, use a for loop to create a list called `some_sines` containing the numbers $\\sin(n\\pi/10)$ for $n=1,2,\\dots, 20$ then print out the list to make sure it contains the values you would expect."
   ]
  },
  {
   "cell_type": "code",
   "execution_count": 22,
   "metadata": {},
   "outputs": [
    {
     "name": "stdout",
     "output_type": "stream",
     "text": [
      "[0.309, 0.588, 0.809, 0.951, 1.0, 0.951, 0.809, 0.588, 0.309, 0.0, -0.309, -0.588, -0.809, -0.951, -1.0, -0.951, -0.809, -0.588, -0.309, -0.0]\n"
     ]
    }
   ],
   "source": [
    "some_sines = []\n",
    "\n",
    "# Use rounding to make numbers easier to read, and get rid of floating point error bogus on some numbers. \n",
    "for n in range(1, 20+1):\n",
    "    some_sines.append(round(np.sin(n * np.pi / 10), 3))\n",
    "    \n",
    "print(some_sines)"
   ]
  },
  {
   "cell_type": "markdown",
   "metadata": {},
   "source": [
    "3. Repeat the last exercise, but use a list comprehension to construct `some_sines`."
   ]
  },
  {
   "cell_type": "code",
   "execution_count": 23,
   "metadata": {},
   "outputs": [
    {
     "name": "stdout",
     "output_type": "stream",
     "text": [
      "[0.309, 0.588, 0.809, 0.951, 1.0, 0.951, 0.809, 0.588, 0.309, 0.0, -0.309, -0.588, -0.809, -0.951, -1.0, -0.951, -0.809, -0.588, -0.309, -0.0]\n"
     ]
    }
   ],
   "source": [
    "some_sines = [round(np.sin(n * np.pi / 10), 3) for n in range(1, 20+1)]\n",
    "\n",
    "print(some_sines)"
   ]
  },
  {
   "cell_type": "markdown",
   "metadata": {},
   "source": [
    "### Exercises - NumPy arrays"
   ]
  },
  {
   "cell_type": "markdown",
   "metadata": {},
   "source": [
    "1. Predict what you think the output of the following code would be, then copy and paste it into a new coding cell below, and check to see if your predictions came true:\n",
    "\n",
    "        integer_list = [n for n in range(1, 11)]\n",
    "        integer_array = np.array(integer_list)\n",
    "        another_integer_array = np.arange(1,11)\n",
    "\n",
    "        print(integer_list)\n",
    "        print(integer_array)\n",
    "        print(another_integer_array)\n",
    "\n",
    "        print(type(integer_list))\n",
    "        print(type(integer_array))\n",
    "        print(type(another_integer_array))\n",
    "        \n",
    "    Do you notice how one can distinguish between a list and an array when they're printed out?  What is the \"type\" of an array?\n",
    "    \n",
    "    \n",
    "    \n",
    "[1, 2, 3, 4, 5, 6, 7, 8, 9, 10]\n",
    "\n",
    "[ 1  2  3  4  5  6  7  8  9 10]\n",
    "\n",
    "[ 1  2  3  4  5  6  7  8  9 10]\n",
    "\n",
    "Note that Numpy arrays use a double space as a separator, compared to the comma space that python lists use. \n",
    "\n",
    "The type of normal lists is of type \"list\".\n",
    "\n",
    "Numpy arrays are of type \"numpy.ndarray\""
   ]
  },
  {
   "cell_type": "code",
   "execution_count": 24,
   "metadata": {},
   "outputs": [
    {
     "name": "stdout",
     "output_type": "stream",
     "text": [
      "[1, 2, 3, 4, 5, 6, 7, 8, 9, 10]\n",
      "[ 1  2  3  4  5  6  7  8  9 10]\n",
      "[ 1  2  3  4  5  6  7  8  9 10]\n",
      "<class 'list'>\n",
      "<class 'numpy.ndarray'>\n",
      "<class 'numpy.ndarray'>\n"
     ]
    }
   ],
   "source": [
    "integer_list = [n for n in range(1, 11)]\n",
    "integer_array = np.array(integer_list)\n",
    "another_integer_array = np.arange(1,11)\n",
    "\n",
    "print(integer_list)\n",
    "print(integer_array)\n",
    "print(another_integer_array)\n",
    "\n",
    "print(type(integer_list))\n",
    "print(type(integer_array))\n",
    "print(type(another_integer_array))"
   ]
  },
  {
   "cell_type": "markdown",
   "metadata": {},
   "source": [
    "2. Once you have done the last exercise, type out the following code and run it in a new cell.  Make sure the output aligns with what you expect it would be:\n",
    "\n",
    "        np.sin(integer_array)\n",
    "        np.cos(integer_array)\n",
    "        np.exp(integer_array)\n",
    "        \n",
    "The output looks good. "
   ]
  },
  {
   "cell_type": "code",
   "execution_count": 25,
   "metadata": {},
   "outputs": [
    {
     "name": "stdout",
     "output_type": "stream",
     "text": [
      "[ 0.84147098  0.90929743  0.14112001 -0.7568025  -0.95892427 -0.2794155\n",
      "  0.6569866   0.98935825  0.41211849 -0.54402111] \n",
      "\n",
      "[ 0.54030231 -0.41614684 -0.9899925  -0.65364362  0.28366219  0.96017029\n",
      "  0.75390225 -0.14550003 -0.91113026 -0.83907153] \n",
      "\n",
      "[2.71828183e+00 7.38905610e+00 2.00855369e+01 5.45981500e+01\n",
      " 1.48413159e+02 4.03428793e+02 1.09663316e+03 2.98095799e+03\n",
      " 8.10308393e+03 2.20264658e+04] \n",
      "\n"
     ]
    }
   ],
   "source": [
    " print(np.sin(integer_array), \"\\n\")\n",
    " print(np.cos(integer_array), \"\\n\")\n",
    " print(np.exp(integer_array), \"\\n\")"
   ]
  },
  {
   "cell_type": "markdown",
   "metadata": {},
   "source": [
    "3. In each of the code blocks below, an array called `test_array` is created and manipulated.  Predict what `test_array` will be at the end of the code block, then run each code block in its own coding cell to test your prediction.  If you prediction does not agree with the result, determine where you made your error.\n"
   ]
  },
  {
   "cell_type": "markdown",
   "metadata": {},
   "source": [
    "**Block 1**\n",
    "\n",
    "    test_array = np.ones(11)\n",
    "    array_1 = 3 * test_array\n",
    "    array_2 = 5 * test_array\n",
    "    test_array = array_1 + array_2\n",
    "    test_array = test_array / 4\n",
    "\n",
    "test_array will be an array of length 10 containing all \"2\""
   ]
  },
  {
   "cell_type": "code",
   "execution_count": 26,
   "metadata": {},
   "outputs": [
    {
     "name": "stdout",
     "output_type": "stream",
     "text": [
      "[2. 2. 2. 2. 2. 2. 2. 2. 2. 2. 2.]\n"
     ]
    }
   ],
   "source": [
    "test_array = np.ones(11)\n",
    "array_1 = 3 * test_array\n",
    "array_2 = 5 * test_array\n",
    "test_array = array_1 + array_2\n",
    "test_array = test_array / 4\n",
    "\n",
    "print(test_array)"
   ]
  },
  {
   "cell_type": "markdown",
   "metadata": {},
   "source": [
    "**Block 2**\n",
    "\n",
    "    hello = np.zeros(9)\n",
    "    goodbye = np.arange(1, 19, 2)\n",
    "    hello = 3 * (hello + 1)\n",
    "    test_array = (hello + goodbye) ** 2\n",
    "\n",
    "test_array will be an array of length 9 that are the squares of even integers starting at 4. So 4^2, 6^2, ... up to 20^2. "
   ]
  },
  {
   "cell_type": "code",
   "execution_count": 27,
   "metadata": {},
   "outputs": [
    {
     "name": "stdout",
     "output_type": "stream",
     "text": [
      "[ 16.  36.  64. 100. 144. 196. 256. 324. 400.]\n"
     ]
    }
   ],
   "source": [
    "hello = np.zeros(9)\n",
    "goodbye = np.arange(1, 19, 2)\n",
    "hello = 3 * (hello + 1)\n",
    "test_array = (hello + goodbye) ** 2\n",
    "\n",
    "print(test_array)"
   ]
  },
  {
   "cell_type": "markdown",
   "metadata": {},
   "source": [
    "**Block 3**\n",
    "\n",
    "    luke = np.ones(7)\n",
    "    leah = 2 * luke\n",
    "    han = 3 * luke\n",
    "    darth = 4 * luke\n",
    "    jabba = 5 * luke\n",
    "    (luke + leah) * han * (darth - jabba)\n",
    "\n",
    "There is no test_array in this example. But the final line of code will be a numpy array of length 7 containing all -9."
   ]
  },
  {
   "cell_type": "code",
   "execution_count": 28,
   "metadata": {},
   "outputs": [
    {
     "data": {
      "text/plain": [
       "array([-9., -9., -9., -9., -9., -9., -9.])"
      ]
     },
     "execution_count": 28,
     "metadata": {},
     "output_type": "execute_result"
    }
   ],
   "source": [
    "luke = np.ones(7)\n",
    "leah = 2 * luke\n",
    "han = 3 * luke\n",
    "darth = 4 * luke\n",
    "jabba = 5 * luke\n",
    "(luke + leah) * han * (darth - jabba)"
   ]
  },
  {
   "cell_type": "markdown",
   "metadata": {},
   "source": [
    "**Block 4**\n",
    "\n",
    "    charm = np.pi * np.ones(20) / 2\n",
    "    bottom = np.sin(charm)\n",
    "    up = np.cos(charm)\n",
    "    test_array = bottom * up\n",
    "\n",
    "test_array will be an array of length 20 where each element is sin(pi/2)*cos(pi/2)\n",
    "\n",
    "Technically correct, but floating point error makes the values not exactly zero. "
   ]
  },
  {
   "cell_type": "code",
   "execution_count": 29,
   "metadata": {},
   "outputs": [
    {
     "name": "stdout",
     "output_type": "stream",
     "text": [
      "[6.123234e-17 6.123234e-17 6.123234e-17 6.123234e-17 6.123234e-17\n",
      " 6.123234e-17 6.123234e-17 6.123234e-17 6.123234e-17 6.123234e-17\n",
      " 6.123234e-17 6.123234e-17 6.123234e-17 6.123234e-17 6.123234e-17\n",
      " 6.123234e-17 6.123234e-17 6.123234e-17 6.123234e-17 6.123234e-17]\n"
     ]
    }
   ],
   "source": [
    "charm = np.pi * np.ones(20) / 2\n",
    "bottom = np.sin(charm)\n",
    "up = np.cos(charm)\n",
    "test_array = bottom * up\n",
    "\n",
    "print(test_array)"
   ]
  },
  {
   "cell_type": "markdown",
   "metadata": {},
   "source": [
    "**Block 5**\n",
    "\n",
    "    test_array = np.sin(np.pi * np.array([n ** 2 for n in range(5)]) / 4)\n",
    "    heisenberg = test_array ** 2\n",
    "    schrodinger = test_array ** 3\n",
    "    pauli = test_array\n",
    "    test_array = (heisenberg + schrodinger + pauli) ** 2\n",
    "    \n",
    "test_array is an array of 5 elements where the elements are garbage. \n",
    "\n",
    "Let x = sin(pi * (n^2) / 4)\n",
    "\n",
    "Then the elements are (x + x^2 + x^3)^2 for n in range 5 "
   ]
  },
  {
   "cell_type": "code",
   "execution_count": 30,
   "metadata": {},
   "outputs": [
    {
     "name": "stdout",
     "output_type": "stream",
     "text": [
      "[0.00000000e+00 2.43566017e+00 1.49975978e-32 2.43566017e+00\n",
      " 2.39961565e-31]\n",
      "[0.0, 2.435660171779821, 1.4997597826618582e-32, 2.4356601717798188, 2.3996156522589704e-31]\n"
     ]
    }
   ],
   "source": [
    "test_array = np.sin(np.pi * np.array([n ** 2 for n in range(5)]) / 4)\n",
    "heisenberg = test_array ** 2\n",
    "schrodinger = test_array ** 3\n",
    "pauli = test_array\n",
    "test_array = (heisenberg + schrodinger + pauli) ** 2\n",
    "\n",
    "print(test_array)\n",
    "\n",
    "x = [np.sin(np.pi * (n**2) / 4) for n in range(5)]\n",
    "is_test_array = [(i + i**2 + i**3)**2 for i in x]\n",
    "print(is_test_array)"
   ]
  },
  {
   "cell_type": "markdown",
   "metadata": {},
   "source": [
    "### Exercises - array creation and manipulation"
   ]
  },
  {
   "cell_type": "markdown",
   "metadata": {},
   "source": [
    "1. It was mentioned above that importing numpy with the abbreviation `np` instead of using a method of importing that allows one to avoid the `numpy` or `np` prefix is good practice because then when one calls a NumPy function, it's clear that the NumPy implementation of that function is being used instead of some other implementation.  To see an explicit example of this, consider the sine function.  Aside from NumPy, there is another commonly-used implementation of sine in the `math` package which can be imported in the standard way\n",
    "\n",
    "        import math\n",
    "        \n",
    "    Then, as with any function contained within a package, we can use the sine function from the math package with the \"dot\" syntax `math.sin`.\n",
    "    - Create a NumPy array with 10 entries whose elements are $n\\pi/2$ for $n = 0,1, \\dots, 9$.\n",
    "    - Apply the NumPy sine function to this array, and make sure the result is what you'd expect.\n",
    "    - Apply the math sine function to this array.  What happened and why?\n",
    "    - You should have found that the math sine function did not operate in the same way as the NumPy sine function.\n",
    "\n"
   ]
  },
  {
   "cell_type": "code",
   "execution_count": 31,
   "metadata": {},
   "outputs": [
    {
     "name": "stdout",
     "output_type": "stream",
     "text": [
      "[ 0.0000000e+00  1.0000000e+00  1.2246468e-16 -1.0000000e+00\n",
      " -2.4492936e-16  1.0000000e+00  3.6739404e-16 -1.0000000e+00\n",
      " -4.8985872e-16  1.0000000e+00]\n"
     ]
    }
   ],
   "source": [
    "import math\n",
    "\n",
    "a = np.array([n * np.pi / 2 for n in range(10)])\n",
    "\n",
    "print(np.sin(a))\n",
    "# I wouldn't exactly say this produced the results I expected, due to floating point error.\n",
    "\n",
    "# print(math.sin(a))\n",
    "# Raises a TypeError(\"only size-1 arrays can be converted to Python scalars\")"
   ]
  },
  {
   "cell_type": "markdown",
   "metadata": {},
   "source": [
    "For each of these exercises, create the specified list/array in as many of the following three ways as you can:\n",
    "\n",
    "- Use a loop to create a list with the desired elements and then convert it to an array.\n",
    "- Use a list comprehention to create a list with the desired elements and then convert it to an array.\n",
    "- Use only numpy commands to direction create an array with the desired elements."
   ]
  },
  {
   "cell_type": "markdown",
   "metadata": {},
   "source": [
    "- Create an array of shape `(1, 50)` of zeros (a 50-dimensional zero vector) and call it `zero`.  Use NumPy's `shape` function to check the shape of the array.\n"
   ]
  },
  {
   "cell_type": "code",
   "execution_count": 32,
   "metadata": {},
   "outputs": [
    {
     "name": "stdout",
     "output_type": "stream",
     "text": [
      "(1, 50)\n",
      "(1, 50)\n"
     ]
    }
   ],
   "source": [
    "lc = np.array([[0 for i in range(50)]])\n",
    "na = np.array([np.zeros(50)])\n",
    "\n",
    "print(np.shape(lc))\n",
    "print(np.shape(na))"
   ]
  },
  {
   "cell_type": "markdown",
   "metadata": {},
   "source": [
    "- Create an array of shape `(1, 25)` of all zeros except make the 7th element equal to 3. Use NumPy's `shape` function to check the shape of the array.\n"
   ]
  },
  {
   "cell_type": "code",
   "execution_count": 33,
   "metadata": {},
   "outputs": [
    {
     "name": "stdout",
     "output_type": "stream",
     "text": [
      "(1, 25)\n",
      "(1, 25)\n",
      "[[0 0 0 0 0 0 0 3 0 0 0 0 0 0 0 0 0 0 0 0 0 0 0 0 0]]\n",
      "[[0. 0. 0. 0. 0. 0. 0. 3. 0. 0. 0. 0. 0. 0. 0. 0. 0. 0. 0. 0. 0. 0. 0. 0.\n",
      "  0.]]\n"
     ]
    }
   ],
   "source": [
    "lc = [[0 for i in range(25)]]\n",
    "lc[0][7] = 3\n",
    "lc = np.array(lc)\n",
    "\n",
    "print(np.shape(lc))\n",
    "\n",
    "na = np.array([np.zeros(25)])\n",
    "na[0, 7] = 3\n",
    "\n",
    "print(np.shape(na))\n",
    "\n",
    "print(lc)\n",
    "print(na)"
   ]
  },
  {
   "cell_type": "markdown",
   "metadata": {},
   "source": [
    "- Create an array of shape `(1, 753)` containing whose $(2n)^\\mathrm{th}$ element is $(2n)^2$ for all $n$ and all other elements are zero. \n"
   ]
  },
  {
   "cell_type": "code",
   "execution_count": 34,
   "metadata": {},
   "outputs": [
    {
     "name": "stdout",
     "output_type": "stream",
     "text": [
      "(1, 753)\n",
      "(1, 753)\n"
     ]
    }
   ],
   "source": [
    "# Every even element should have an index equal to the index squared. Odd elements are zet to zero. \n",
    "\n",
    "lc = [[n**2 if n%2 == 0 else 0 for n in range(753)]]\n",
    "lc = np.array(lc)\n",
    "\n",
    "print(np.shape(lc))\n",
    "\n",
    "na = np.array([np.zeros(753)])\n",
    "for n in range(0, 753, 2):\n",
    "    na[0,n] = n**2\n",
    "    \n",
    "print(np.shape(na))\n"
   ]
  },
  {
   "cell_type": "markdown",
   "metadata": {},
   "source": [
    "- Create an array of shape `(5, 5)` such that each value is a uniform random number between 0 and 1.  Hint: look in the NumPy documentation for a function that generates uniform random numbers in a certain range.\n"
   ]
  },
  {
   "cell_type": "code",
   "execution_count": 35,
   "metadata": {},
   "outputs": [
    {
     "name": "stdout",
     "output_type": "stream",
     "text": [
      "(5, 5)\n",
      "(5, 5)\n"
     ]
    }
   ],
   "source": [
    "lc = [[np.random.uniform(0,1) for j in range(5)] for i in range(5)]\n",
    "lc = np.array(lc)\n",
    "\n",
    "print(np.shape(lc))\n",
    "\n",
    "na = np.random.uniform(0,1, size=(5,5))\n",
    "\n",
    "print(np.shape(na))"
   ]
  },
  {
   "cell_type": "markdown",
   "metadata": {},
   "source": [
    "- Suppose that a person is running along the ground in the $x$-direction at a velocity of $v_x = 5\\,\\mathrm m/\\mathrm s$.  Create an array that contains the position of the runner at $0.3$-second intervals for a total of 20 seconds."
   ]
  },
  {
   "cell_type": "code",
   "execution_count": 36,
   "metadata": {},
   "outputs": [
    {
     "name": "stdout",
     "output_type": "stream",
     "text": [
      "[ 0.   1.5  3.   4.5  6.   7.5  9.  10.5 12.  13.5 15.  16.5 18.  19.5\n",
      " 21.  22.5 24.  25.5 27.  28.5 30.  31.5 33.  34.5 36.  37.5 39.  40.5\n",
      " 42.  43.5 45.  46.5 48.  49.5 51.  52.5 54.  55.5 57.  58.5 60.  61.5\n",
      " 63.  64.5 66.  67.5 69.  70.5 72.  73.5 75.  76.5 78.  79.5 81.  82.5\n",
      " 84.  85.5 87.  88.5 90.  91.5 93.  94.5 96.  97.5 99. ]\n"
     ]
    }
   ],
   "source": [
    "# Native python approach was done in previous example. \n",
    "v = 5\n",
    "\n",
    "t_int = np.arange(0, 20, 0.3)\n",
    "na = v * t_int\n",
    "print(na)"
   ]
  },
  {
   "cell_type": "markdown",
   "metadata": {},
   "source": [
    "### Exercises - 2D plot creation"
   ]
  },
  {
   "cell_type": "code",
   "execution_count": 37,
   "metadata": {},
   "outputs": [],
   "source": [
    "import matplotlib.pyplot as plt\n",
    "\n",
    "%matplotlib inline"
   ]
  },
  {
   "cell_type": "markdown",
   "metadata": {},
   "source": [
    "1. Plot the sine and cosine functions on the same plot over the interval $[-3\\pi, 5\\pi]$.  Use a solid red line for the sine function, and a dashed green line for the cosine function.  Label the $x$-axis with the word \"angle\" and label the $y$-axis with the phrase \"function value.\"\n"
   ]
  },
  {
   "cell_type": "code",
   "execution_count": 38,
   "metadata": {},
   "outputs": [
    {
     "data": {
      "text/plain": [
       "[<matplotlib.lines.Line2D at 0x1172c22e0>]"
      ]
     },
     "execution_count": 38,
     "metadata": {},
     "output_type": "execute_result"
    },
    {
     "data": {
      "image/png": "[encoded data removed]",
      "text/plain": [
       "<Figure size 432x288 with 1 Axes>"
      ]
     },
     "metadata": {
      "needs_background": "light"
     },
     "output_type": "display_data"
    }
   ],
   "source": [
    "x_values = np.linspace(-3 * np.pi, 5 * np.pi, 200)\n",
    "y_sin = np.sin(x_values)\n",
    "y_cos = np.cos(x_values)\n",
    "\n",
    "plt.xlabel('angle')\n",
    "plt.ylabel('function value')\n",
    "plt.title('Sine and Cose')\n",
    "\n",
    "plt.plot(x_values, y_sin, color = 'red')\n",
    "plt.plot(x_values, y_cos, color = 'green', linestyle = '--')"
   ]
  },
  {
   "cell_type": "markdown",
   "metadata": {},
   "source": [
    "2. Generate a plot containing one curve for each $\\sin(n\\pi x)$ as $n$ ranges over the values $1, 2, \\dots 9$.  use solid lines for all curves, but have the highest \"frequency\" curve ($n = 9$) be plotted in blue, the lowest frequency curve ($n=1$) plotted in red, and the curves in between plotted in some gradient going from blue to red so that the middle frequency curve ($n=5$) appears in purple."
   ]
  },
  {
   "cell_type": "code",
   "execution_count": 39,
   "metadata": {},
   "outputs": [
    {
     "data": {
      "image/png": "[encoded data removed]",
      "text/plain": [
       "<Figure size 432x288 with 1 Axes>"
      ]
     },
     "metadata": {
      "needs_background": "light"
     },
     "output_type": "display_data"
    }
   ],
   "source": [
    "x_values = np.linspace(0, 2, 100)\n",
    "\n",
    "for n in range(1, 10):\n",
    "    # Do a little algebra to get these values\n",
    "    red = (-1/8)*n+(9/8)\n",
    "    blue = (1/8)*n+(-1/8)\n",
    "    color = (red, 0, blue)\n",
    "    \n",
    "    y_values = np.sin(n * np.pi * x_values)\n",
    "    plt.plot(x_values, y_values, color = color)"
   ]
  },
  {
   "cell_type": "code",
   "execution_count": null,
   "metadata": {},
   "outputs": [],
   "source": []
  }
 ],
 "metadata": {
  "kernelspec": {
   "display_name": "Python 3",
   "language": "python",
   "name": "python3"
  },
  "language_info": {
   "codemirror_mode": {
    "name": "ipython",
    "version": 3
   },
   "file_extension": ".py",
   "mimetype": "text/x-python",
   "name": "python",
   "nbconvert_exporter": "python",
   "pygments_lexer": "ipython3",
   "version": "3.8.5"
  }
 },
 "nbformat": 4,
 "nbformat_minor": 2
}
