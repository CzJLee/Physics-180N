{
 "cells": [
  {
   "cell_type": "markdown",
   "metadata": {
    "colab_type": "text",
    "id": "ZVS6H0zYtFQ2"
   },
   "source": [
    "### Answers - changing the character of a cell / evaluating a cell\n",
    "\n",
    "Create your new cell(s) below this one."
   ]
  },
  {
   "cell_type": "markdown",
   "metadata": {},
   "source": [
    "Christian Lee\n",
    "\n",
    "The shortcut Shift + Enter will run the cell and select the cell below. "
   ]
  },
  {
   "cell_type": "markdown",
   "metadata": {
    "colab_type": "text",
    "id": "hFYrH798tFQ3"
   },
   "source": [
    "### Answers - a little practice with help in Jupyter\n",
    "\n",
    "Create your new cell(s) below this one."
   ]
  },
  {
   "cell_type": "code",
   "execution_count": 1,
   "metadata": {},
   "outputs": [],
   "source": [
    "print?"
   ]
  },
  {
   "cell_type": "markdown",
   "metadata": {
    "colab_type": "text",
    "id": "GURMetQBtFQ4"
   },
   "source": [
    "#### Written answer\n",
    "\n",
    "Type your answer(s) here.\n",
    "\n",
    "Typing a function name (print) followed by the \"?\" character prompts Jupyter Notebook to display a documentation page for that function. "
   ]
  },
  {
   "cell_type": "markdown",
   "metadata": {
    "colab_type": "text",
    "id": "y6tq0TO3tFQ5"
   },
   "source": [
    "### Answers - a little practice with tab completion\n",
    "\n",
    "Create your new cell(s) below this one."
   ]
  },
  {
   "cell_type": "code",
   "execution_count": 2,
   "metadata": {},
   "outputs": [
    {
     "name": "stdout",
     "output_type": "stream",
     "text": [
      "\n"
     ]
    }
   ],
   "source": [
    "print()"
   ]
  },
  {
   "cell_type": "markdown",
   "metadata": {},
   "source": [
    "2. Typing the letters \"pr\" and then tab will display a suggested autocomplete window with function or variable names that might match the text already entered. In this case, \"pr\" can be completed in many different ways. \n",
    "3. Attempting to autocomplete \"pri\" only found one term to complete, so it automatically complted \"print\" when tab is pressed. "
   ]
  },
  {
   "cell_type": "markdown",
   "metadata": {
    "colab_type": "text",
    "id": "t4pKGt2EtFQ6"
   },
   "source": [
    "### Answers - a little practice with magic functions\n",
    "\n",
    "Create your new cell(s) below this one."
   ]
  },
  {
   "cell_type": "code",
   "execution_count": 3,
   "metadata": {},
   "outputs": [],
   "source": [
    "%magic"
   ]
  },
  {
   "cell_type": "markdown",
   "metadata": {
    "colab_type": "text",
    "id": "rDvquCK5tFQ7"
   },
   "source": [
    "### Answers - the infamous \"Hello World\" program\n",
    "\n",
    "Create your new cell(s) below this one."
   ]
  },
  {
   "cell_type": "code",
   "execution_count": 4,
   "metadata": {},
   "outputs": [
    {
     "name": "stdout",
     "output_type": "stream",
     "text": [
      "Hello World!\n"
     ]
    }
   ],
   "source": [
    "print(\"Hello World!\")"
   ]
  },
  {
   "cell_type": "markdown",
   "metadata": {
    "colab_type": "text",
    "id": "EbH4LVtZtFQ8"
   },
   "source": [
    "### Answers - types of numbers\n",
    "\n",
    "Create your new cell(s) below this one."
   ]
  },
  {
   "cell_type": "code",
   "execution_count": 5,
   "metadata": {},
   "outputs": [
    {
     "name": "stdout",
     "output_type": "stream",
     "text": [
      "<class 'int'>\n",
      "<class 'float'>\n",
      "<class 'float'>\n",
      "<class 'complex'>\n"
     ]
    }
   ],
   "source": [
    " print(type(3))\n",
    " print(type(3.))\n",
    " print(type(3.0))\n",
    " print(type(3.0 + 0.0j))"
   ]
  },
  {
   "cell_type": "markdown",
   "metadata": {
    "colab_type": "text",
    "id": "uZ3nq6ectFQ9"
   },
   "source": [
    "#### Written answer\n",
    "\n",
    "Type your answer(s) below:\n",
    "\n",
    "1. No answer needed -- just observe behavior of code.\n",
    "2. Write your answer for each case:\n",
    "    1. int\n",
    "    2. float\n",
    "    3. float"
   ]
  },
  {
   "cell_type": "markdown",
   "metadata": {
    "colab_type": "text",
    "id": "wf3I5cwitFQ-"
   },
   "source": [
    "### Answers - results of basic arithmetical operations\n",
    "\n",
    "Create your new cell(s) below this one."
   ]
  },
  {
   "cell_type": "code",
   "execution_count": 6,
   "metadata": {},
   "outputs": [
    {
     "name": "stdout",
     "output_type": "stream",
     "text": [
      "17\n",
      "-13\n",
      "30\n",
      "<class 'int'>\n",
      "<class 'int'>\n",
      "<class 'int'>\n"
     ]
    }
   ],
   "source": [
    "print(2 + 15)\n",
    "print(2 - 15)\n",
    "print(2 * 15)\n",
    "print(type(2 + 15))\n",
    "print(type(2 - 15))\n",
    "print(type(2 * 15))"
   ]
  },
  {
   "cell_type": "markdown",
   "metadata": {
    "colab_type": "text",
    "id": "0lLgYcZUtFQ_"
   },
   "source": [
    "### Answers - data type predictions\n",
    "\n",
    "Type your answer(s) below:\n",
    "\n",
    "1. float\n",
    "2. float\n",
    "3. float\n",
    "4. division of two integers yields a float"
   ]
  },
  {
   "cell_type": "markdown",
   "metadata": {
    "colab_type": "text",
    "id": "60pX95pUtFQ_"
   },
   "source": [
    "### Answers - different kinds of division\n",
    "\n",
    "Type your answer(s) below:\n",
    "\n",
    "1. The \"//\" Operator is a floor divison, or integer divison operator. It returns the floor of standard division. \n",
    "2. Write your predictions, then comment on whether or not they were correct in each case:\n",
    "    1. 3.0 float\n",
    "    2. 4.0 float\n",
    "    3. 4.0 float (floor division of a float returns a float)\n",
    "    4. 3.0 float (floor division of a float returns a float)"
   ]
  },
  {
   "cell_type": "code",
   "execution_count": 8,
   "metadata": {},
   "outputs": [
    {
     "name": "stdout",
     "output_type": "stream",
     "text": [
      "3.0 3.2 3.4 3.6 3.8 4.0\n",
      "3 3 3 3 3 4\n",
      "<class 'float'>\n",
      "<class 'int'>\n"
     ]
    }
   ],
   "source": [
    "print(15 / 5, 16 / 5, 17 / 5, 18 / 5, 19 / 5, 20 / 5)\n",
    "print(15 // 5, 16 // 5, 17 // 5, 18 // 5, 19 // 5, 20 // 5)\n",
    "print(type(15 / 5))\n",
    "print(type(15 // 5))"
   ]
  },
  {
   "cell_type": "code",
   "execution_count": 12,
   "metadata": {},
   "outputs": [
    {
     "name": "stdout",
     "output_type": "stream",
     "text": [
      "3.0 <class 'float'>\n",
      "4.0 <class 'float'>\n",
      "4.0 <class 'float'>\n",
      "3.0 <class 'float'>\n"
     ]
    }
   ],
   "source": [
    "a = 2 + 3 / 3\n",
    "b = 2 * 6. / 3.\n",
    "c = 2 * 6. // 3.\n",
    "d = 5 - 7. // 3\n",
    "test = [a, b, c, d]\n",
    "\n",
    "for i in test:\n",
    "    print(f\"{i} {type(i)}\")"
   ]
  },
  {
   "cell_type": "markdown",
   "metadata": {
    "colab_type": "text",
    "id": "uznMUopTtFRA"
   },
   "source": [
    "### Answers - more computations"
   ]
  },
  {
   "cell_type": "markdown",
   "metadata": {
    "colab_type": "text",
    "id": "FxlZjjJMtFRA"
   },
   "source": [
    "#### Written answers - Predictions\n",
    "\n",
    "Type list of predictions here.\n",
    "\n",
    "1. 16 int\n",
    "2. 16.0 float\n",
    "3. (3+4j) complex\n",
    "4. True bool\n",
    "5. True bool\n",
    "6. True bool\n",
    "7. False bool\n",
    "8. True bool\n",
    "9. 0 int\n",
    "10. 1 int"
   ]
  },
  {
   "cell_type": "markdown",
   "metadata": {
    "colab_type": "text",
    "id": "6RH9VFLTtFRB"
   },
   "source": [
    "#### Answers in cells\n",
    "\n",
    "Create your new cell(s) below this one."
   ]
  },
  {
   "cell_type": "code",
   "execution_count": 14,
   "metadata": {},
   "outputs": [
    {
     "name": "stdout",
     "output_type": "stream",
     "text": [
      "16 <class 'int'>\n",
      "16.0 <class 'float'>\n",
      "(3+4j) <class 'complex'>\n",
      "True <class 'bool'>\n",
      "True <class 'bool'>\n",
      "True <class 'bool'>\n",
      "False <class 'bool'>\n",
      "True <class 'bool'>\n",
      "0 <class 'int'>\n",
      "1 <class 'int'>\n"
     ]
    }
   ],
   "source": [
    "a = 2 ** 4\n",
    "b = 2. ** 4\n",
    "c = (2 + 1j) ** 2\n",
    "d = 1 == 1\n",
    "e = 1. == 1\n",
    "f = 1 + 0j == 1\n",
    "g = 1 > 2\n",
    "h = 1 >= 1.\n",
    "i = 225 % 15\n",
    "j = 13 % 3\n",
    "test = [a, b, c, d, e, f, g, h, i, j]\n",
    "\n",
    "for i in test:\n",
    "    print(f\"{i} {type(i)}\")"
   ]
  },
  {
   "cell_type": "markdown",
   "metadata": {
    "colab_type": "text",
    "id": "7bYLpsa3tFRC"
   },
   "source": [
    "### Answers - Starting out with variables\n",
    "\n",
    "Create your new cell(s) below this one."
   ]
  },
  {
   "cell_type": "markdown",
   "metadata": {},
   "source": [
    "#### Block 1\n",
    "\n",
    "    this_is_a_variable = 13\n",
    "    this_is_a_variable_2 = 7\n",
    "    print(this_is_a_variable * this_is_a_variable_2)\n",
    "    \n",
    "91 int"
   ]
  },
  {
   "cell_type": "code",
   "execution_count": 15,
   "metadata": {},
   "outputs": [
    {
     "name": "stdout",
     "output_type": "stream",
     "text": [
      "91\n"
     ]
    }
   ],
   "source": [
    "this_is_a_variable = 13\n",
    "this_is_a_variable_2 = 7\n",
    "print(this_is_a_variable * this_is_a_variable_2)"
   ]
  },
  {
   "cell_type": "markdown",
   "metadata": {},
   "source": [
    "#### Block 2\n",
    "\n",
    "    variable = 10\n",
    "    VARIABLE = 13\n",
    "    print(variable == VARIABLE)\n",
    "    \n",
    "False bool"
   ]
  },
  {
   "cell_type": "code",
   "execution_count": 16,
   "metadata": {},
   "outputs": [
    {
     "name": "stdout",
     "output_type": "stream",
     "text": [
      "False\n"
     ]
    }
   ],
   "source": [
    "variable = 10\n",
    "VARIABLE = 13\n",
    "print(variable == VARIABLE)"
   ]
  },
  {
   "cell_type": "markdown",
   "metadata": {},
   "source": [
    "#### Block 3\n",
    "\n",
    "    x = 10\n",
    "    print(x)\n",
    "    x = 11\n",
    "    print(x)\n",
    "    \n",
    "10 int\n",
    "\n",
    "11 int"
   ]
  },
  {
   "cell_type": "code",
   "execution_count": 17,
   "metadata": {},
   "outputs": [
    {
     "name": "stdout",
     "output_type": "stream",
     "text": [
      "10\n",
      "11\n"
     ]
    }
   ],
   "source": [
    "x = 10\n",
    "print(x)\n",
    "x = 11\n",
    "print(x)"
   ]
  },
  {
   "cell_type": "markdown",
   "metadata": {},
   "source": [
    "#### Block 4\n",
    "\n",
    "    x = 10\n",
    "    print(x)\n",
    "    x = x + 3\n",
    "    print(x)\n",
    "    x = x - 3\n",
    "    print(x)\n",
    "    x = x ** 2\n",
    "    print(x)\n",
    "    \n",
    "10 int\n",
    "\n",
    "13 int\n",
    "\n",
    "10 int\n",
    "\n",
    "100 int"
   ]
  },
  {
   "cell_type": "code",
   "execution_count": 18,
   "metadata": {},
   "outputs": [
    {
     "name": "stdout",
     "output_type": "stream",
     "text": [
      "10\n",
      "13\n",
      "10\n",
      "100\n"
     ]
    }
   ],
   "source": [
    "x = 10\n",
    "print(x)\n",
    "x = x + 3\n",
    "print(x)\n",
    "x = x - 3\n",
    "print(x)\n",
    "x = x ** 2\n",
    "print(x)"
   ]
  },
  {
   "cell_type": "markdown",
   "metadata": {},
   "source": [
    "#### Block 5\n",
    "\n",
    "    x = 10\n",
    "    print(x)\n",
    "    x += 3\n",
    "    print(x)\n",
    "    x -= 3\n",
    "    print(x)\n",
    "    \n",
    "10 int\n",
    "\n",
    "13 int\n",
    "\n",
    "10 int"
   ]
  },
  {
   "cell_type": "code",
   "execution_count": 19,
   "metadata": {},
   "outputs": [
    {
     "name": "stdout",
     "output_type": "stream",
     "text": [
      "10\n",
      "13\n",
      "10\n"
     ]
    }
   ],
   "source": [
    "x = 10\n",
    "print(x)\n",
    "x += 3\n",
    "print(x)\n",
    "x -= 3\n",
    "print(x)"
   ]
  },
  {
   "cell_type": "markdown",
   "metadata": {},
   "source": [
    "#### Block 6\n",
    "\n",
    "    x = 10\n",
    "    print(x, type(x))\n",
    "    x = 13 + 0j\n",
    "    print(x, type(x))\n",
    "    x = \"Goodbye Sweet World!\"\n",
    "    print(x, type(x))\n",
    "    \n",
    "10 int\n",
    "\n",
    "(13+0j) complex\n",
    "\n",
    "Goodbye Sweet World! string"
   ]
  },
  {
   "cell_type": "code",
   "execution_count": 20,
   "metadata": {},
   "outputs": [
    {
     "name": "stdout",
     "output_type": "stream",
     "text": [
      "10 <class 'int'>\n",
      "(13+0j) <class 'complex'>\n",
      "Goodbye Sweet World! <class 'str'>\n"
     ]
    }
   ],
   "source": [
    "x = 10\n",
    "print(x, type(x))\n",
    "x = 13 + 0j\n",
    "print(x, type(x))\n",
    "x = \"Goodbye Sweet World!\"\n",
    "print(x, type(x))"
   ]
  },
  {
   "cell_type": "markdown",
   "metadata": {},
   "source": [
    "#### Block 7\n",
    "\n",
    "    x = 13\n",
    "    y = x\n",
    "    x = 7\n",
    "    print(y)\n",
    "    print(x)\n",
    "    \n",
    " 13 int\n",
    " \n",
    " 7 int"
   ]
  },
  {
   "cell_type": "code",
   "execution_count": 21,
   "metadata": {},
   "outputs": [
    {
     "name": "stdout",
     "output_type": "stream",
     "text": [
      "13\n",
      "7\n"
     ]
    }
   ],
   "source": [
    "x = 13\n",
    "y = x\n",
    "x = 7\n",
    "print(y)\n",
    "print(x)"
   ]
  },
  {
   "cell_type": "markdown",
   "metadata": {
    "colab_type": "text",
    "id": "tjfUnEHCtFRC"
   },
   "source": [
    "### Answers - predicting outcomes of programs with control flow statements\n",
    "\n",
    "Create your new cell(s) below this one."
   ]
  },
  {
   "cell_type": "markdown",
   "metadata": {},
   "source": [
    "#### Block 1\n",
    "\n",
    "    x = -3\n",
    "    y = 2\n",
    "    if x < 0:\n",
    "        print(y)\n",
    "        \n",
    " 2"
   ]
  },
  {
   "cell_type": "code",
   "execution_count": 22,
   "metadata": {},
   "outputs": [
    {
     "name": "stdout",
     "output_type": "stream",
     "text": [
      "2\n"
     ]
    }
   ],
   "source": [
    "x = -3\n",
    "y = 2\n",
    "if x < 0:\n",
    "    print(y)"
   ]
  },
  {
   "cell_type": "markdown",
   "metadata": {},
   "source": [
    "#### Block 2\n",
    "\n",
    "    x = -3\n",
    "    y = 2\n",
    "    if x > y:\n",
    "        print(x)\n",
    "        print(x - y)\n",
    "    if x < y:\n",
    "        print(y)\n",
    "        print(x + y)\n",
    "        \n",
    "  2\n",
    "  \n",
    "  -1"
   ]
  },
  {
   "cell_type": "code",
   "execution_count": 23,
   "metadata": {},
   "outputs": [
    {
     "name": "stdout",
     "output_type": "stream",
     "text": [
      "2\n",
      "-1\n"
     ]
    }
   ],
   "source": [
    "x = -3\n",
    "y = 2\n",
    "if x > y:\n",
    "    print(x)\n",
    "    print(x - y)\n",
    "if x < y:\n",
    "    print(y)\n",
    "    print(x + y)"
   ]
  },
  {
   "cell_type": "markdown",
   "metadata": {},
   "source": [
    "#### Block 3\n",
    "\n",
    "    x = 2\n",
    "    y = -3\n",
    "    x = y\n",
    "    y = 2\n",
    "    if x > y:\n",
    "        print(y)\n",
    "    if x < y:\n",
    "        print(x)\n",
    "    if x == y:\n",
    "        print(x + y - y + x)\n",
    "        \n",
    " -3"
   ]
  },
  {
   "cell_type": "code",
   "execution_count": 24,
   "metadata": {},
   "outputs": [
    {
     "name": "stdout",
     "output_type": "stream",
     "text": [
      "-3\n"
     ]
    }
   ],
   "source": [
    "x = 2\n",
    "y = -3\n",
    "x = y\n",
    "y = 2\n",
    "if x > y:\n",
    "    print(y)\n",
    "if x < y:\n",
    "    print(x)\n",
    "if x == y:\n",
    "    print(x + y - y + x)"
   ]
  },
  {
   "cell_type": "markdown",
   "metadata": {
    "colab_type": "text",
    "id": "5tSicQLvtFRD"
   },
   "source": [
    "### Answers - writing simple programs with control flow statements\n",
    "\n",
    "Create your new cell(s) below this one."
   ]
  },
  {
   "cell_type": "code",
   "execution_count": 27,
   "metadata": {},
   "outputs": [
    {
     "name": "stdout",
     "output_type": "stream",
     "text": [
      "17.1\n"
     ]
    }
   ],
   "source": [
    "# Program 1\n",
    "x, y, z = 13, 1, 17.1\n",
    "\n",
    "if abs(x - y) <= 4:\n",
    "    print(x + y)\n",
    "else:\n",
    "    print(z)"
   ]
  },
  {
   "cell_type": "code",
   "execution_count": 30,
   "metadata": {},
   "outputs": [
    {
     "name": "stdout",
     "output_type": "stream",
     "text": [
      "16807\n"
     ]
    }
   ],
   "source": [
    "# Program 2\n",
    "a = 5\n",
    "b = 7\n",
    "# both are odd\n",
    "\n",
    "if (a % 2) == 0 and (b % 2) == 0:\n",
    "    # both are even\n",
    "    print(a**b)\n",
    "\n",
    "if (a % 2) == 1 and (b % 2) == 1:\n",
    "    # both are odd\n",
    "    print(b**a)\n",
    "    \n",
    "if ((a % 2) == 0 and (b % 2) == 1) or ((a % 2) == 1 and (b % 2) == 0):\n",
    "    # XOR Even\n",
    "    print(a*b)"
   ]
  },
  {
   "cell_type": "markdown",
   "metadata": {
    "colab_type": "text",
    "id": "bC5Aem_YtFRD"
   },
   "source": [
    "### Answers  - predicting outcomes of programs that contain loops\n",
    "\n",
    "Type out precisely what you think the output of each code block above will be exactly as it will appear when the block is run in its own cell:\n",
    "\n",
    "#### Block 1\n",
    "\n",
    "    1\n",
    "    2\n",
    "    3\n",
    "    4\n",
    "    5\n",
    "    6\n",
    "    7\n",
    "    8\n",
    "    9\n",
    "    10\n",
    "\n",
    "#### Block 2\n",
    "\n",
    "    0\n",
    "    1\n",
    "    0\n",
    "    1\n",
    "    0\n",
    "    1\n",
    "\n",
    "#### Block 3\n",
    "\n",
    "    0\n",
    "    I don't like number 1\n",
    "    2\n",
    "    I don't like number 3\n",
    "    4\n",
    "    I don't like number 5\n",
    "    6\n",
    "    I don't like number 7\n",
    "    8\n",
    "    I don't like number 9\n",
    "    10\n",
    "    I don't like number 11\n",
    "    12\n",
    "\n",
    "#### Block 4\n",
    "\n",
    "    0\n",
    "    1\n",
    "    4\n",
    "    9\n",
    "    16\n",
    "    25\n",
    "\n",
    "#### Block 5\n",
    "\n",
    "    1\n",
    "    2\n",
    "    What a strange program"
   ]
  },
  {
   "cell_type": "code",
   "execution_count": 36,
   "metadata": {},
   "outputs": [
    {
     "name": "stdout",
     "output_type": "stream",
     "text": [
      "1\n",
      "2\n",
      "3\n",
      "4\n",
      "5\n",
      "6\n",
      "7\n",
      "8\n",
      "9\n",
      "10\n"
     ]
    }
   ],
   "source": [
    "# Block 1\n",
    "for n in range(10):\n",
    "    print(n+1)"
   ]
  },
  {
   "cell_type": "code",
   "execution_count": 32,
   "metadata": {},
   "outputs": [
    {
     "name": "stdout",
     "output_type": "stream",
     "text": [
      "0\n",
      "1\n",
      "0\n",
      "1\n",
      "0\n",
      "1\n"
     ]
    }
   ],
   "source": [
    "# Block 2\n",
    "for n in range(6):\n",
    "    print(n % 2)"
   ]
  },
  {
   "cell_type": "code",
   "execution_count": 33,
   "metadata": {},
   "outputs": [
    {
     "name": "stdout",
     "output_type": "stream",
     "text": [
      "0\n",
      "I don't like number 1\n",
      "2\n",
      "I don't like number 3\n",
      "4\n",
      "I don't like number 5\n",
      "6\n",
      "I don't like number 7\n",
      "8\n",
      "I don't like number 9\n",
      "10\n",
      "I don't like number 11\n",
      "12\n"
     ]
    }
   ],
   "source": [
    "# Block 3\n",
    "for n in range(13):\n",
    "    if n % 2 == 0:\n",
    "        print(n)\n",
    "    else:\n",
    "        print(\"I don't like number\", n)"
   ]
  },
  {
   "cell_type": "code",
   "execution_count": 34,
   "metadata": {},
   "outputs": [
    {
     "name": "stdout",
     "output_type": "stream",
     "text": [
      "0\n",
      "1\n",
      "4\n",
      "9\n",
      "16\n",
      "25\n"
     ]
    }
   ],
   "source": [
    "# Block 4\n",
    "n = 0\n",
    "while n < 6:\n",
    "    print(n ** 2)\n",
    "    n += 1"
   ]
  },
  {
   "cell_type": "code",
   "execution_count": 35,
   "metadata": {},
   "outputs": [
    {
     "name": "stdout",
     "output_type": "stream",
     "text": [
      "1\n",
      "2\n",
      "What a strange program\n"
     ]
    }
   ],
   "source": [
    "# Block 5\n",
    "n = 40\n",
    "while n > 0:\n",
    "    if n % 5 == 0:\n",
    "        print(n % 3)\n",
    "    n -= 4\n",
    "print(\"What a strange program\")"
   ]
  },
  {
   "cell_type": "markdown",
   "metadata": {
    "colab_type": "text",
    "id": "R1BrM0T6tFRE"
   },
   "source": [
    "### Answers - writing programs that repeat using loops\n",
    "\n",
    "Create your new cell(s) below this one."
   ]
  },
  {
   "cell_type": "code",
   "execution_count": 37,
   "metadata": {},
   "outputs": [
    {
     "name": "stdout",
     "output_type": "stream",
     "text": [
      "1\n",
      "3\n",
      "5\n",
      "7\n",
      "9\n",
      "11\n",
      "13\n",
      "15\n"
     ]
    }
   ],
   "source": [
    "# Question 1\n",
    "x = 1\n",
    "while x < 17:\n",
    "    print(x)\n",
    "    x += 2"
   ]
  },
  {
   "cell_type": "code",
   "execution_count": 38,
   "metadata": {},
   "outputs": [
    {
     "name": "stdout",
     "output_type": "stream",
     "text": [
      "1\n",
      "3\n",
      "5\n",
      "7\n",
      "9\n",
      "11\n",
      "13\n",
      "15\n"
     ]
    }
   ],
   "source": [
    "# Question 2\n",
    "for i in range(1, 17, 2):\n",
    "    print(i)"
   ]
  },
  {
   "cell_type": "code",
   "execution_count": 39,
   "metadata": {},
   "outputs": [
    {
     "name": "stdout",
     "output_type": "stream",
     "text": [
      "58\n",
      "This is a fun number!\n",
      "60\n",
      "This is a fun number!\n",
      "62\n",
      "This is a fun number!\n",
      "64\n",
      "This is a fun number!\n",
      "66\n",
      "This is a fun number!\n",
      "68\n",
      "This is a fun number!\n",
      "70\n",
      "This is a fun number!\n",
      "72\n",
      "This is a fun number!\n",
      "74\n",
      "This is a fun number!\n",
      "76\n",
      "This is a fun number!\n",
      "78\n",
      "This is a fun number!\n",
      "80\n",
      "This is a fun number!\n",
      "82\n",
      "This is a fun number!\n",
      "84\n",
      "This is a fun number!\n",
      "86\n",
      "This is a fun number!\n",
      "88\n",
      "This is a fun number!\n",
      "90\n",
      "This is a fun number!\n",
      "92\n",
      "This is a fun number!\n",
      "94\n",
      "This is a fun number!\n",
      "96\n",
      "This is a fun number!\n"
     ]
    }
   ],
   "source": [
    "# Question 3\n",
    "for i in range(58, 97):\n",
    "    if i % 2 == 0:\n",
    "        # is even\n",
    "        print(i)\n",
    "        print(\"This is a fun number!\")"
   ]
  },
  {
   "cell_type": "code",
   "execution_count": 40,
   "metadata": {},
   "outputs": [
    {
     "name": "stdout",
     "output_type": "stream",
     "text": [
      "1\n",
      "4\n",
      "9\n",
      "16\n",
      "25\n",
      "36\n",
      "49\n",
      "64\n",
      "81\n",
      "100\n",
      "121\n",
      "144\n",
      "169\n",
      "196\n"
     ]
    }
   ],
   "source": [
    "# Question 4\n",
    "for i in range(1, 15):\n",
    "    print(i**2)"
   ]
  },
  {
   "cell_type": "code",
   "execution_count": 57,
   "metadata": {},
   "outputs": [
    {
     "name": "stdout",
     "output_type": "stream",
     "text": [
      "0\n",
      "1\n",
      "1\n",
      "2\n",
      "3\n",
      "5\n",
      "8\n",
      "13\n",
      "21\n",
      "34\n"
     ]
    }
   ],
   "source": [
    "# Question 5\n",
    "def fib_seq(n):\n",
    "    # Fibonnacci Generator\n",
    "    x0 = 0\n",
    "    x1 = 1\n",
    "    yield x0 # 1st number\n",
    "    yield x1 # 2nd number\n",
    "    \n",
    "    for i in range(n-2):\n",
    "        x1, x0 = x0 + x1, x1\n",
    "        yield x1\n",
    "\n",
    "for i in fib_seq(10):\n",
    "    print(i)"
   ]
  },
  {
   "cell_type": "code",
   "execution_count": 46,
   "metadata": {},
   "outputs": [
    {
     "name": "stdout",
     "output_type": "stream",
     "text": [
      "34\n"
     ]
    }
   ],
   "source": [
    "# Question 6\n",
    "# Use simple iterative approach\n",
    "\n",
    "def fib_n(n):\n",
    "    # Return the nth Fibonnacci number\n",
    "    x0 = 0\n",
    "    x1 = 1\n",
    "    for i in range(n-2):\n",
    "        x1, x0 = x0 + x1, x1\n",
    "    return x1\n",
    "\n",
    "print(fib_n(10))"
   ]
  },
  {
   "cell_type": "markdown",
   "metadata": {
    "colab_type": "text",
    "id": "iXYRMnyrtFRE"
   },
   "source": [
    "### Answers - predicting the behaviors of functions with keyword arguments\n",
    "\n",
    "Type out precisely what you think the output of each line above will be exactly as it will appear when the line is run in its own cell:\n",
    "\n",
    "#### Line 1\n",
    "\n",
    "    1.0\n",
    "\n",
    "#### Line 2\n",
    "\n",
    "    31.25\n",
    "\n",
    "#### Line 3\n",
    "\n",
    "    17.0"
   ]
  },
  {
   "cell_type": "markdown",
   "metadata": {
    "colab_type": "text",
    "id": "oDuga01ctFRE"
   },
   "source": [
    "#### Answers in cells\n",
    "\n",
    "Create your new cell(s) below this one."
   ]
  },
  {
   "cell_type": "code",
   "execution_count": 47,
   "metadata": {},
   "outputs": [],
   "source": [
    "def f_kw(x, linear = True, slope = \"negative\"):\n",
    "    if linear == True:\n",
    "        if slope == \"negative\":\n",
    "            return -2.0 * x + 7.0\n",
    "        else:\n",
    "            return 2.0 * x + 7.0\n",
    "    else:\n",
    "        return 5 * x ** 2"
   ]
  },
  {
   "cell_type": "code",
   "execution_count": 48,
   "metadata": {},
   "outputs": [
    {
     "data": {
      "text/plain": [
       "1.0"
      ]
     },
     "execution_count": 48,
     "metadata": {},
     "output_type": "execute_result"
    }
   ],
   "source": [
    "# Line 1\n",
    "f_kw(3.0)"
   ]
  },
  {
   "cell_type": "code",
   "execution_count": 49,
   "metadata": {},
   "outputs": [
    {
     "data": {
      "text/plain": [
       "31.25"
      ]
     },
     "execution_count": 49,
     "metadata": {},
     "output_type": "execute_result"
    }
   ],
   "source": [
    "# Line 2\n",
    "f_kw(2.5, linear = False, slope = \"slopey\")"
   ]
  },
  {
   "cell_type": "code",
   "execution_count": 50,
   "metadata": {
    "scrolled": true
   },
   "outputs": [
    {
     "data": {
      "text/plain": [
       "17.0"
      ]
     },
     "execution_count": 50,
     "metadata": {},
     "output_type": "execute_result"
    }
   ],
   "source": [
    "# Line 3\n",
    "f_kw(2.0, slope = \"slopey\", linear = False) + f_kw(5.0)"
   ]
  },
  {
   "cell_type": "markdown",
   "metadata": {
    "colab_type": "text",
    "id": "H6Tn1YQwtFRF"
   },
   "source": [
    "### Answers -- writing functions\n",
    "\n",
    "Create your new cell(s) below this one."
   ]
  },
  {
   "cell_type": "markdown",
   "metadata": {},
   "source": [
    "In a coding cell in your answer notebook, define a function called `my_fifth_power` that takes a number as input and outputs the fifth power of that number.  Your implementation should use only Python's built-in multiplication operation -- no built-in power operation allowed.  Check to make sure that the Jupyter notebook now has saved this function in its tab completion list by creating a new coding cell, typing `m` and then pressing <kbd>Tab</kbd>.  A list of functions starting with the letter `m` that are available to you should pop up, and your function `my_fifth_power` should be somewhere on that list."
   ]
  },
  {
   "cell_type": "code",
   "execution_count": 58,
   "metadata": {},
   "outputs": [],
   "source": [
    "def my_fifth_power(n):\n",
    "    return n**5"
   ]
  },
  {
   "cell_type": "code",
   "execution_count": 59,
   "metadata": {},
   "outputs": [
    {
     "data": {
      "text/plain": [
       "32"
      ]
     },
     "execution_count": 59,
     "metadata": {},
     "output_type": "execute_result"
    }
   ],
   "source": [
    "my_fifth_power(2)"
   ]
  },
  {
   "cell_type": "markdown",
   "metadata": {},
   "source": [
    "Define a function `my_power` that uses only Python's built-in multiplication to compute any non-negative integer power of a number.  thus function should have two inputs, one for the integer and one for the power."
   ]
  },
  {
   "cell_type": "code",
   "execution_count": 62,
   "metadata": {},
   "outputs": [
    {
     "data": {
      "text/plain": [
       "256"
      ]
     },
     "execution_count": 62,
     "metadata": {},
     "output_type": "execute_result"
    }
   ],
   "source": [
    "def my_power(n, m):\n",
    "    # Return n ** m\n",
    "    total = 1\n",
    "    for i in range(m):\n",
    "        total *= n\n",
    "    return total\n",
    "\n",
    "# Test\n",
    "my_power(2, 8)"
   ]
  },
  {
   "cell_type": "markdown",
   "metadata": {},
   "source": [
    "Define a function `my_absolute` that takes a float as its input and outputs its absolute value."
   ]
  },
  {
   "cell_type": "code",
   "execution_count": 64,
   "metadata": {},
   "outputs": [
    {
     "data": {
      "text/plain": [
       "7.1"
      ]
     },
     "execution_count": 64,
     "metadata": {},
     "output_type": "execute_result"
    }
   ],
   "source": [
    "def my_absolute(n):\n",
    "    return abs(n)\n",
    "\n",
    "# Test\n",
    "my_absolute(-7.1)"
   ]
  },
  {
   "cell_type": "markdown",
   "metadata": {},
   "source": [
    "Define a function `my_max` that takes two numbers as inputs and outputs the larger number if they are different.  If the two numbers are the same, the function should output either of the two numbers."
   ]
  },
  {
   "cell_type": "code",
   "execution_count": 67,
   "metadata": {},
   "outputs": [
    {
     "data": {
      "text/plain": [
       "5"
      ]
     },
     "execution_count": 67,
     "metadata": {},
     "output_type": "execute_result"
    }
   ],
   "source": [
    "def my_max(n, m):\n",
    "    return max(n, m)\n",
    "\n",
    "# Test\n",
    "my_max(4, 5)"
   ]
  },
  {
   "cell_type": "markdown",
   "metadata": {},
   "source": [
    "Define a function `my_max_three` that takes three numbers as inputs and outputs their maximum."
   ]
  },
  {
   "cell_type": "code",
   "execution_count": 68,
   "metadata": {},
   "outputs": [
    {
     "data": {
      "text/plain": [
       "3"
      ]
     },
     "execution_count": 68,
     "metadata": {},
     "output_type": "execute_result"
    }
   ],
   "source": [
    "def my_max_three(a, b, c):\n",
    "    return max(a, b, c)\n",
    "\n",
    "# Test\n",
    "my_max_three(1, 2, 3)"
   ]
  },
  {
   "cell_type": "markdown",
   "metadata": {},
   "source": [
    "Define a function `my_integer_sum` that takes a positive integer `n` as its input and outputs the sum of all positive integers less than or equal to `n`."
   ]
  },
  {
   "cell_type": "code",
   "execution_count": 70,
   "metadata": {},
   "outputs": [
    {
     "data": {
      "text/plain": [
       "55"
      ]
     },
     "execution_count": 70,
     "metadata": {},
     "output_type": "execute_result"
    }
   ],
   "source": [
    "def my_integer_sum(n):\n",
    "    sum = 0\n",
    "    for i in range(1, n+1):\n",
    "        sum += i\n",
    "    return sum\n",
    "\n",
    "# Test\n",
    "\n",
    "my_integer_sum(10)"
   ]
  },
  {
   "cell_type": "markdown",
   "metadata": {},
   "source": [
    "Define a function `my_integer_sum_power` that takes a positive integer `n` and an optional positive integer `p` whose default value is $1$ as its input and outputs the sum of all powers $k^p$ where $k$ ranges through the positive integers less than or equal to `n`."
   ]
  },
  {
   "cell_type": "code",
   "execution_count": 73,
   "metadata": {},
   "outputs": [
    {
     "data": {
      "text/plain": [
       "5"
      ]
     },
     "execution_count": 73,
     "metadata": {},
     "output_type": "execute_result"
    }
   ],
   "source": [
    "def my_integer_sum_power(n, p = 1):\n",
    "    sum = 0\n",
    "    for i in range(1, n+1):\n",
    "        sum += i ** p\n",
    "    return sum\n",
    "\n",
    "# Test\n",
    "my_integer_sum_power(2, 2)\n",
    "# 1^2 + 2^2"
   ]
  },
  {
   "cell_type": "markdown",
   "metadata": {},
   "source": [
    "Define a function `my_integer_product` that takes a positive integer `n` as its input and computes the product of all positive integers less than or equal to `n` as its output."
   ]
  },
  {
   "cell_type": "code",
   "execution_count": 74,
   "metadata": {},
   "outputs": [
    {
     "data": {
      "text/plain": [
       "24"
      ]
     },
     "execution_count": 74,
     "metadata": {},
     "output_type": "execute_result"
    }
   ],
   "source": [
    "def my_integer_product(n):\n",
    "    # Same as factorial\n",
    "    product = 1\n",
    "    for i in range(1, n+1):\n",
    "        product *= i\n",
    "    return product\n",
    "\n",
    "# Test\n",
    "my_integer_product(4)"
   ]
  },
  {
   "cell_type": "markdown",
   "metadata": {},
   "source": [
    "Define a function `my_function_sum` that takes a float-valued function $f$ of integer argument and an integer $n$ as its inputs, and outputs the sum $f(1) + f(2) + \\cdots + f(n)$ as its output."
   ]
  },
  {
   "cell_type": "code",
   "execution_count": 75,
   "metadata": {},
   "outputs": [
    {
     "data": {
      "text/plain": [
       "-10"
      ]
     },
     "execution_count": 75,
     "metadata": {},
     "output_type": "execute_result"
    }
   ],
   "source": [
    "def my_function_sum(func, n):\n",
    "    sum = 0\n",
    "    for i in range(1, n+1):\n",
    "        sum += func(i)\n",
    "    return sum\n",
    "\n",
    "def make_negative(m):\n",
    "    return -abs(m)\n",
    "\n",
    "# Test\n",
    "my_function_sum(make_negative, 4)\n",
    "    "
   ]
  },
  {
   "cell_type": "markdown",
   "metadata": {},
   "source": [
    "Define a function `my_function_product` that takes a float-valued function $f$ of integer argument and an integer $n$ as its inputs, and outputs the product $f(1)\\cdot f(2) \\cdots f(n)$ as its output."
   ]
  },
  {
   "cell_type": "code",
   "execution_count": 77,
   "metadata": {},
   "outputs": [
    {
     "data": {
      "text/plain": [
       "-120"
      ]
     },
     "execution_count": 77,
     "metadata": {},
     "output_type": "execute_result"
    }
   ],
   "source": [
    "def my_function_product(func, n):\n",
    "    product = 1\n",
    "    for i in range(1, n+1):\n",
    "        product *= func(i)\n",
    "    return product\n",
    "\n",
    "def make_negative(m):\n",
    "    return -abs(m)\n",
    "\n",
    "# Test\n",
    "my_function_product(make_negative, 5)\n",
    "    "
   ]
  },
  {
   "cell_type": "markdown",
   "metadata": {},
   "source": [
    "Define a function `my_function_product_powers` that takes a float-valued function $f$ of integer argument, an integer $n$, and an optional integer $p$ whose default value is $1$ as its inputs, and outputs the product $f(1)^p\\cdot f(2)^p \\cdots f(n)^p$ as its output."
   ]
  },
  {
   "cell_type": "code",
   "execution_count": 82,
   "metadata": {},
   "outputs": [
    {
     "data": {
      "text/plain": [
       "36"
      ]
     },
     "execution_count": 82,
     "metadata": {},
     "output_type": "execute_result"
    }
   ],
   "source": [
    "def my_function_product_powers(func, n, p = 1):\n",
    "    product = 1\n",
    "    for i in range(1, n+1):\n",
    "        product *= func(i)**p\n",
    "    return product\n",
    "\n",
    "def make_negative(m):\n",
    "    return -abs(m)\n",
    "\n",
    "# Test\n",
    "my_function_product_powers(make_negative, 3, 2)\n",
    "# (-1)^2 * (-2)^2 * (-3)^2 = 1 * 4 * 9 = 36"
   ]
  }
 ],
 "metadata": {
  "colab": {
   "collapsed_sections": [],
   "name": "python_tutorial_session_1_answers.ipynb",
   "provenance": []
  },
  "kernelspec": {
   "display_name": "Python 3",
   "language": "python",
   "name": "python3"
  },
  "language_info": {
   "codemirror_mode": {
    "name": "ipython",
    "version": 3
   },
   "file_extension": ".py",
   "mimetype": "text/x-python",
   "name": "python",
   "nbconvert_exporter": "python",
   "pygments_lexer": "ipython3",
   "version": "3.8.5"
  }
 },
 "nbformat": 4,
 "nbformat_minor": 1
}
